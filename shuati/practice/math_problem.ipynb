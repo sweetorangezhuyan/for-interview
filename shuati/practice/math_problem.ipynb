{
 "cells": [
  {
   "cell_type": "markdown",
   "id": "f67cd76b",
   "metadata": {},
   "source": [
    "## 快乐数"
   ]
  },
  {
   "cell_type": "code",
   "execution_count": 7,
   "id": "ff962ba4",
   "metadata": {},
   "outputs": [],
   "source": [
    "def isHappy(n):\n",
    "    relist=[]## 如果出现重复则表示进入死循环，返回false\n",
    "    if len(str(n))==1 and n!=1:\n",
    "        return False  \n",
    "    while n!=1:\n",
    "        sumnum=0\n",
    "        for s in str(n):\n",
    "            sumnum+=int(s)**2 \n",
    "        print(sumnum)\n",
    "        if sumnum not in relist:\n",
    "            relist.append(sumnum)\n",
    "        else:\n",
    "            return False\n",
    "        n=sumnum\n",
    "    return True"
   ]
  },
  {
   "cell_type": "code",
   "execution_count": 10,
   "id": "ab376453",
   "metadata": {},
   "outputs": [
    {
     "data": {
      "text/plain": [
       "False"
      ]
     },
     "execution_count": 10,
     "metadata": {},
     "output_type": "execute_result"
    }
   ],
   "source": [
    "isHappy(7)"
   ]
  },
  {
   "cell_type": "markdown",
   "id": "1ff13072",
   "metadata": {},
   "source": [
    "## 阶乘后的0"
   ]
  },
  {
   "cell_type": "code",
   "execution_count": 21,
   "id": "f5b13937",
   "metadata": {},
   "outputs": [],
   "source": [
    "def trailingZeroes(n):\n",
    "    re=1\n",
    "    for i in range(2,n+1):\n",
    "        re=re*i\n",
    "    #print(re)\n",
    "    zsum=0\n",
    "    strre=str(re)\n",
    "    n=len(strre)-1\n",
    "    while n>=0 and strre[n] =='0':\n",
    "        zsum+=1\n",
    "        n=n-1\n",
    "    return zsum"
   ]
  },
  {
   "cell_type": "code",
   "execution_count": 23,
   "id": "b29aa304",
   "metadata": {},
   "outputs": [],
   "source": [
    "def trailingZeroes_1(n):\n",
    "    res=0\n",
    "    while n>=5:\n",
    "        n//=5\n",
    "        res+=n\n",
    "    return res"
   ]
  },
  {
   "cell_type": "code",
   "execution_count": 24,
   "id": "dc6c90f8",
   "metadata": {},
   "outputs": [
    {
     "data": {
      "text/plain": [
       "1"
      ]
     },
     "execution_count": 24,
     "metadata": {},
     "output_type": "execute_result"
    }
   ],
   "source": [
    "trailingZeroes(7)"
   ]
  },
  {
   "cell_type": "code",
   "execution_count": 25,
   "id": "0794db4f",
   "metadata": {},
   "outputs": [
    {
     "data": {
      "text/plain": [
       "65"
      ]
     },
     "execution_count": 25,
     "metadata": {},
     "output_type": "execute_result"
    }
   ],
   "source": [
    "ord('A')"
   ]
  },
  {
   "cell_type": "markdown",
   "id": "eaef16bd",
   "metadata": {},
   "source": [
    "## excel 表列序号"
   ]
  },
  {
   "cell_type": "code",
   "execution_count": 36,
   "id": "e23275ba",
   "metadata": {},
   "outputs": [],
   "source": [
    "def titleToNumber(columnTitle):\n",
    "    base=64\n",
    "    re=0\n",
    "    n=len(columnTitle)-1\n",
    "    for s in columnTitle:\n",
    "        now=(ord(s)-base)*26**n\n",
    "        n=n-1\n",
    "        re+=now\n",
    "    return re"
   ]
  },
  {
   "cell_type": "code",
   "execution_count": 41,
   "id": "196c0ed8",
   "metadata": {},
   "outputs": [
    {
     "data": {
      "text/plain": [
       "703"
      ]
     },
     "execution_count": 41,
     "metadata": {},
     "output_type": "execute_result"
    }
   ],
   "source": [
    "titleToNumber('AAA')"
   ]
  },
  {
   "cell_type": "markdown",
   "id": "27ceb001",
   "metadata": {},
   "source": [
    "## pow(x,y)"
   ]
  },
  {
   "cell_type": "code",
   "execution_count": 48,
   "id": "741d1a94",
   "metadata": {},
   "outputs": [],
   "source": [
    "def myPow( x, n):\n",
    "    if n<0:\n",
    "        x=1/x\n",
    "        n=abs(n)\n",
    "    res=1.0\n",
    "    while n>0:\n",
    "        if n%2!=0:\n",
    "            res*=x\n",
    "        x=x*x\n",
    "        n=n//2\n",
    "    return res\n",
    "        "
   ]
  },
  {
   "cell_type": "code",
   "execution_count": 51,
   "id": "41993f76",
   "metadata": {},
   "outputs": [
    {
     "data": {
      "text/plain": [
       "512.0"
      ]
     },
     "execution_count": 51,
     "metadata": {},
     "output_type": "execute_result"
    }
   ],
   "source": [
    "myPow(2,9)"
   ]
  },
  {
   "cell_type": "markdown",
   "id": "fc96cc2b",
   "metadata": {},
   "source": [
    "## x的平方根"
   ]
  },
  {
   "cell_type": "code",
   "execution_count": 64,
   "id": "329ad6b6",
   "metadata": {},
   "outputs": [],
   "source": [
    "def mySqrt(x):\n",
    "    if x==1 or x==0:\n",
    "        return x\n",
    "    for i in range(x):\n",
    "        if x>=i*i and x< (i+1)*(i+1):\n",
    "            return i"
   ]
  },
  {
   "cell_type": "code",
   "execution_count": 78,
   "id": "73ee9cb5",
   "metadata": {},
   "outputs": [],
   "source": [
    "def mySqrt_binary(x):\n",
    "    if x==0:\n",
    "        return x\n",
    "    left,right=0,x\n",
    "    while left<=right:\n",
    "        #print(1)\n",
    "        mid=(left+right)>>1\n",
    "        if mid*mid==x:\n",
    "            return mid\n",
    "        elif mid *mid <x:\n",
    "            if (mid+1)*(mid+1)>x:\n",
    "                return mid \n",
    "            left=mid+1\n",
    "        else:\n",
    "            if (mid-1)*(mid-1)<=x:\n",
    "                return mid-1\n",
    "            right=mid-1\n",
    "    return -1"
   ]
  },
  {
   "cell_type": "code",
   "execution_count": 79,
   "id": "7073c54e",
   "metadata": {},
   "outputs": [],
   "source": [
    "mySqrt(0)"
   ]
  },
  {
   "cell_type": "code",
   "execution_count": null,
   "id": "804f1c83",
   "metadata": {},
   "outputs": [],
   "source": []
  }
 ],
 "metadata": {
  "kernelspec": {
   "display_name": "Python 3 (ipykernel)",
   "language": "python",
   "name": "python3"
  },
  "language_info": {
   "codemirror_mode": {
    "name": "ipython",
    "version": 3
   },
   "file_extension": ".py",
   "mimetype": "text/x-python",
   "name": "python",
   "nbconvert_exporter": "python",
   "pygments_lexer": "ipython3",
   "version": "3.7.11"
  }
 },
 "nbformat": 4,
 "nbformat_minor": 5
}
