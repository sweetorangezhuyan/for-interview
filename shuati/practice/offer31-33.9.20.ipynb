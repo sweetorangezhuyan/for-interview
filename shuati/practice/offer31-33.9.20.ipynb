{
 "cells": [
  {
   "cell_type": "markdown",
   "id": "d3340c4e",
   "metadata": {},
   "source": [
    "## 栈的压入、弹出序列"
   ]
  },
  {
   "cell_type": "code",
   "execution_count": null,
   "id": "fca0b196",
   "metadata": {},
   "outputs": [],
   "source": [
    "算法流程 \n",
    "1. 初始化： 辅助栈stack，弹出序列的索引 i \n",
    "2. 遍历压栈序列 ： 各元素记为num ；\n",
    "    （1）元素 num 入栈 \n",
    "    （2）循环出栈 若stack的栈顶元素=弹出序列的pop[i]，则执行出栈操作和i++\n",
    "3. 返回值： 若stack为空，返回true"
   ]
  },
  {
   "cell_type": "code",
   "execution_count": 7,
   "id": "906d59b4",
   "metadata": {},
   "outputs": [],
   "source": [
    "def validateStackSequences( pushed, popped):\n",
    "    '''\n",
    "    input:pushed: List[int] 、popped: List[int]\n",
    "    return: bool\n",
    "    '''\n",
    "    if len(pushed)==0:\n",
    "        return True\n",
    "    stack=[]\n",
    "    i=0\n",
    "    for x in pushed:\n",
    "        stack.append(x)\n",
    "        while stack and stack[-1]==popped[i]:# loop pop(循环出栈)\n",
    "            stack.pop()\n",
    "            i+=1\n",
    "    if len(stack)==0:\n",
    "        return True\n",
    "    else:\n",
    "        return False"
   ]
  },
  {
   "cell_type": "code",
   "execution_count": 8,
   "id": "dd4d9118",
   "metadata": {},
   "outputs": [
    {
     "data": {
      "text/plain": [
       "True"
      ]
     },
     "execution_count": 8,
     "metadata": {},
     "output_type": "execute_result"
    }
   ],
   "source": [
    "pushed = [1,2,3,4,5]\n",
    "popped = [4,5,3,2,1]\n",
    "validateStackSequences(pushed,popped)"
   ]
  },
  {
   "cell_type": "markdown",
   "id": "bb5cb7ae",
   "metadata": {},
   "source": [
    "## 上到下遍历二叉树,层次便利，借助队列"
   ]
  },
  {
   "cell_type": "code",
   "execution_count": null,
   "id": "e0ac9f7e",
   "metadata": {},
   "outputs": [],
   "source": []
  }
 ],
 "metadata": {
  "kernelspec": {
   "display_name": "Python 3 (ipykernel)",
   "language": "python",
   "name": "python3"
  },
  "language_info": {
   "codemirror_mode": {
    "name": "ipython",
    "version": 3
   },
   "file_extension": ".py",
   "mimetype": "text/x-python",
   "name": "python",
   "nbconvert_exporter": "python",
   "pygments_lexer": "ipython3",
   "version": "3.7.11"
  }
 },
 "nbformat": 4,
 "nbformat_minor": 5
}
