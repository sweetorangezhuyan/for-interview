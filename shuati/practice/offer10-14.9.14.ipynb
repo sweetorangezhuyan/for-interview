{
 "cells": [
  {
   "cell_type": "markdown",
   "metadata": {},
   "source": [
    "## 青蛙跳台问题\n",
    " 一只青蛙一次可以跳上1级台阶，也可以跳上2级台阶。求该青蛙跳上一个 n 级的台阶总共有多少种跳法"
   ]
  },
  {
   "cell_type": "markdown",
   "metadata": {},
   "source": [
    "1.当跳1级台阶时，剩下n-1个台阶，共$f(n-1)$种跳法\n",
    "\n",
    "2.当跳2级台阶时，剩下n-2个台阶，共$f(n-2)$种跳法\n",
    "\n",
    "因此$f(n)=f(n-1)+f(n-2)$,$f(0)=1$,$f(1)=1$"
   ]
  },
  {
   "cell_type": "code",
   "execution_count": 41,
   "metadata": {
    "collapsed": true
   },
   "outputs": [],
   "source": [
    "def numWays(n):\n",
    "    if n<=1:\n",
    "        return 1\n",
    "    MOD=10**9+7\n",
    "    def multiply(a,b):\n",
    "        '''\n",
    "        a、b:List[List[int]]\n",
    "        '''\n",
    "        c=[[0,0],[0,0]]\n",
    "        for i in range(2):\n",
    "            for j in range(2):\n",
    "                c[i][j]=(a[i][0]*b[0][j]+a[i][1]*b[1][j])%MOD\n",
    "        return c\n",
    "    def matrix_pow(a,n):\n",
    "        ret=[[1,0],[0,1]]\n",
    "        while n>0:\n",
    "            if n&1:#n为偶数\n",
    "                ret=multiply(ret,a)\n",
    "            n>>=1# 除2操作\n",
    "            a=multiply(a,a)\n",
    "        return ret\n",
    "    res=matrix_pow([[1,1],[1,0]],n-1)\n",
    "    return (res[0][0]+res[0][1])%MOD"
   ]
  },
  {
   "cell_type": "code",
   "execution_count": 43,
   "metadata": {
    "collapsed": false
   },
   "outputs": [
    {
     "data": {
      "text/plain": [
       "134903163"
      ]
     },
     "execution_count": 43,
     "metadata": {},
     "output_type": "execute_result"
    }
   ],
   "source": [
    "numWays(44)"
   ]
  },
  {
   "cell_type": "code",
   "execution_count": 16,
   "metadata": {
    "collapsed": true
   },
   "outputs": [],
   "source": [
    "def numWays_1(n):    \n",
    "    MOD=10**9+7\n",
    "    if n<=1:\n",
    "        return 1\n",
    "    p,q,r=0,1,1\n",
    "    for _ in range(2,n+1):\n",
    "        p=q\n",
    "        q=r\n",
    "        r=(p+q)%MOD\n",
    "    return r\n",
    "        "
   ]
  },
  {
   "cell_type": "code",
   "execution_count": 33,
   "metadata": {
    "collapsed": false
   },
   "outputs": [
    {
     "data": {
      "text/plain": [
       "433494437"
      ]
     },
     "execution_count": 33,
     "metadata": {},
     "output_type": "execute_result"
    }
   ],
   "source": [
    "numWays_1(42)"
   ]
  },
  {
   "cell_type": "code",
   "execution_count": 34,
   "metadata": {
    "collapsed": false
   },
   "outputs": [
    {
     "data": {
      "text/plain": [
       "701408733"
      ]
     },
     "execution_count": 34,
     "metadata": {},
     "output_type": "execute_result"
    }
   ],
   "source": [
    "numWays_1(43)"
   ]
  },
  {
   "cell_type": "code",
   "execution_count": 36,
   "metadata": {
    "collapsed": false
   },
   "outputs": [
    {
     "data": {
      "text/plain": [
       "134903163"
      ]
     },
     "execution_count": 36,
     "metadata": {},
     "output_type": "execute_result"
    }
   ],
   "source": [
    "numWays_1(44)"
   ]
  },
  {
   "cell_type": "markdown",
   "metadata": {},
   "source": [
    "## 旋转数组的最小数字"
   ]
  },
  {
   "cell_type": "code",
   "execution_count": 51,
   "metadata": {
    "collapsed": true
   },
   "outputs": [],
   "source": [
    "def minArray(numbers):\n",
    "    '''\n",
    "    二分法\n",
    "    '''\n",
    "    if len(numbers)==1:\n",
    "        return numbers[0]\n",
    "    l=0\n",
    "    r=len(numbers)-1\n",
    "    mid=(l+r)//2\n",
    "    if numbers[r]>numbers[l]:\n",
    "        return numbers[l]\n",
    "    while l<=r:\n",
    "        if numbers[r]>numbers[l]:\n",
    "            return numbers[l]\n",
    "        if numbers[l]< numbers[mid]:# l---mid之间严格单调递增\n",
    "            l=mid+1\n",
    "            mid=(l+r)//2\n",
    "        elif numbers[l]>numbers[mid]:# \n",
    "            r=mid\n",
    "            l+=1\n",
    "            mid=(l+r)//2\n",
    "        else:\n",
    "            l+=1\n",
    "            mid=(l+r)//2\n",
    "    return numbers[mid]\n",
    "#     minnum=numbers[-1]\n",
    "#     mid=len(numbers)//2\n",
    "#     n=len(numbers)-2\n",
    "#     while n:\n",
    "#         if numbers[n]<minnum:\n",
    "#             minnum=numbers[n]\n",
    "#             n-=1\n",
    "#         else:\n",
    "#             break \n",
    "#     return minnum"
   ]
  },
  {
   "cell_type": "code",
   "execution_count": 53,
   "metadata": {
    "collapsed": false
   },
   "outputs": [
    {
     "data": {
      "text/plain": [
       "1"
      ]
     },
     "execution_count": 53,
     "metadata": {},
     "output_type": "execute_result"
    }
   ],
   "source": [
    "numbers = [3,4,5,1,2]\n",
    "minArray(numbers)"
   ]
  },
  {
   "cell_type": "code",
   "execution_count": 48,
   "metadata": {
    "collapsed": false
   },
   "outputs": [
    {
     "data": {
      "text/plain": [
       "2"
      ]
     },
     "execution_count": 48,
     "metadata": {},
     "output_type": "execute_result"
    }
   ],
   "source": [
    "5//2"
   ]
  },
  {
   "cell_type": "markdown",
   "metadata": {},
   "source": [
    "## 矩阵中的路径"
   ]
  },
  {
   "cell_type": "markdown",
   "metadata": {},
   "source": [
    "典型的矩阵搜索问题，使用**深度优先搜索（DFS）+剪枝**解决\n",
    "\n",
    "DFS：暴力遍历矩阵中所有字符串的可能性，先朝一个方向搜到底，再回溯到上个节点，沿另一个方向搜索\n",
    "\n",
    "剪枝：在搜索中，遇到*这条路不可能和目标字符串匹配成功* 立即返回，*可行性剪枝*"
   ]
  },
  {
   "cell_type": "code",
   "execution_count": null,
   "metadata": {
    "collapsed": true
   },
   "outputs": [],
   "source": [
    "def exist( board, word) :\n",
    "    def dfs(i,j,k):\n",
    "        if not 0<=i<len(board) or not 0<=j<len(board[0]) or board[i][j] !=word[k]:\n",
    "            return False\n",
    "        if k==len(word)-1:\n",
    "            return True\n",
    "        board[i][j]=''\n",
    "        res=dfs(i+1,j,k+1) or dfs(i-1,j,k+1) or dfs(i, j + 1, k + 1) or dfs(i, j - 1, k + 1)# 四个方向搜索下一个字符\n",
    "        board[i][j]=word[k]\n",
    "        return res\n",
    "    for i in range(len(board)):\n",
    "        for j in range(len(board[0])):\n",
    "            if dfs(i,j,0):\n",
    "                return True\n",
    "    return False"
   ]
  },
  {
   "cell_type": "markdown",
   "metadata": {},
   "source": [
    "## 剪绳子\n",
    "采用数学公式分析：尽可能将绳子以长度 33 等分为多段时，乘积最大。"
   ]
  },
  {
   "cell_type": "markdown",
   "metadata": {},
   "source": [
    "### 算法流程\n",
    "1.当$n<=3$，必须剪出一段长度为1的绳子，返回$n-1$\n",
    "\n",
    "2.当$n>3$，求n除以3的整数部分$a$和余数部分$b$，分为三种情况：\n",
    "\n",
    "(1)b==0,返回 $3^a$\n",
    "    \n",
    "(2)b==1,返回 $3^{(a-1)}*4$\n",
    "    \n",
    "(3)b==2,返回 $3^a*2$"
   ]
  },
  {
   "cell_type": "code",
   "execution_count": 57,
   "metadata": {
    "collapsed": true
   },
   "outputs": [],
   "source": [
    "import math\n",
    "def cuttingRope( n):\n",
    "    if n<=3:\n",
    "        return n-1\n",
    "    a,b=n//3,n%3\n",
    "    if b==0: \n",
    "        return int(math.pow(3,a))\n",
    "    if b==1: \n",
    "        return int(math.pow(3,a-1)*4)\n",
    "    return int(math.pow(3,a)*2)\n",
    "    "
   ]
  },
  {
   "cell_type": "code",
   "execution_count": 59,
   "metadata": {
    "collapsed": false
   },
   "outputs": [
    {
     "data": {
      "text/plain": [
       "4"
      ]
     },
     "execution_count": 59,
     "metadata": {},
     "output_type": "execute_result"
    }
   ],
   "source": [
    "cuttingRope(4)"
   ]
  },
  {
   "cell_type": "markdown",
   "metadata": {},
   "source": [
    "### 取余数"
   ]
  },
  {
   "cell_type": "code",
   "execution_count": 60,
   "metadata": {
    "collapsed": true
   },
   "outputs": [],
   "source": [
    "def cuttingRope( n):\n",
    "    if n<=3:\n",
    "        return n-1\n",
    "    a,b=n//3,n%3\n",
    "    ret=1\n",
    "    mod=10**9+7\n",
    "    for i in range(1,a):\n",
    "        ret=ret*3%mod\n",
    "    if b==0: \n",
    "        return int(ret*3%mod)\n",
    "    if b==1: \n",
    "        return int(ret*4%mod)\n",
    "    return int(ret*6%mod)"
   ]
  },
  {
   "cell_type": "markdown",
   "metadata": {},
   "source": [
    "## 股票的最大利润"
   ]
  },
  {
   "cell_type": "code",
   "execution_count": 6,
   "metadata": {
    "collapsed": true
   },
   "outputs": [],
   "source": [
    "def maxProfit(prices):\n",
    "    if len(prices)==1:\n",
    "        return 0\n",
    "    pro=0\n",
    "    min_num=prices[0]\n",
    "    for i in range(1,len(prices)):\n",
    "        if prices[i]> min_num:\n",
    "            pro=max(pro,prices[i]-min_num)\n",
    "        else:\n",
    "            min_num=prices[i]\n",
    "    return pro\n",
    "        "
   ]
  },
  {
   "cell_type": "code",
   "execution_count": 7,
   "metadata": {
    "collapsed": false
   },
   "outputs": [
    {
     "data": {
      "text/plain": [
       "5"
      ]
     },
     "execution_count": 7,
     "metadata": {},
     "output_type": "execute_result"
    }
   ],
   "source": [
    "prices = [7,1,5,3,6,4]\n",
    "maxProfit(prices)"
   ]
  },
  {
   "cell_type": "markdown",
   "metadata": {},
   "source": [
    "## 最大子序列和"
   ]
  },
  {
   "cell_type": "code",
   "execution_count": 30,
   "metadata": {
    "collapsed": true
   },
   "outputs": [],
   "source": [
    "def maxSubArray( nums) :\n",
    "    n=len(nums)\n",
    "    if n==1:\n",
    "        return nums[0]\n",
    "    dp=[0]*n \n",
    "    dp[0]=nums[0]\n",
    "    for i in range(1,n):\n",
    "        #if nums[i]>dp[i-1]+nums[i]:\n",
    "            \n",
    "        dp[i]=max(nums[i],dp[i-1]+nums[i])\n",
    "    return max(dp)\n",
    "\n",
    "        \n",
    "        "
   ]
  },
  {
   "cell_type": "code",
   "execution_count": 13,
   "metadata": {
    "collapsed": false
   },
   "outputs": [
    {
     "data": {
      "text/plain": [
       "6"
      ]
     },
     "execution_count": 13,
     "metadata": {},
     "output_type": "execute_result"
    }
   ],
   "source": []
  },
  {
   "cell_type": "markdown",
   "metadata": {},
   "source": [
    "## 打家劫舍\n",
    "如果两间相邻的房屋在同一晚上被小偷闯入，系统会自动报警"
   ]
  },
  {
   "cell_type": "code",
   "execution_count": 34,
   "metadata": {
    "collapsed": true
   },
   "outputs": [],
   "source": [
    "def rob(nums):\n",
    "    n=len(nums)\n",
    "    if n==1:\n",
    "        return nums[0]\n",
    "#     if n==2:\n",
    "#         return min(nums)\n",
    "    dp=[0]*n\n",
    "    dp[0]=nums[0]\n",
    "    dp[1]=nums[1]\n",
    "    for i in range(2,n):\n",
    "        dp[i]=dp[i-2]+nums[i]\n",
    "        for j in range(i-3,-1,-1):\n",
    "            dp[i]=max(dp[i],dp[j]+nums[i])\n",
    "    return dp"
   ]
  },
  {
   "cell_type": "code",
   "execution_count": 35,
   "metadata": {
    "collapsed": false
   },
   "outputs": [
    {
     "data": {
      "text/plain": [
       "[1, 2, 4, 3]"
      ]
     },
     "execution_count": 35,
     "metadata": {},
     "output_type": "execute_result"
    }
   ],
   "source": [
    "rob([1,2,3,1])"
   ]
  },
  {
   "cell_type": "code",
   "execution_count": 18,
   "metadata": {
    "collapsed": false
   },
   "outputs": [
    {
     "name": "stdout",
     "output_type": "stream",
     "text": [
      "1\n",
      "0\n"
     ]
    }
   ],
   "source": []
  },
  {
   "cell_type": "code",
   "execution_count": null,
   "metadata": {
    "collapsed": true
   },
   "outputs": [],
   "source": []
  }
 ],
 "metadata": {
  "kernelspec": {
   "display_name": "Python 3",
   "language": "python",
   "name": "python3"
  },
  "language_info": {
   "codemirror_mode": {
    "name": "ipython",
    "version": 3
   },
   "file_extension": ".py",
   "mimetype": "text/x-python",
   "name": "python",
   "nbconvert_exporter": "python",
   "pygments_lexer": "ipython3",
   "version": "3.6.0"
  }
 },
 "nbformat": 4,
 "nbformat_minor": 5
}
