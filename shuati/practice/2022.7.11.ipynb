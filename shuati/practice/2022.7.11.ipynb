{
 "cells": [
  {
   "cell_type": "markdown",
   "id": "7f79e56a",
   "metadata": {},
   "source": [
    "# 已知搜索二叉树后序遍历的数组posArr，请根据posArr重建整棵树，返回新建树的根结点"
   ]
  },
  {
   "cell_type": "code",
   "execution_count": null,
   "id": "d38d8370",
   "metadata": {},
   "outputs": [],
   "source": [
    "class Node:\n",
    "    def __init__(self,val=-1,left=None,right=None):\n",
    "        self.val=val\n",
    "        self.left=left\n",
    "        self.right=right\n",
    "        "
   ]
  },
  {
   "cell_type": "markdown",
   "id": "9a48b251",
   "metadata": {},
   "source": [
    "## 递归思路，数组的最后一个是根结点，找左右子树的划分index"
   ]
  },
  {
   "cell_type": "code",
   "execution_count": 18,
   "id": "625705e9",
   "metadata": {},
   "outputs": [],
   "source": [
    "#时间复杂度 N*N\n",
    "def process1(posArr,L,R):\n",
    "    if L>R:\n",
    "        return None\n",
    "    head=Node(val=posArr[R])    \n",
    "    if L==R:\n",
    "        return head\n",
    "    M=L-1\n",
    "    #print(M)\n",
    "    #找划分左子树和右子树的索引值\n",
    "    for i in range(L,R):\n",
    "        if posArr[i]<posArr[R]:\n",
    "            M=i\n",
    "    #只有小于部分，M=R\n",
    "    #只有大于的部分，M=L-1\n",
    "    head.left=process1(posArr,L,M)\n",
    "    head.right=process1(posArr,M+1,R-1)\n",
    "    return head\n",
    "def posArrayToBST(posArr):\n",
    "    return process1(posArr,0,len(posArr)-1)"
   ]
  },
  {
   "cell_type": "markdown",
   "id": "309641c3",
   "metadata": {},
   "source": [
    "##  数组是棒形结构使，以上的方法不是最优解，可以考虑二分法（整体一点点有序，可以考虑二分）找到最优的索引"
   ]
  },
  {
   "cell_type": "code",
   "execution_count": null,
   "id": "a342d5c4",
   "metadata": {},
   "outputs": [],
   "source": [
    "#时间复杂度   Nlog2N\n",
    "\n",
    "def process2(proArr,L,R):\n",
    "    if L>R:\n",
    "        return None\n",
    "    head=Node(val=proArr[R])\n",
    "    if L==R:\n",
    "        return head\n",
    "    M=L-1\n",
    "    left=L\n",
    "    right=R-1\n",
    "    # 二分找划分的索引 \n",
    "    while left<=right:\n",
    "        mid=left+((right-left)>>1)\n",
    "        if proArr[mid] < proArr[R]:\n",
    "            M=mid\n",
    "            left=mid+1\n",
    "        else:\n",
    "            right=mid-1\n",
    "    head.left=process2(proArr,L,M)\n",
    "    head.right=process2(proArr,M+1,R-1)\n",
    "    return head\n",
    "def posArrayToBST(posArr):\n",
    "    return process2(posArr,0,len(posArr)-1)\n",
    "print(posArrayToBST([2,4,3,6,8,7,5]))"
   ]
  },
  {
   "cell_type": "code",
   "execution_count": 31,
   "id": "4de666c4",
   "metadata": {},
   "outputs": [],
   "source": [
    "class Node1:\n",
    "    #  = 可以初始化不穿入参数\n",
    "    def __init__(self,val=-1,left=None,right=None):\n",
    "        self.val=val\n",
    "        self.left=left\n",
    "        self.right=right"
   ]
  },
  {
   "cell_type": "code",
   "execution_count": 32,
   "id": "3ddaf7c9",
   "metadata": {},
   "outputs": [],
   "source": [
    "nodel=Node1()"
   ]
  },
  {
   "cell_type": "code",
   "execution_count": 34,
   "id": "174da25e",
   "metadata": {},
   "outputs": [
    {
     "data": {
      "text/plain": [
       "1"
      ]
     },
     "execution_count": 34,
     "metadata": {},
     "output_type": "execute_result"
    }
   ],
   "source": [
    "2>>1 #二分法"
   ]
  },
  {
   "cell_type": "code",
   "execution_count": null,
   "id": "4cddabcc",
   "metadata": {},
   "outputs": [],
   "source": [
    "### 测试程序"
   ]
  }
 ],
 "metadata": {
  "kernelspec": {
   "display_name": "Python 3 (ipykernel)",
   "language": "python",
   "name": "python3"
  },
  "language_info": {
   "codemirror_mode": {
    "name": "ipython",
    "version": 3
   },
   "file_extension": ".py",
   "mimetype": "text/x-python",
   "name": "python",
   "nbconvert_exporter": "python",
   "pygments_lexer": "ipython3",
   "version": "3.7.11"
  }
 },
 "nbformat": 4,
 "nbformat_minor": 5
}
