{
 "cells": [
  {
   "cell_type": "markdown",
   "metadata": {},
   "source": [
    "## 电话号码的字母组合"
   ]
  },
  {
   "cell_type": "code",
   "execution_count": null,
   "metadata": {},
   "outputs": [],
   "source": [
    "#回溯模版\n",
    "backtrack(parameter):\n",
    "    if termination_codition:\n",
    "        save result\n",
    "        return\n",
    "    for (choose: Elements in the collection at this level树中节点孩子的数量就是集合的大小):\n",
    "        append(processing node)\n",
    "        backtrack(path,choosed list)\n",
    "        pop(Cancellation result)\n",
    "        "
   ]
  },
  {
   "cell_type": "code",
   "execution_count": 7,
   "metadata": {
    "collapsed": true
   },
   "outputs": [],
   "source": [
    "def letterCombinations( digits):\n",
    "    if not digits:\n",
    "        return []\n",
    "    num2char={'2':['a','b','c'],\n",
    "             '3':['d','e','f'],\n",
    "             '4':['g','h','i'],\n",
    "             '5':['j','k','l'],\n",
    "             '6':['m','n','o'],\n",
    "             '7':['p','q','r','s'],\n",
    "             '8':['t','u','v'],\n",
    "             '9':['w','x','y','z']}\n",
    "    combination=[]\n",
    "    combinations=[]\n",
    "    def backtrack(index):\n",
    "        if index==len(digits):\n",
    "            combinations.append(\"\".join(combination))\n",
    "        else:\n",
    "            digit=digits[index]\n",
    "            for letter in num2char[digit]:\n",
    "                combination.append(letter)\n",
    "                backtrack(index+1)\n",
    "                print(combination)\n",
    "                combination.pop()\n",
    "        \n",
    "    backtrack(0)\n",
    "    return combinations\n",
    "    "
   ]
  },
  {
   "cell_type": "code",
   "execution_count": 8,
   "metadata": {},
   "outputs": [
    {
     "name": "stdout",
     "output_type": "stream",
     "text": [
      "['a', 'd']\n",
      "['a', 'e']\n",
      "['a', 'f']\n",
      "['a']\n",
      "['b', 'd']\n",
      "['b', 'e']\n",
      "['b', 'f']\n",
      "['b']\n",
      "['c', 'd']\n",
      "['c', 'e']\n",
      "['c', 'f']\n",
      "['c']\n"
     ]
    },
    {
     "data": {
      "text/plain": [
       "['ad', 'ae', 'af', 'bd', 'be', 'bf', 'cd', 'ce', 'cf']"
      ]
     },
     "execution_count": 8,
     "metadata": {},
     "output_type": "execute_result"
    }
   ],
   "source": [
    "letterCombinations('23')"
   ]
  },
  {
   "cell_type": "markdown",
   "metadata": {
    "collapsed": true
   },
   "source": [
    "## 括号生产--回溯"
   ]
  },
  {
   "cell_type": "code",
   "execution_count": 19,
   "metadata": {},
   "outputs": [],
   "source": [
    "def generateParenthesis(n):\n",
    "    ans=[]\n",
    "    def backtrack(S,left,right):\n",
    "        if len(S)==2*n:\n",
    "            ans.append(''.join(S))\n",
    "            return\n",
    "        if left<n: \n",
    "            S.append('(')\n",
    "            backtrack(S,left+1,right)  \n",
    "            print('before pop is {}'.format(S))\n",
    "            S.pop()\n",
    "            print('after pop is {}'.format(S))\n",
    "            \n",
    "        \n",
    "        if right<left:\n",
    "            S.append(')')            \n",
    "            backtrack(S,left,right+1)\n",
    "            print('right before pop is {}'.format(S))\n",
    "            S.pop()\n",
    "            print('right after pop is {}'.format(S))\n",
    "        print('left is {},right is {}'.format(left,right))\n",
    "    backtrack([],0,0)\n",
    "    return ans\n",
    "            "
   ]
  },
  {
   "cell_type": "code",
   "execution_count": 20,
   "metadata": {},
   "outputs": [
    {
     "name": "stdout",
     "output_type": "stream",
     "text": [
      "right before pop is ['(', '(', ')', ')']\n",
      "right after pop is ['(', '(', ')']\n",
      "left is 2,right is 1\n",
      "right before pop is ['(', '(', ')']\n",
      "right after pop is ['(', '(']\n",
      "left is 2,right is 0\n",
      "before pop is ['(', '(']\n",
      "after pop is ['(']\n",
      "right before pop is ['(', ')', '(', ')']\n",
      "right after pop is ['(', ')', '(']\n",
      "left is 2,right is 1\n",
      "before pop is ['(', ')', '(']\n",
      "after pop is ['(', ')']\n",
      "left is 1,right is 1\n",
      "right before pop is ['(', ')']\n",
      "right after pop is ['(']\n",
      "left is 1,right is 0\n",
      "before pop is ['(']\n",
      "after pop is []\n",
      "left is 0,right is 0\n"
     ]
    },
    {
     "data": {
      "text/plain": [
       "['(())', '()()']"
      ]
     },
     "execution_count": 20,
     "metadata": {},
     "output_type": "execute_result"
    }
   ],
   "source": [
    "generateParenthesis(2)"
   ]
  },
  {
   "cell_type": "markdown",
   "metadata": {},
   "source": [
    "## 全排列"
   ]
  },
  {
   "cell_type": "code",
   "execution_count": 55,
   "metadata": {},
   "outputs": [],
   "source": [
    "def permute(nums):\n",
    "    results=[]\n",
    "    re=[]\n",
    "    used=[False]*len(nums)\n",
    "    def backtrack(nums,used):\n",
    "        if len(re)==len(nums):\n",
    "            results.append(re[:])## 值拷贝\n",
    "            #print(re)\n",
    "        for i in range(len(nums)):\n",
    "            if used[i]:\n",
    "                continue\n",
    "            used[i]=True\n",
    "            re.append(nums[i])\n",
    "            backtrack(nums,used)\n",
    "            re.pop()\n",
    "            used[i]=False\n",
    "    backtrack(nums,used)\n",
    "    return results       "
   ]
  },
  {
   "cell_type": "code",
   "execution_count": 56,
   "metadata": {},
   "outputs": [
    {
     "data": {
      "text/plain": [
       "[[1, 2, 3], [1, 3, 2], [2, 1, 3], [2, 3, 1], [3, 1, 2], [3, 2, 1]]"
      ]
     },
     "execution_count": 56,
     "metadata": {},
     "output_type": "execute_result"
    }
   ],
   "source": [
    "permute([1,2,3])"
   ]
  },
  {
   "cell_type": "markdown",
   "metadata": {},
   "source": [
    "## 子集"
   ]
  },
  {
   "cell_type": "code",
   "execution_count": 70,
   "metadata": {},
   "outputs": [],
   "source": [
    "def subsets(nums):\n",
    "    results=[]\n",
    "    re=[]\n",
    "    def backtrack(results,re,nums,start):\n",
    "        results.append(re[:])\n",
    "        for i in range(start,len(nums)):\n",
    "            re.append(nums[i])\n",
    "            backtrack(results,re,nums,i+1)\n",
    "            re.pop()\n",
    "    backtrack(results,re,nums,0)\n",
    "    return results\n",
    "            "
   ]
  },
  {
   "cell_type": "code",
   "execution_count": 71,
   "metadata": {},
   "outputs": [
    {
     "data": {
      "text/plain": [
       "[[], [4], [4, 1], [4, 1, 0], [4, 0], [1], [1, 0], [0]]"
      ]
     },
     "execution_count": 71,
     "metadata": {},
     "output_type": "execute_result"
    }
   ],
   "source": [
    "subsets([4,1,0])"
   ]
  },
  {
   "cell_type": "markdown",
   "metadata": {},
   "source": [
    "## 单词搜索"
   ]
  },
  {
   "cell_type": "code",
   "execution_count": 81,
   "metadata": {},
   "outputs": [],
   "source": [
    "def exist( board, word):\n",
    "    row=len(board)\n",
    "    col=len(board[0])\n",
    "    def dfs(board,word,i,j,index):\n",
    "        if i>=row or  i<0 or j>=col or j<0 or board[i][j]!=word[index]:\n",
    "            return False\n",
    "        if index==len(word)-1:\n",
    "            return True\n",
    "        tmp=board[i][j]\n",
    "        board[i][j]='.'# now position is changed\n",
    "        # 上下左右四个方向查找\n",
    "        res=dfs(board,word,i-1,j,index+1) or dfs(board,word,i+1,j,index+1) or dfs(board,word,i,j-1,index+1) or dfs(board,word,i,j+1,index+1)\n",
    "        board[i][j]=tmp\n",
    "        return res \n",
    "    for i in range(0,row):\n",
    "        for j in range(0,col):\n",
    "            #start search from (i,j)\n",
    "            if dfs(board,word,i,j,0):\n",
    "                return True\n",
    "    return False\n",
    "    \n",
    "    "
   ]
  },
  {
   "cell_type": "code",
   "execution_count": 82,
   "metadata": {},
   "outputs": [
    {
     "data": {
      "text/plain": [
       "False"
      ]
     },
     "execution_count": 82,
     "metadata": {},
     "output_type": "execute_result"
    }
   ],
   "source": [
    "exist([[\"A\",\"B\",\"C\",\"E\"],[\"S\",\"F\",\"C\",\"S\"],[\"A\",\"D\",\"E\",\"E\"]],\"ABCB\")"
   ]
  },
  {
   "cell_type": "code",
   "execution_count": null,
   "metadata": {},
   "outputs": [],
   "source": []
  },
  {
   "cell_type": "code",
   "execution_count": null,
   "metadata": {},
   "outputs": [],
   "source": []
  }
 ],
 "metadata": {
  "kernelspec": {
   "display_name": "Python 3 (ipykernel)",
   "language": "python",
   "name": "python3"
  },
  "language_info": {
   "codemirror_mode": {
    "name": "ipython",
    "version": 3
   },
   "file_extension": ".py",
   "mimetype": "text/x-python",
   "name": "python",
   "nbconvert_exporter": "python",
   "pygments_lexer": "ipython3",
   "version": "3.7.11"
  }
 },
 "nbformat": 4,
 "nbformat_minor": 2
}
