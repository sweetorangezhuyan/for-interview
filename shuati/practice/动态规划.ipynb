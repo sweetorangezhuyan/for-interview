{
 "cells": [
  {
   "cell_type": "markdown",
   "id": "a8baceaf",
   "metadata": {},
   "source": [
    "## 跳跃游戏"
   ]
  },
  {
   "cell_type": "code",
   "execution_count": 7,
   "id": "50c2f5a0",
   "metadata": {},
   "outputs": [],
   "source": [
    "def canjump_dynamic(nums):\n",
    "    dp=[False]*len(nums)\n",
    "    dp[0]=True\n",
    "    maxdis=nums[0]\n",
    "    for i in range(1,len(nums)):\n",
    "        if maxdis-1>=0:\n",
    "            dp[i]=True\n",
    "            maxdis=max(maxdis-1,nums[i])\n",
    "        else:\n",
    "            break\n",
    "    #print(dp)\n",
    "    return dp[-1]"
   ]
  },
  {
   "cell_type": "code",
   "execution_count": 9,
   "id": "a7933b99",
   "metadata": {},
   "outputs": [],
   "source": [
    "def canjump_greedy(nums):## faster than dynamic\n",
    "    n=len(nums)\n",
    "    if n==1 or 0 not in nums:\n",
    "        return True\n",
    "    i=0\n",
    "    maxStep=max(nums)\n",
    "    while i<n-1:\n",
    "        if nums[i]:# i为 0 index\n",
    "            i+=1\n",
    "            continue\n",
    "        temp=i\n",
    "        i-=1\n",
    "        while i>=0 and i+nums[i]<=temp:\n",
    "            if temp-i>=maxStep:# 不能跳过当前值为0的店\n",
    "                return False\n",
    "            i-=1\n",
    "        if i<0:\n",
    "            return False\n",
    "        i=temp+1\n",
    "    return True"
   ]
  },
  {
   "cell_type": "code",
   "execution_count": 11,
   "id": "afe1b33c",
   "metadata": {},
   "outputs": [
    {
     "data": {
      "text/plain": [
       "True"
      ]
     },
     "execution_count": 11,
     "metadata": {},
     "output_type": "execute_result"
    }
   ],
   "source": [
    "canjump_greedy([2,3,1,1,4])"
   ]
  },
  {
   "cell_type": "markdown",
   "id": "5d117536",
   "metadata": {},
   "source": [
    "## 不同路径"
   ]
  },
  {
   "cell_type": "code",
   "execution_count": 13,
   "id": "254cdea2",
   "metadata": {},
   "outputs": [],
   "source": [
    "#机器人每次只能向下或者向右移动一步。机器人试图达到网格的右下角（在下图中标记为 “Finish” ）。\n",
    "\n",
    "#问总共有多少条不同的路径？\n",
    "def uniquePaths( m, n):\n",
    "    i,j=0,0\n",
    "    dp=[[0]*n]*m\n",
    "    dp[0]=[1]*n\n",
    "    for i in range(m):\n",
    "        dp[i][0]=1\n",
    "    print(dp)\n",
    "    for i in range(1,m):\n",
    "        for j in range(1,n):\n",
    "            dp[i][j]=dp[i-1][j]+dp[i][j-1]\n",
    "            print(i,j,dp[i][j])\n",
    "    return dp[:][:]"
   ]
  },
  {
   "cell_type": "code",
   "execution_count": 14,
   "id": "15d6a51b",
   "metadata": {},
   "outputs": [
    {
     "name": "stdout",
     "output_type": "stream",
     "text": [
      "[[1, 1, 1], [1, 0, 0], [1, 0, 0]]\n",
      "1 1 2\n",
      "1 2 3\n",
      "2 1 3\n",
      "2 2 6\n"
     ]
    },
    {
     "data": {
      "text/plain": [
       "[[1, 1, 1], [1, 3, 6], [1, 3, 6]]"
      ]
     },
     "execution_count": 14,
     "metadata": {},
     "output_type": "execute_result"
    }
   ],
   "source": [
    "uniquePaths(3,3)"
   ]
  },
  {
   "cell_type": "markdown",
   "id": "18e3292b",
   "metadata": {},
   "source": [
    "## 零钱兑换"
   ]
  },
  {
   "cell_type": "code",
   "execution_count": 28,
   "id": "ecaf2221",
   "metadata": {},
   "outputs": [],
   "source": [
    "#计算并返回可以凑成总金额所需的 最少的硬币个数 。如果没有任何一种硬币组合能组成总金额，返回 -1 \n",
    "def coinChange(coins, amount):\n",
    "    #coins=sorted(coins,reverse=True)\n",
    "    dp=[-1]*(amount+1)\n",
    "    dp[0]=0\n",
    "    for c in coins:\n",
    "        if c<=amount:\n",
    "            dp[c]=1\n",
    "    for i,num in enumerate(dp):\n",
    "        if num!=-1:\n",
    "            continue\n",
    "        min_num=float('inf')\n",
    "        for c in coins:\n",
    "            if c<i and dp[i-c]!=-1 and dp[i-c]<min_num:# dp[i-c]!=-1 在i位置可以使用c兑换\n",
    "                min_num=dp[i-c]\n",
    "        if min_num!=float('inf'):\n",
    "            dp[i]=min_num+1\n",
    "    #print(dp)\n",
    "    return dp[amount]\n",
    "    "
   ]
  },
  {
   "cell_type": "code",
   "execution_count": 36,
   "id": "d3e0414f",
   "metadata": {},
   "outputs": [],
   "source": [
    "#利用优先队列，队列内保存(step,cur),其中step是当前硬币数,cur是当前金额,初始队列为,que = [(0,0)]\n",
    "\n",
    "def coinChange_bfs(coins, amount):\n",
    "    que=[(0,0)]\n",
    "    hash_found=[False]*(amount+1)#用于记录走过的金额数量，第二次走一定是步数更多的，所以不用考虑\n",
    "    while que:\n",
    "        step,num=que.pop(0)\n",
    "        #print(step,num)\n",
    "        if num==amount:\n",
    "            return step\n",
    "        for c in coins:\n",
    "            if num+c<=amount and not hash_found[num+c]:\n",
    "                que.append((step+1,num+c))\n",
    "                hash_found[num+c]=True\n",
    "    \n",
    "    if not hash_found[amount]:\n",
    "        step=-1\n",
    "    return step"
   ]
  },
  {
   "cell_type": "code",
   "execution_count": 37,
   "id": "2165ea55",
   "metadata": {},
   "outputs": [
    {
     "data": {
      "text/plain": [
       "3"
      ]
     },
     "execution_count": 37,
     "metadata": {},
     "output_type": "execute_result"
    }
   ],
   "source": [
    "coinChange_bfs([1,2,5],11)"
   ]
  },
  {
   "cell_type": "code",
   "execution_count": 26,
   "id": "33d9f68a",
   "metadata": {},
   "outputs": [
    {
     "data": {
      "text/plain": [
       "[5, 2, 1]"
      ]
     },
     "execution_count": 26,
     "metadata": {},
     "output_type": "execute_result"
    }
   ],
   "source": [
    "coins=[1, 2, 5]\n",
    "coins=sorted(coins,reverse=True)\n",
    "coins"
   ]
  },
  {
   "cell_type": "markdown",
   "id": "c7800e71",
   "metadata": {},
   "source": [
    "## 最长递增子序列\n",
    "给你一个整数数组 nums ，找到其中最长严格递增子序列的长度"
   ]
  },
  {
   "cell_type": "code",
   "execution_count": 52,
   "id": "984e1f70",
   "metadata": {},
   "outputs": [],
   "source": [
    "def lengthOfLIS_dp(nums):## 时间复杂度o(n*n)\n",
    "    n=len(nums)\n",
    "    dp=[1]*n\n",
    "    minn=nums[0]\n",
    "    for i in range(n):\n",
    "        for j in range(i):\n",
    "            if nums[i]>nums[j]:\n",
    "                dp[i]=max(dp[j]+1,dp[i])\n",
    "    return max(dp)"
   ]
  },
  {
   "cell_type": "markdown",
   "id": "fa5c9d6d",
   "metadata": {},
   "source": [
    "## 贪心流程+ 插入排序\n",
    "维护数组d，\n",
    "如果 $\\textit{nums}[i] > d[\\textit{len}]$，则直接加入到 d 数组末尾，并更新 $\\textit{len} = \\textit{len} + 1$；\n",
    "\n",
    "否则，在 d 数组中二分查找，找到第一个比 $\\textit{nums}[i]$小的数 $d[k]$ ，并更新 $d[k + 1] = \\textit{nums}[i]$\n"
   ]
  },
  {
   "cell_type": "code",
   "execution_count": 25,
   "id": "d7804b8d",
   "metadata": {},
   "outputs": [],
   "source": [
    "def lengthOfLis_greed(nums):#因此我们希望每次在上升子序列最后加上的那个数尽可能的小\n",
    "    d=[]\n",
    "    for n in nums:\n",
    "        print(d)\n",
    "        if not d or n > d[-1]:## 在尾部插入元素\n",
    "            d.append(n)\n",
    "        else:\n",
    "            l,r=0,len(d)-1\n",
    "            loc=r\n",
    "            while l<=r:\n",
    "                mid=(l+r)>>1\n",
    "                if d[mid]>=n:\n",
    "                    loc=mid\n",
    "                    r=mid-1\n",
    "                else:\n",
    "                    l=mid+1\n",
    "            d[loc]=n\n",
    "    \n",
    "    return len(d)"
   ]
  },
  {
   "cell_type": "code",
   "execution_count": 26,
   "id": "45433d28",
   "metadata": {},
   "outputs": [
    {
     "name": "stdout",
     "output_type": "stream",
     "text": [
      "[]\n",
      "[10]\n",
      "[9]\n",
      "[2]\n",
      "[2, 5]\n",
      "[2, 3]\n",
      "[2, 3, 7]\n",
      "[2, 3, 7, 101]\n"
     ]
    },
    {
     "data": {
      "text/plain": [
       "4"
      ]
     },
     "execution_count": 26,
     "metadata": {},
     "output_type": "execute_result"
    }
   ],
   "source": [
    "lengthOfLis_greed([10,9,2,5,3,7,101,18])"
   ]
  },
  {
   "cell_type": "markdown",
   "id": "44c0e517",
   "metadata": {},
   "source": [
    "## 乘积最大子数组"
   ]
  },
  {
   "cell_type": "code",
   "execution_count": 19,
   "id": "f37767cc",
   "metadata": {},
   "outputs": [],
   "source": [
    "def mutiplymax(nums):\n",
    "    ## 记录最大值与最小值\n",
    "    maxnum,imax,imin=-float('inf'),1,1\n",
    "    n=len(nums)\n",
    "    for num in nums:\n",
    "        if num<0:## 负值会是目前最大的变为最小，最小的变为最大\n",
    "            imax,imin=imin,imax\n",
    "        imax=max(imax*num,num)\n",
    "        imin=min(imin*num,num)\n",
    "        \n",
    "        maxnum=max(maxnum,imax)\n",
    "        print(imax,imin,maxnum)\n",
    "    return maxnum"
   ]
  },
  {
   "cell_type": "code",
   "execution_count": 20,
   "id": "db3bd655",
   "metadata": {},
   "outputs": [
    {
     "name": "stdout",
     "output_type": "stream",
     "text": [
      "2 2 2\n",
      "6 3 6\n",
      "-2 -12 6\n",
      "4 -48 6\n",
      "96 -8 96\n"
     ]
    },
    {
     "data": {
      "text/plain": [
       "96"
      ]
     },
     "execution_count": 20,
     "metadata": {},
     "output_type": "execute_result"
    }
   ],
   "source": [
    "mutiplymax([2,3,-2,4,-2])"
   ]
  },
  {
   "cell_type": "markdown",
   "id": "b1c31e46",
   "metadata": {},
   "source": [
    "## 最大面积区域"
   ]
  },
  {
   "cell_type": "code",
   "execution_count": null,
   "id": "006c8f46",
   "metadata": {},
   "outputs": [],
   "source": [
    "def maxArea(height):\n",
    "    i,j,res=0,len(height)-1,0\n",
    "    while i<j:\n",
    "        if height[i]<height[j]:\n",
    "            res=max(res,height[i]*(j-i))\n",
    "            i+=1\n",
    "        else:\n",
    "            res=max(res,height[j]*(j-i))\n",
    "            j-=1\n",
    "    return res"
   ]
  },
  {
   "cell_type": "markdown",
   "id": "4d40b467",
   "metadata": {},
   "source": [
    "## 完全平方数"
   ]
  },
  {
   "cell_type": "code",
   "execution_count": 21,
   "id": "76bdac75",
   "metadata": {},
   "outputs": [],
   "source": [
    "def numSquares(n):\n",
    "    ## 动态规划\n",
    "    ## 先将每个数设为最大的结果dp[i]=i\n",
    "    dp=[0]*(n+1)# 构成数i使用的最小平方和个数\n",
    "    for i in range(1,n+1):\n",
    "        dp[i]=i\n",
    "        j=1\n",
    "        while i-j*j>=0:\n",
    "            dp[i]=min(dp[i],dp[i-j*j]+1)\n",
    "            j+=1\n",
    "    print(dp)\n",
    "    return dp[n]"
   ]
  },
  {
   "cell_type": "code",
   "execution_count": 22,
   "id": "7b0cc246",
   "metadata": {},
   "outputs": [],
   "source": [
    "def numSquares_greed(n):\n",
    "    ps=set([i*i for i in range(1,int(n**0.5)+1)])## 贪心法\n",
    "    #print(ps)\n",
    "    def divisible(n,count):\n",
    "        if count==1:\n",
    "            return n in ps \n",
    "        for p in ps: \n",
    "            if divisible(n-p,count-1):\n",
    "                return True\n",
    "        return False\n",
    "    for count in range(1,n+1):\n",
    "        if divisible(n,count):\n",
    "            return count"
   ]
  },
  {
   "cell_type": "markdown",
   "id": "126c504e",
   "metadata": {},
   "source": [
    "## 最小路径和\n",
    "每次只能向下或者向右移动一步"
   ]
  },
  {
   "cell_type": "code",
   "execution_count": null,
   "id": "a66cbaad",
   "metadata": {},
   "outputs": [],
   "source": [
    "def minPathSum(grid):\n",
    "    m,n=len(grid),len(grid[0])\n",
    "    for i in range(m):\n",
    "        for j in range(n):\n",
    "            if i==j==0:\n",
    "                continue\n",
    "            elif i==0:\n",
    "                grid[i][j]+=grid[i][j-1]\n",
    "            elif j==0:\n",
    "                grid[i][j]+=grid[i-1][j]\n",
    "            else:\n",
    "                grid[i][j]=min(grid[i-1][j],grid[i][j-1])+grid[i][j]\n",
    "    return grid[-1][-1]\n",
    "    #dfs(0,0,0)"
   ]
  },
  {
   "cell_type": "markdown",
   "id": "691a2ccb",
   "metadata": {},
   "source": [
    "## 和为k的子数组个数"
   ]
  },
  {
   "cell_type": "code",
   "execution_count": 31,
   "id": "05352491",
   "metadata": {},
   "outputs": [],
   "source": [
    "def subarraySum(nums,k):\n",
    "    n=len(nums)\n",
    "    if n==0:\n",
    "        return 0\n",
    "    key={}\n",
    "    key[0]=1\n",
    "    prefix=0\n",
    "    count=0\n",
    "    for num in nums:\n",
    "        prefix+=num\n",
    "        if prefix-k in key:\n",
    "            count+=key[prefix-k]\n",
    "        if prefix in key:\n",
    "            key[prefix]+=1\n",
    "        else:\n",
    "            key[prefix]=1\n",
    "    print(key)\n",
    "    return count"
   ]
  },
  {
   "cell_type": "code",
   "execution_count": 32,
   "id": "081d3beb",
   "metadata": {},
   "outputs": [
    {
     "name": "stdout",
     "output_type": "stream",
     "text": [
      "{0: 1, 1: 1, 3: 1, 5: 1}\n"
     ]
    },
    {
     "data": {
      "text/plain": [
       "2"
      ]
     },
     "execution_count": 32,
     "metadata": {},
     "output_type": "execute_result"
    }
   ],
   "source": [
    "subarraySum([1,2,2],2)"
   ]
  },
  {
   "cell_type": "markdown",
   "id": "caa24944",
   "metadata": {},
   "source": [
    "## 股票问题"
   ]
  },
  {
   "cell_type": "markdown",
   "id": "ce8a1d2b",
   "metadata": {},
   "source": [
    "### leetcode 121\n",
    "你只能选择 某一天 买入这只股票，并选择在 未来的某一个不同的日子 卖出该股票。设计一个算法来计算你所能获取的最大利润。"
   ]
  },
  {
   "cell_type": "code",
   "execution_count": 37,
   "id": "68228ad7",
   "metadata": {},
   "outputs": [],
   "source": [
    "# 记录最小值及最小值右侧的最大值之间的差\n",
    "def maxprice_1(prices):\n",
    "    n=len(prices)\n",
    "    if n==1:\n",
    "        return 0\n",
    "    pro=0\n",
    "    minnum=prices[0]\n",
    "    for i in range(1,n):\n",
    "        if prices[i]>=minnum:\n",
    "            pro=max(pro,prices[i]-minnum)\n",
    "        else:\n",
    "            minnum=prices[i]\n",
    "    return pro"
   ]
  },
  {
   "cell_type": "code",
   "execution_count": 36,
   "id": "17f0edff",
   "metadata": {},
   "outputs": [
    {
     "data": {
      "text/plain": [
       "0"
      ]
     },
     "execution_count": 36,
     "metadata": {},
     "output_type": "execute_result"
    }
   ],
   "source": [
    "maxprice([4,3,2,1])"
   ]
  },
  {
   "cell_type": "markdown",
   "id": "bf0f98f5",
   "metadata": {},
   "source": [
    "### leetcode 122\n",
    "在每一天，你可以决定是否购买和/或出售股票。你在任何时候 最多 只能持有 一股 股票。你也可以先购买，然后在 同一天 出售。"
   ]
  },
  {
   "cell_type": "code",
   "execution_count": 38,
   "id": "5d6baba1",
   "metadata": {},
   "outputs": [],
   "source": [
    "def maxProfit_2(prices):\n",
    "    re=[]\n",
    "    n=len(prices)\n",
    "    if n==1:\n",
    "        return 0\n",
    "    for i in range(1,n):\n",
    "        re.append(prices[i]-prices[i-1])\n",
    "    maxpro=0\n",
    "    for pro in re:\n",
    "        if pro>0:\n",
    "            maxpro+=pro \n",
    "    return maxpro"
   ]
  },
  {
   "cell_type": "markdown",
   "id": "a44b7d2c",
   "metadata": {},
   "source": [
    "### leetcode 309\n",
    "给定一个整数数组prices，其中第  $prices[i]$ 表示第 i 天的股票价格 \n",
    "\n",
    "设计一个算法计算出最大利润。在满足以下约束条件下，你可以尽可能地完成更多的交易（多次买卖一支股票）:\n",
    "\n",
    "卖出股票后，你无法在第二天买入股票 (即冷冻期为 1 天)。\n"
   ]
  },
  {
   "cell_type": "markdown",
   "id": "27f9b225",
   "metadata": {},
   "source": [
    "\n",
    "只关注卖出的那一天！只关注卖出的那一天！只关注卖出的那一天！\n",
    "\n",
    "题目中定义的“冷冻期”=卖出的那一天的后一天，题目设置冷冻期的意思是，如果昨天卖出了，今天不可买入，那么关键在于哪一天卖出，只要在今天想买入的时候判断一下前一天是不是刚卖出，即可，所以关键的一天其实是卖出的那一天，而不是卖出的后一天\n",
    "\n"
   ]
  },
  {
   "cell_type": "code",
   "execution_count": null,
   "id": "b5fbd44e",
   "metadata": {},
   "outputs": [],
   "source": [
    "def maxProfit(prices):\n",
    "    ## 状态方程\n",
    "    n=len(prices)\n",
    "    f=[[0]*3 for _ in range(n)]\n",
    "    ##f[i][0] 手上持有股票的最大收益\n",
    "    ##f[i][1] 不持有股票且处在冷冻期的最大收益\n",
    "    ##f[i][2] 不持有股票且不处于冷冻期的最大收益\n",
    "    f[0][0]=-prices[0]\n",
    "    for i in range(1,n):\n",
    "        f[i][0]=max(f[i-1][0],f[i-1][2]-prices[i])# 前一天持有股票，或者前一天不持有且不存在冷冻期今天买入\n",
    "        f[i][1]=f[i-1][0]+prices[i]# 冷冻期是因为今天卖掉，上一天手上持有股票，并在今天卖出的最大收益\n",
    "        f[i][2]=max(f[i-1][1],f[i-1][2])# 上一天不持有不存在冷冻期，上一天不持有也不在冷冻期\n",
    "    return max(f[n-1][1],f[n-1][2])"
   ]
  },
  {
   "cell_type": "code",
   "execution_count": null,
   "id": "e37bf6ef",
   "metadata": {},
   "outputs": [],
   "source": []
  }
 ],
 "metadata": {
  "kernelspec": {
   "display_name": "Python 3 (ipykernel)",
   "language": "python",
   "name": "python3"
  },
  "language_info": {
   "codemirror_mode": {
    "name": "ipython",
    "version": 3
   },
   "file_extension": ".py",
   "mimetype": "text/x-python",
   "name": "python",
   "nbconvert_exporter": "python",
   "pygments_lexer": "ipython3",
   "version": "3.7.11"
  }
 },
 "nbformat": 4,
 "nbformat_minor": 5
}
