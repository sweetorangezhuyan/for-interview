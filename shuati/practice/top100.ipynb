{
 "cells": [
  {
   "cell_type": "code",
   "execution_count": 20,
   "id": "07ef0e62",
   "metadata": {},
   "outputs": [],
   "source": []
  },
  {
   "cell_type": "code",
   "execution_count": 22,
   "id": "5e0fe54d",
   "metadata": {},
   "outputs": [
    {
     "data": {
      "text/plain": [
       "1"
      ]
     },
     "execution_count": 22,
     "metadata": {},
     "output_type": "execute_result"
    }
   ],
   "source": [
    "maxArea([1,1])"
   ]
  },
  {
   "cell_type": "code",
   "execution_count": 23,
   "id": "19aea585",
   "metadata": {},
   "outputs": [],
   "source": [
    "def find1(nums):\n",
    "    re=[]\n",
    "    n=len(nums)\n",
    "    for i in range(1,1+n):\n",
    "        if i not in nums:\n",
    "            re.append(i)\n",
    "    return re"
   ]
  },
  {
   "cell_type": "code",
   "execution_count": 25,
   "id": "89f2bc22",
   "metadata": {},
   "outputs": [
    {
     "data": {
      "text/plain": [
       "[5, 6]"
      ]
     },
     "execution_count": 25,
     "metadata": {},
     "output_type": "execute_result"
    }
   ],
   "source": [
    "find1([4,3,2,7,8,2,3,1])"
   ]
  },
  {
   "cell_type": "markdown",
   "id": "655ebeb9",
   "metadata": {},
   "source": [
    "## 两数相除\n",
    "被除数(dividend)和除数(divisor)，将两数相除，不使用乘法、除法和mod运算符"
   ]
  },
  {
   "cell_type": "code",
   "execution_count": 46,
   "id": "7b41f585",
   "metadata": {},
   "outputs": [],
   "source": [
    "## 二分思路\n",
    "def divide(dividend, divisor):\n",
    "    INT_MIN, INT_MAX = -2**31, 2**31 - 1\n",
    "\n",
    "    # 考虑被除数为最小值的情况\n",
    "    if dividend == INT_MIN:\n",
    "        if divisor == 1:\n",
    "            return INT_MIN\n",
    "        if divisor == -1:\n",
    "            return INT_MAX\n",
    "\n",
    "    # 考虑除数为最小值的情况\n",
    "    if divisor == INT_MIN:\n",
    "        return 1 if dividend == INT_MIN else 0\n",
    "    # 考虑被除数为 0 的情况\n",
    "    if dividend == 0:\n",
    "        return 0\n",
    "\n",
    "    # 一般情况，使用类二分查找\n",
    "    # 将所有的正数取相反数，这样就只需要考虑一种情况\n",
    "    rev = False\n",
    "    if dividend > 0:\n",
    "        dividend = -dividend\n",
    "        rev = not rev\n",
    "    if divisor > 0:\n",
    "        divisor = -divisor\n",
    "        rev = not rev\n",
    "\n",
    "    candidates = [divisor]\n",
    "    # 注意溢出\n",
    "    while candidates[-1] >= dividend - candidates[-1]:\n",
    "        candidates.append(candidates[-1] + candidates[-1])\n",
    "\n",
    "    ans = 0\n",
    "    for i in range(len(candidates) - 1, -1, -1):\n",
    "        if candidates[i] >= dividend:\n",
    "            ans += (1 << i)\n",
    "            dividend -= candidates[i]\n",
    "\n",
    "    return -ans if rev else ans\n",
    "\n",
    "\n",
    "#     Int_min,Int_max=-2**31,2**31-1\n",
    "#     ## dividend is minimum\n",
    "#     if dividend==Int_min:\n",
    "#         if divisor==1:\n",
    "#             return Int_min\n",
    "#         if divisor==-1:\n",
    "#             return Int_max\n",
    "#     ## divisior is minimum\n",
    "#     if divisor==Int_min:\n",
    "#         return 1 if dividend==Int_min else 0\n",
    "#     if dividend==0:\n",
    "#         return 0\n",
    "    \n",
    "#     ## In general, use binary search\n",
    "#     ## Negate all positive numbers\n",
    "#     rev=False\n",
    "#     if dividend>0:\n",
    "#         dividend=-dividend\n",
    "#         rev=not rev\n",
    "#     if divisor>0:\n",
    "#         divisor=-divisor\n",
    "#         rev=not rev\n",
    "        \n",
    "#     candidates=[divisor]\n",
    "#     whiles candidates[-1]+candidates[-1]>=dividend:\n",
    "#         candidates.append(candidates[-1]+candidates[-1])\n",
    "#     ans =0\n",
    "#     print(candidates)\n",
    "#     for i in range(len(candidates)-1,-1,-1):\n",
    "#         if candidates[i]>=dividend:\n",
    "#             ans+=(1<<i)\n",
    "#             dividend-=candidates[i]\n",
    "        \n",
    "            \n",
    "#     ## quickly multiply\n",
    "# #     def quickAdd(y,z,x):\n",
    "# #         ## x and y is negative, z is positive\n",
    "# #         ## y*z>=x is true\n",
    "# #         result,add=0,y\n",
    "# #         while z>0:\n",
    "# #             if z&1 ==1:## is odd?\n",
    "# #                 if result <x-add:\n",
    "# #                     return False\n",
    "# #                 result+=add\n",
    "# #             if z!=1:\n",
    "# #                 if add+add <x:\n",
    "# #                     return False\n",
    "# #                 add+=add\n",
    "# #             z>>=1\n",
    "# #         return True\n",
    "# #     left,right,ans=1,Int_max,0\n",
    "# #     while left<=right:\n",
    "# #         mid=left+((right-left)>>1)\n",
    "# #         check=quickAdd(divisor,mid,dividend)\n",
    "# #         if check:\n",
    "# #             ans=mid\n",
    "# #             if mid==Int_max:\n",
    "# #                 break\n",
    "# #             left=mid+1\n",
    "# #         else:\n",
    "# #             right=mid-1\n",
    "#     return -ans if rev else ans\n",
    "        \n",
    "                "
   ]
  },
  {
   "cell_type": "code",
   "execution_count": 48,
   "id": "2925afa6",
   "metadata": {},
   "outputs": [
    {
     "data": {
      "text/plain": [
       "221"
      ]
     },
     "execution_count": 48,
     "metadata": {},
     "output_type": "execute_result"
    }
   ],
   "source": [
    "divide(221,1)"
   ]
  },
  {
   "cell_type": "code",
   "execution_count": 37,
   "id": "08ff6040",
   "metadata": {},
   "outputs": [
    {
     "data": {
      "text/plain": [
       "2147483647"
      ]
     },
     "execution_count": 37,
     "metadata": {},
     "output_type": "execute_result"
    }
   ],
   "source": [
    "2**31-1"
   ]
  },
  {
   "cell_type": "markdown",
   "id": "bc2a29a1",
   "metadata": {},
   "source": [
    "## 螺旋矩阵"
   ]
  },
  {
   "cell_type": "code",
   "execution_count": 55,
   "id": "747d0248",
   "metadata": {},
   "outputs": [],
   "source": [
    "def spiralOrder(matrix):\n",
    "    re=[]\n",
    "    while matrix:\n",
    "        re+=matrix.pop(0)\n",
    "        matrix=list(zip(*matrix))[::-1]## 逆时针翻转90度\n",
    "        print(matrix)\n",
    "        \n",
    "    return re"
   ]
  },
  {
   "cell_type": "code",
   "execution_count": 56,
   "id": "4ea0ec04",
   "metadata": {},
   "outputs": [
    {
     "name": "stdout",
     "output_type": "stream",
     "text": [
      "[(6, 9), (5, 8), (4, 7)]\n",
      "[(8, 7), (5, 4)]\n",
      "[(4,), (5,)]\n",
      "[(5,)]\n",
      "[]\n"
     ]
    },
    {
     "data": {
      "text/plain": [
       "[1, 2, 3, 6, 9, 8, 7, 4, 5]"
      ]
     },
     "execution_count": 56,
     "metadata": {},
     "output_type": "execute_result"
    }
   ],
   "source": [
    "spiralOrder([[1,2,3],[4,5,6],[7,8,9]])"
   ]
  },
  {
   "cell_type": "markdown",
   "id": "2756b618",
   "metadata": {},
   "source": [
    "## 解码方法"
   ]
  },
  {
   "cell_type": "code",
   "execution_count": null,
   "id": "6fd0c89a",
   "metadata": {},
   "outputs": [],
   "source": [
    "def numDecodings(s):\n",
    "    n=len(s)\n",
    "    f=[1]+[0]*n \n",
    "    for i in range(1,n+1):\n",
    "        if s[i-1]!='0':\n",
    "            f[i]+=f[i-1]\n",
    "        if i>1 and s[i-2]!='0' and int(s[i-2:i])<=26:\n",
    "            f[i]+=f[i-2]\n",
    "    return f[n]\n",
    "        "
   ]
  },
  {
   "cell_type": "code",
   "execution_count": 57,
   "id": "dd0bca97",
   "metadata": {},
   "outputs": [
    {
     "data": {
      "text/plain": [
       "65"
      ]
     },
     "execution_count": 57,
     "metadata": {},
     "output_type": "execute_result"
    }
   ],
   "source": [
    "ord('A'-64)"
   ]
  },
  {
   "cell_type": "code",
   "execution_count": 59,
   "id": "aa80b48c",
   "metadata": {},
   "outputs": [
    {
     "data": {
      "text/plain": [
       "'D'"
      ]
     },
     "execution_count": 59,
     "metadata": {},
     "output_type": "execute_result"
    }
   ],
   "source": [
    "chr(68)"
   ]
  },
  {
   "cell_type": "code",
   "execution_count": 61,
   "id": "b08a06f0",
   "metadata": {},
   "outputs": [
    {
     "data": {
      "text/plain": [
       "{'a', 'b'}"
      ]
     },
     "execution_count": 61,
     "metadata": {},
     "output_type": "execute_result"
    }
   ],
   "source": [
    "set('aabb')"
   ]
  },
  {
   "cell_type": "code",
   "execution_count": 64,
   "id": "34db7ca1",
   "metadata": {},
   "outputs": [],
   "source": [
    "def countConsistentStrings( allowed, words):\n",
    "        #words中的每一个字符串的每一个字符都在allowed中\n",
    "        num=0\n",
    "        for word in words:\n",
    "            word=set(word)\n",
    "            flag=True\n",
    "            for i in word:\n",
    "                if i not in allowed:\n",
    "                    flag=False\n",
    "                    break\n",
    "            if flag:\n",
    "                num+=1\n",
    "            \n",
    "        return num"
   ]
  },
  {
   "cell_type": "code",
   "execution_count": 67,
   "id": "d57f0edf",
   "metadata": {},
   "outputs": [
    {
     "data": {
      "text/plain": [
       "4"
      ]
     },
     "execution_count": 67,
     "metadata": {},
     "output_type": "execute_result"
    }
   ],
   "source": [
    "countConsistentStrings('cad',[\"cc\",\"acd\",\"b\",\"ba\",\"bac\",\"bad\",\"ac\",\"d\"])"
   ]
  },
  {
   "cell_type": "markdown",
   "id": "ce5c105a",
   "metadata": {},
   "source": [
    "##"
   ]
  },
  {
   "cell_type": "code",
   "execution_count": 68,
   "id": "f1ad1af5",
   "metadata": {},
   "outputs": [],
   "source": [
    "def longestConsecutive(nums):\n",
    "        hashdir={}\n",
    "        max_length=0\n",
    "        for num in nums:\n",
    "            if num not in hashdir:\n",
    "                left=hashdir.get(num-1,0)\n",
    "                right=hashdir.get(num+1,0)\n",
    "                length=left+right+1\n",
    "                max_length=max(max_length,length)\n",
    "                hashdir[num]=length\n",
    "                hashdir[num-left]=length\n",
    "                hashdir[num+right]=length\n",
    "            print(hashdir)\n",
    "        return max_length"
   ]
  },
  {
   "cell_type": "code",
   "execution_count": 69,
   "id": "65cd6c06",
   "metadata": {},
   "outputs": [
    {
     "name": "stdout",
     "output_type": "stream",
     "text": [
      "{100: 1}\n",
      "{100: 1, 4: 1}\n",
      "{100: 1, 4: 1, 200: 1}\n",
      "{100: 1, 4: 1, 200: 1, 1: 1}\n",
      "{100: 1, 4: 2, 200: 1, 1: 1, 3: 2}\n",
      "{100: 1, 4: 4, 200: 1, 1: 4, 3: 2, 2: 4}\n"
     ]
    },
    {
     "data": {
      "text/plain": [
       "4"
      ]
     },
     "execution_count": 69,
     "metadata": {},
     "output_type": "execute_result"
    }
   ],
   "source": [
    "longestConsecutive([100,4,200,1,3,2])"
   ]
  },
  {
   "cell_type": "markdown",
   "id": "d6668169",
   "metadata": {},
   "source": [
    "## 分割回文串"
   ]
  },
  {
   "cell_type": "code",
   "execution_count": 74,
   "id": "3cfe3f9e",
   "metadata": {},
   "outputs": [],
   "source": [
    "def partition( s):\n",
    "    n=len(s)\n",
    "    f=[[True]*n for _ in range(n)]## i到j是不是回文串\n",
    "    for i in range(n-1,-1,-1):\n",
    "        for j in range(i+1,n):\n",
    "            #print(i,j)\n",
    "            f[i][j]=(s[i]==s[j]) and f[i+1][j-1]## 缩小范围\n",
    "    res=[]\n",
    "    ans=[]\n",
    "    def dfs(i):\n",
    "        if i==n:\n",
    "            res.append(ans[:])\n",
    "            return\n",
    "        for j in range(i,n):\n",
    "            if f[i][j]:#s[i][j]是回文串，进行分割\n",
    "                ans.append(s[i:j+1])\n",
    "                dfs(j+1)#下一步\n",
    "                ans.pop()# 退回分割\n",
    "    dfs(0)\n",
    "    return res\n",
    "    #print(f)"
   ]
  },
  {
   "cell_type": "code",
   "execution_count": 75,
   "id": "cac39e33",
   "metadata": {},
   "outputs": [
    {
     "name": "stdout",
     "output_type": "stream",
     "text": [
      "2 3\n",
      "1 2\n",
      "1 3\n",
      "0 1\n",
      "0 2\n",
      "0 3\n"
     ]
    },
    {
     "data": {
      "text/plain": [
       "[['a', 'a', 'b', 'c'], ['aa', 'b', 'c']]"
      ]
     },
     "execution_count": 75,
     "metadata": {},
     "output_type": "execute_result"
    }
   ],
   "source": [
    "partition(\"aabc\")"
   ]
  },
  {
   "cell_type": "code",
   "execution_count": 84,
   "id": "111c8ec2",
   "metadata": {},
   "outputs": [],
   "source": [
    "dirr={'a':24,'b':20,'c':30}"
   ]
  },
  {
   "cell_type": "code",
   "execution_count": 87,
   "id": "fce30bc2",
   "metadata": {},
   "outputs": [
    {
     "data": {
      "text/plain": [
       "[('b', 20), ('a', 24), ('c', 30)]"
      ]
     },
     "execution_count": 87,
     "metadata": {},
     "output_type": "execute_result"
    }
   ],
   "source": [
    "sorted(dirr.items(),key= lambda x:x[1])## 按照values排序\n",
    "sorted(dirr.items(),key= lambda x:x[0])## 按照keys排序"
   ]
  },
  {
   "cell_type": "markdown",
   "id": "01573103",
   "metadata": {},
   "source": [
    "## 加油站"
   ]
  },
  {
   "cell_type": "code",
   "execution_count": 114,
   "id": "5c26af63",
   "metadata": {},
   "outputs": [],
   "source": [
    "def canCompleteCircuit(gas,cost):\n",
    "        index=-1\n",
    "        n=len(gas)\n",
    "        for i in range(n):\n",
    "            if cost[i]>gas[i]:\n",
    "                continue\n",
    "            else:\n",
    "                nowgas=gas[i]\n",
    "                start=i\n",
    "                for j in range(i+1,n):\n",
    "                    nowgas-=cost[j-1]\n",
    "                    if nowgas >= 0:## 能到达，加油操作,更新目前所有\n",
    "                        nowgas+=gas[j]\n",
    "                        start=j\n",
    "                    else:\n",
    "                        break\n",
    "                    #print(nowgas)\n",
    "                    #if nowgas >=cost[j]:\n",
    "                        \n",
    "                #print(nowgas,start)\n",
    "                if start==n-1:\n",
    "                    #nowgas-=\n",
    "                    if nowgas>=cost[n-1]:\n",
    "                        for j in range(0,i+1):\n",
    "                            if j==0:\n",
    "                                nowgas-=cost[n-1]\n",
    "                            else:\n",
    "                                nowgas-=cost[j-1]           \n",
    "                            if nowgas>=0:\n",
    "                                nowgas+=gas[j]\n",
    "                                start=j\n",
    "                            else:\n",
    "                                break\n",
    "                            #print(nowgas)\n",
    "                            #if nowgas>= cost[j]:\n",
    "                                \n",
    "                if start==i:\n",
    "                    index=i\n",
    "                        \n",
    "        return index"
   ]
  },
  {
   "cell_type": "code",
   "execution_count": 115,
   "id": "c312cbaf",
   "metadata": {},
   "outputs": [
    {
     "data": {
      "text/plain": [
       "3"
      ]
     },
     "execution_count": 115,
     "metadata": {},
     "output_type": "execute_result"
    }
   ],
   "source": [
    "canCompleteCircuit([1,2,3,4,5],  [3,4,5,1,2])"
   ]
  },
  {
   "cell_type": "code",
   "execution_count": 118,
   "id": "f4971b93",
   "metadata": {},
   "outputs": [],
   "source": [
    "def canCompleteCircuit_1(gas,cost):\n",
    "    n=len(gas)\n",
    "    spare=0\n",
    "    minspare=float('inf')\n",
    "    minindex=0\n",
    "    for i in range(n):\n",
    "        spare+=gas[i]-cost[i]\n",
    "        \n",
    "        if spare < minspare:## 遍历不可能开始的位置，向后移动\n",
    "            minindex=i \n",
    "            minspare=spare\n",
    "        #print(spare,minspare)\n",
    "    if spare<0:\n",
    "        return -1\n",
    "    else:\n",
    "        return (minindex+1)%n"
   ]
  },
  {
   "cell_type": "code",
   "execution_count": 119,
   "id": "a98c7ba1",
   "metadata": {},
   "outputs": [
    {
     "name": "stdout",
     "output_type": "stream",
     "text": [
      "-2 -2\n",
      "-4 -4\n",
      "-6 -6\n",
      "-3 -6\n",
      "0 -6\n"
     ]
    },
    {
     "data": {
      "text/plain": [
       "3"
      ]
     },
     "execution_count": 119,
     "metadata": {},
     "output_type": "execute_result"
    }
   ],
   "source": [
    "canCompleteCircuit_1([1,2,3,4,5],  [3,4,5,1,2])"
   ]
  },
  {
   "cell_type": "markdown",
   "id": "8fa47528",
   "metadata": {},
   "source": [
    "## 被围绕的区域"
   ]
  },
  {
   "cell_type": "code",
   "execution_count": 122,
   "id": "8438af00",
   "metadata": {},
   "outputs": [],
   "source": [
    "## dfs\n",
    "def solve(board):\n",
    "    if not board:\n",
    "        return\n",
    "    n,m=len(board),len(board[0])\n",
    "    def dfs(i,j):\n",
    "        if not 0<=i<n or not 0<=i<m or board[i][j]!='O':\n",
    "            return\n",
    "        board[i][j]='A'## 修改\n",
    "        dfs(i+1,j)\n",
    "        dfs(i-1,j)\n",
    "        dfs(i,j+1)\n",
    "        dfs(i,j-1)\n",
    "    ## 在边界上进行搜索，把边界上搜索到的‘O'改为’A‘\n",
    "    for i in range(n):\n",
    "        dfs(i,0)## 从第一列开始遍历\n",
    "        #print(board)\n",
    "        dfs(i,m-1)## 从最后一列开始遍历\n",
    "        #print(board)\n",
    "    for j in range(m):\n",
    "        dfs(0,j)\n",
    "        dfs(n-1,j)\n",
    "    #print(board)\n",
    "    for i in range(n):\n",
    "        for j in range(m):\n",
    "            if board[i][j]=='A':\n",
    "                board[i][j] = \"O\"\n",
    "            elif board[i][j] == \"O\":\n",
    "                board[i][j] = \"X\"\n",
    "    #print(board)"
   ]
  },
  {
   "cell_type": "code",
   "execution_count": null,
   "id": "4ecc6233",
   "metadata": {},
   "outputs": [],
   "source": [
    "def solve_bfs(board):\n",
    "    if not board:\n",
    "        return\n",
    "    n,m=len(board),len(board[0])\n",
    "    queue=[]\n",
    "    for i in range(n):\n",
    "        if board[i][0]=='O':\n",
    "            queue.append((i,0))\n",
    "            board[i][0]='A'\n",
    "        if board[i][m-1]=='O':\n",
    "            queue.append((i,m-1))\n",
    "            board[i][m-1]='A'\n",
    "    for j in range(m):\n",
    "        if board[0][j]=='O':\n",
    "            queue.append((0,j))\n",
    "            board[0][j]='A'\n",
    "        if board[n-1][j]=='O':\n",
    "            queue.append((n-1,j))\n",
    "            board[n-1][j]='A'\n",
    "    while queue:\n",
    "        x,y=queue.pop(0)\n",
    "        for mx,my in [(x-1,y),(x+1,y),(x,y-1),(x,y+1)]:\n",
    "            if 0<=mx<n and 0<=my<m and board[mx][my]=='O':\n",
    "                queue.append((mx,my))\n",
    "                board[mx][my]='A'\n",
    "    for i in range(n):\n",
    "        for j in range(m):\n",
    "            if board[i][j]=='A':\n",
    "                board[i][j] = \"O\"\n",
    "            elif board[i][j] == \"O\":\n",
    "                board[i][j] = \"X\"\n",
    "        "
   ]
  },
  {
   "cell_type": "markdown",
   "id": "13faf6c7",
   "metadata": {},
   "source": [
    "## 排序链表"
   ]
  },
  {
   "cell_type": "code",
   "execution_count": null,
   "id": "223efd12",
   "metadata": {},
   "outputs": [],
   "source": [
    "## 按照升序排列\n",
    "## 归并排序\n",
    "def sortList(head):\n",
    "    if not head or not head.next:\n",
    "        return head\n",
    "    slow,fast=head,head.next\n",
    "    while fast and fast.next:\n",
    "        fast,slow=fast.next.next,slow.next\n",
    "    mid,slow.next=slow.next,None\n",
    "    left,right=sortList(head),sortList(mid)\n",
    "    h=res=ListNode(0)\n",
    "    while left and right:\n",
    "        if left.val < right.val:\n",
    "            h.next,left=left,left.next\n",
    "        else:\n",
    "            h.next,right=right,right.next\n",
    "        h=h.next\n",
    "    h.next=left if left else right\n",
    "    return res.next"
   ]
  },
  {
   "cell_type": "markdown",
   "id": "bb65946b",
   "metadata": {},
   "source": [
    "## 分数到小数"
   ]
  },
  {
   "cell_type": "code",
   "execution_count": 124,
   "id": "625ed4e9",
   "metadata": {},
   "outputs": [],
   "source": [
    "def fractionToDecimal(numerator, denominator):\n",
    "    if numerator%denominator==0:\n",
    "        return str(numerator//denominator)\n",
    "    s=[]\n",
    "    if (numerator<0) !=(denominator<0):\n",
    "        s.append('-')\n",
    "    ## 整数部分\n",
    "    numerator=abs(numerator)\n",
    "    denominator=abs(denominator)\n",
    "    integerpart=numerator//denominator\n",
    "    s.append(str(integerpart))\n",
    "    s.append('.')\n",
    "    \n",
    "    ## 小数部分\n",
    "    indexmap={}\n",
    "    remainder=numerator% denominator\n",
    "    while remainder and remainder not in indexmap:\n",
    "        indexmap[remainder]=len(s)\n",
    "        remainder*=10\n",
    "        s.append(str(remainder//denominator))\n",
    "        remainder%=denominator\n",
    "    if remainder:## 循环开始的地方\n",
    "        insert=indexmap[remainder]\n",
    "        s.insert(insert,'(')\n",
    "        s.append(')')\n",
    "    return ''.join(s)\n",
    "    \n",
    "    "
   ]
  },
  {
   "cell_type": "code",
   "execution_count": 126,
   "id": "3592baf7",
   "metadata": {},
   "outputs": [
    {
     "name": "stdout",
     "output_type": "stream",
     "text": [
      "2.0\n"
     ]
    }
   ],
   "source": [
    "fractionToDecimal(4,2)"
   ]
  },
  {
   "cell_type": "markdown",
   "id": "c0b683ee",
   "metadata": {},
   "source": [
    "## 复制带随机指针的链表"
   ]
  },
  {
   "cell_type": "code",
   "execution_count": null,
   "id": "66321ed9",
   "metadata": {},
   "outputs": [],
   "source": [
    "def copyRandom(head):\n",
    "    if not head:\n",
    "        return None\n",
    "    redir={}\n",
    "    p=head\n",
    "    while p:\n",
    "        node=Node(p.val)\n",
    "        redir[p]=node\n",
    "        p=p.next\n",
    "    p=head\n",
    "    while p:\n",
    "        if p.next:\n",
    "            redir[p].next=redir[p.next]\n",
    "        if p.random:\n",
    "            redir[p].random=redir[p.random]\n",
    "        p=p.next\n",
    "    return redir[head]"
   ]
  },
  {
   "cell_type": "markdown",
   "id": "23bf60de",
   "metadata": {},
   "source": [
    "## 单词拆分"
   ]
  },
  {
   "cell_type": "code",
   "execution_count": 131,
   "id": "213c396b",
   "metadata": {},
   "outputs": [],
   "source": [
    "def wordBreak(s, wordDict):\n",
    "    # s是否可由字典中出现的单词拼接\n",
    "    ## 时间复杂度O（n^2 ）\n",
    "    n=len(s)\n",
    "    dp=[False]*(n+1)\n",
    "    dp[0]=True\n",
    "    for i in range(n):\n",
    "        for j in range(i+1,n+1):## s[i..j] dp[i] s的前i位可拼接，如果s[i,,j) 出现在字典中，s的前j位可表示\n",
    "            #print(i,j)\n",
    "            if dp[i] and s[i:j] in wordDict:\n",
    "                dp[j]=True\n",
    "    print(dp)\n",
    "    return dp[-1]\n",
    "        "
   ]
  },
  {
   "cell_type": "code",
   "execution_count": 134,
   "id": "69fbb612",
   "metadata": {},
   "outputs": [
    {
     "data": {
      "text/plain": [
       "True"
      ]
     },
     "execution_count": 134,
     "metadata": {},
     "output_type": "execute_result"
    }
   ],
   "source": [
    "wordBreak('leetcode',['leet','code'])"
   ]
  },
  {
   "cell_type": "code",
   "execution_count": 133,
   "id": "e45236c2",
   "metadata": {},
   "outputs": [],
   "source": [
    "def wordBreak(s,wordDict):\n",
    "    ## 回溯\n",
    "    import functools\n",
    "    @functools.lru_cache(None)## 做缓存,能把相对耗时的函数结果进行保存，避免传入相同的参数重复计算\n",
    "    def back_track(s):\n",
    "        if not s:\n",
    "            return True\n",
    "        res=False\n",
    "        for i in range(1,len(s)+1):\n",
    "            if s[:i] in wordDict:\n",
    "                res=back_track(s[i:]) or res\n",
    "        return res\n",
    "    return back_track(s)"
   ]
  },
  {
   "cell_type": "markdown",
   "id": "08efbedb",
   "metadata": {},
   "source": [
    "## 不使用 ‘+’ 与‘-’实现两整数之和"
   ]
  },
  {
   "cell_type": "code",
   "execution_count": 155,
   "id": "241caf5c",
   "metadata": {},
   "outputs": [],
   "source": [
    "def getSum(a, b):\n",
    "    ## 位运算\n",
    "    mask1=2**32\n",
    "    mask2=2**31\n",
    "    mask3=2**31-1\n",
    "    a %= mask1\n",
    "    b%=mask1\n",
    "    while b!=0:\n",
    "        carry=((a&b)<<1)%mask1\n",
    "        a=(a^b)%mask1\n",
    "        b=carry\n",
    "    #print(a)    \n",
    "    if a & mask2:\n",
    "        return ~((a^mask2)^mask3)## 取反(-((a^mask2)^mask3)-1)\n",
    "    else:\n",
    "        return a"
   ]
  },
  {
   "cell_type": "code",
   "execution_count": 156,
   "id": "27b19495",
   "metadata": {},
   "outputs": [
    {
     "name": "stdout",
     "output_type": "stream",
     "text": [
      "4294967295\n"
     ]
    },
    {
     "data": {
      "text/plain": [
       "-1"
      ]
     },
     "execution_count": 156,
     "metadata": {},
     "output_type": "execute_result"
    }
   ],
   "source": [
    "getSum(1,-2)"
   ]
  },
  {
   "cell_type": "code",
   "execution_count": 140,
   "id": "ece056e5",
   "metadata": {},
   "outputs": [
    {
     "data": {
      "text/plain": [
       "0"
      ]
     },
     "execution_count": 140,
     "metadata": {},
     "output_type": "execute_result"
    }
   ],
   "source": [
    "(2&1)<<1"
   ]
  },
  {
   "cell_type": "code",
   "execution_count": 160,
   "id": "5975acfe",
   "metadata": {},
   "outputs": [
    {
     "data": {
      "text/plain": [
       "-4294967295"
      ]
     },
     "execution_count": 160,
     "metadata": {},
     "output_type": "execute_result"
    }
   ],
   "source": [
    "~(1^(2**31))^(2**31-1)"
   ]
  },
  {
   "cell_type": "markdown",
   "id": "d073e8c6",
   "metadata": {},
   "source": [
    "## LRU缓存"
   ]
  },
  {
   "cell_type": "code",
   "execution_count": 36,
   "id": "61cddea3",
   "metadata": {},
   "outputs": [],
   "source": [
    "## 双向链表\n",
    "class DLinkedNode:\n",
    "    def __init__(self,key=0,value=0):\n",
    "        self.key=key\n",
    "        self.value=value\n",
    "        self.pre=None\n",
    "        self.next=None\n",
    "\n",
    "class LRUCache:\n",
    "    def __init__(self, capacity: int):\n",
    "        self.capacity=capacity\n",
    "        self.dir={}\n",
    "        self.size=0\n",
    "        ## 头节点和尾节点\n",
    "        self.head=DLinkedNode()\n",
    "        self.tail=DLinkedNode()\n",
    "        self.head.next=self.tail\n",
    "        self.tail.pre=self.head\n",
    "    \n",
    "    def get(self, key: int) -> int:\n",
    "        if key not in self.dir:\n",
    "            return -1\n",
    "        node=self.dir[key]\n",
    "        self.moveToHead(node)\n",
    "        return node.value\n",
    "\n",
    "\n",
    "    def put(self, key: int, value: int) -> None:\n",
    "        if key not in self.dir:\n",
    "            node=DLinkedNode(key,value)\n",
    "            self.dir[key]=node\n",
    "            #print(self.head.next.pre)\n",
    "            self.addTohead(node)\n",
    "            self.size+=1\n",
    "            if self.size>self.capacity:\n",
    "                removed=self.removeTail()\n",
    "                self.dir.pop(removed.key)\n",
    "                self.size-=1\n",
    "        else:\n",
    "            node=self.dir[key]\n",
    "            node.value=value\n",
    "            self.moveToHead(node)\n",
    "    def addTohead(self,node):\n",
    "        node.pre=self.head\n",
    "        node.next=self.head.next\n",
    "        self.head.next.pre=node\n",
    "        self.head.next=node\n",
    "    def removeNode(self,node):\n",
    "        node.pre.next=node.next\n",
    "        node.next.pre=node.pre\n",
    "    def moveToHead(self,node):\n",
    "        self.removeNode(node)\n",
    "        self.addTohead(node)\n",
    "    def removeTail(self):\n",
    "        node=self.tail.pre## self.tail 为尾节点\n",
    "        self.removeNode(node)\n",
    "        return node\n",
    "            "
   ]
  },
  {
   "cell_type": "code",
   "execution_count": 37,
   "id": "a494ac9a",
   "metadata": {},
   "outputs": [
    {
     "data": {
      "text/plain": [
       "{1: <__main__.DLinkedNode at 0x7f7fd980f7d0>,\n",
       " 2: <__main__.DLinkedNode at 0x7f7fd9515210>}"
      ]
     },
     "execution_count": 37,
     "metadata": {},
     "output_type": "execute_result"
    }
   ],
   "source": [
    "test=LRUCache(2)\n",
    "test.put(1,1)\n",
    "test.put(2,2)\n",
    "test.dir"
   ]
  },
  {
   "cell_type": "code",
   "execution_count": 21,
   "id": "a89ded43",
   "metadata": {},
   "outputs": [
    {
     "name": "stdout",
     "output_type": "stream",
     "text": [
      "1\n"
     ]
    },
    {
     "data": {
      "text/plain": [
       "{2: 2, 3: 3}"
      ]
     },
     "execution_count": 21,
     "metadata": {},
     "output_type": "execute_result"
    }
   ],
   "source": [
    "test.put(3,3)\n",
    "test.dir"
   ]
  },
  {
   "cell_type": "code",
   "execution_count": 1,
   "id": "c21c4edf",
   "metadata": {},
   "outputs": [
    {
     "data": {
      "text/plain": [
       "{0: 'a', 1: 'b'}"
      ]
     },
     "execution_count": 1,
     "metadata": {},
     "output_type": "execute_result"
    }
   ],
   "source": [
    "a={}\n",
    "a[0]='a'\n",
    "a[1]='b'\n",
    "a"
   ]
  },
  {
   "cell_type": "code",
   "execution_count": 3,
   "id": "55cbdb67",
   "metadata": {},
   "outputs": [
    {
     "data": {
      "text/plain": [
       "{}"
      ]
     },
     "execution_count": 3,
     "metadata": {},
     "output_type": "execute_result"
    }
   ],
   "source": [
    "a.pop(1)## key\n",
    "a"
   ]
  },
  {
   "cell_type": "markdown",
   "id": "da4b2d13",
   "metadata": {},
   "source": [
    "## 逆波兰表达式求值"
   ]
  },
  {
   "cell_type": "code",
   "execution_count": 44,
   "id": "3c9e1df6",
   "metadata": {},
   "outputs": [],
   "source": [
    "## 树的后序遍历--》 树的中序遍历--〉 + 、- 、*、/为根节点\n",
    "## 使用栈的方式\n",
    "def evalRPN(tokens):\n",
    "    def evaluate(num1,num2,op):\n",
    "        if op=='+':\n",
    "            return num1+num2\n",
    "        if op=='-':\n",
    "            return num1-num2\n",
    "        if op=='*':\n",
    "            return num1*num2\n",
    "        if op=='/':\n",
    "            return  int(num1/num2)\n",
    "    stack=[]\n",
    "    for token in tokens:\n",
    "        try:\n",
    "            stack.append(int(token))\n",
    "        except:\n",
    "            num2=stack.pop()\n",
    "            num1=stack.pop()\n",
    "            stack.append(evaluate(num1,num2,token))\n",
    "    return stack[0]\n",
    "    "
   ]
  },
  {
   "cell_type": "code",
   "execution_count": 46,
   "id": "b9372141",
   "metadata": {},
   "outputs": [
    {
     "data": {
      "text/plain": [
       "22"
      ]
     },
     "execution_count": 46,
     "metadata": {},
     "output_type": "execute_result"
    }
   ],
   "source": [
    "evalRPN([\"10\",\"6\",\"9\",\"3\",\"+\",\"-11\",\"*\",\"/\",\"*\",\"17\",\"+\",\"5\",\"+\"])"
   ]
  },
  {
   "cell_type": "markdown",
   "id": "33a4f1df",
   "metadata": {},
   "source": [
    "## 乘积最大子数组"
   ]
  },
  {
   "cell_type": "code",
   "execution_count": 57,
   "id": "e191de67",
   "metadata": {},
   "outputs": [],
   "source": [
    "def maxProduct(nums):\n",
    "    ## 一次遍历，当目前值为负时，会使最大的值变为最小，最小的值变为最大\n",
    "    n=len(nums)\n",
    "    nummax,imax,imin=-float('inf'),1,1\n",
    "    for i in range(n):\n",
    "        if nums[i]<0:\n",
    "            imax,imin=imin,imax\n",
    "        imax=max(imax*nums[i],nums[i])\n",
    "        imin=min(imin*nums[i],nums[i])\n",
    "        \n",
    "        nummax=max(nummax,imax)\n",
    "    return nummax\n",
    "            \n",
    "    "
   ]
  },
  {
   "cell_type": "code",
   "execution_count": 58,
   "id": "de41f4ea",
   "metadata": {},
   "outputs": [
    {
     "data": {
      "text/plain": [
       "96"
      ]
     },
     "execution_count": 58,
     "metadata": {},
     "output_type": "execute_result"
    }
   ],
   "source": [
    "maxProduct([2,3,-2,4,-2])"
   ]
  },
  {
   "cell_type": "markdown",
   "id": "083ec498",
   "metadata": {},
   "source": [
    "## 四数相加"
   ]
  },
  {
   "cell_type": "code",
   "execution_count": 59,
   "id": "d0d99e02",
   "metadata": {},
   "outputs": [],
   "source": [
    "import collections"
   ]
  },
  {
   "cell_type": "code",
   "execution_count": 60,
   "id": "bc7bf715",
   "metadata": {},
   "outputs": [
    {
     "data": {
      "text/plain": [
       "Counter({-1: 2, -3: 1, 0: 2, 1: 1, 2: 2, 3: 1})"
      ]
     },
     "execution_count": 60,
     "metadata": {},
     "output_type": "execute_result"
    }
   ],
   "source": [
    "a=[1,3,4]\n",
    "b=[-2,-4,-1]\n",
    "collections.Counter(u+v for u in a for v in b)## u+v 出现的次数"
   ]
  },
  {
   "cell_type": "code",
   "execution_count": 61,
   "id": "ac7528e6",
   "metadata": {},
   "outputs": [],
   "source": [
    "def fourSumCount(nums1,nums2,nums3,nums4):\n",
    "    ### hashmap # collection 统计出现次数\n",
    "    count=0\n",
    "    n=len(nums1)\n",
    "    countAB=collections.Counter(u+v for u in nums1 for v in nums2)\n",
    "    for u in nums3:\n",
    "        for v  in nums4:\n",
    "            if -(u+v) in countAB:\n",
    "                count+=countAB[-(u+v)]\n",
    "    return count"
   ]
  },
  {
   "cell_type": "markdown",
   "id": "0c1f70fb",
   "metadata": {},
   "source": [
    "## 最大数"
   ]
  },
  {
   "cell_type": "code",
   "execution_count": 77,
   "id": "f8dcb74b",
   "metadata": {},
   "outputs": [],
   "source": [
    "import functools\n",
    "def largestNumber(nums):\n",
    "    ## 逆向排序\n",
    "    strs = map(str, nums)\n",
    "    #print(strs)\n",
    "    def cmp(a, b):\n",
    "        if a + b == b + a:\n",
    "            return 0\n",
    "        elif a + b > b + a:\n",
    "            return 1\n",
    "        else:\n",
    "            return -1\n",
    "    ## cmp_to_key:在list中的工作机制就是将列表中的元素去两两比较，当cmp返回是正数时 交换两元素\n",
    "    strs = sorted(strs, key=functools.cmp_to_key(cmp), reverse=True)\n",
    "    return ''.join(strs) if strs[0] != '0' else '0'\n"
   ]
  },
  {
   "cell_type": "code",
   "execution_count": 78,
   "id": "c705a0bc",
   "metadata": {},
   "outputs": [
    {
     "name": "stdout",
     "output_type": "stream",
     "text": [
      "<map object at 0x7f7fd99a1b50>\n"
     ]
    },
    {
     "data": {
      "text/plain": [
       "'332131231'"
      ]
     },
     "execution_count": 78,
     "metadata": {},
     "output_type": "execute_result"
    }
   ],
   "source": [
    "largestNumber(['23','1','3','31','321'])"
   ]
  },
  {
   "cell_type": "code",
   "execution_count": 74,
   "id": "e5cdacb2",
   "metadata": {},
   "outputs": [
    {
     "data": {
      "text/plain": [
       "['321', '31', '3', '23', '1']"
      ]
     },
     "execution_count": 74,
     "metadata": {},
     "output_type": "execute_result"
    }
   ],
   "source": [
    "a=\n",
    "sorted(a,reverse=True)"
   ]
  },
  {
   "cell_type": "markdown",
   "id": "15d444d9",
   "metadata": {},
   "source": [
    "## 课程表-- 图\n",
    "1.BFS\n",
    "\n",
    "2.DFS"
   ]
  },
  {
   "cell_type": "code",
   "execution_count": null,
   "id": "10a3cfd9",
   "metadata": {},
   "outputs": [],
   "source": [
    "def canFinish(numCourses, prerequisites):\n",
    "    #课程安排图是否是 有向无环图(DAG)。即课程间规定了前置条件，但不能构成任何环路，否则课程前置条件将不成立。\n",
    "    # BFS,借助queue\n",
    "    indegrees=[0]*numCourses## 记录节点入度\n",
    "    adjacency=[[] for _ in range(numCourses)]## 节点的临界表，记录其后缀节点\n",
    "    queue=[]# 队列\n",
    "    ## update indegree and adjacency\n",
    "    for cur,pre in prerequisites:\n",
    "        indegrees[cur]+=1\n",
    "        adjacency[pre].append(cur)\n",
    "    ## get all courses with indegree of 0\n",
    "    for i in range(numCourses):\n",
    "        if indegrees[i]==0:\n",
    "            queue.append(i)\n",
    "    # bfs\n",
    "    while queue:\n",
    "        pre=queue.pop(0)\n",
    "        numCourses-=1\n",
    "        for cur in adjacency[pre]:\n",
    "            indegrees[cur]-=1\n",
    "            if indegrees[cur]==0:\n",
    "                queue.append(cur)\n",
    "    return not numCourses"
   ]
  },
  {
   "cell_type": "code",
   "execution_count": 82,
   "id": "0c2b0fd8",
   "metadata": {},
   "outputs": [
    {
     "data": {
      "text/plain": [
       "[[], [], []]"
      ]
     },
     "execution_count": 82,
     "metadata": {},
     "output_type": "execute_result"
    }
   ],
   "source": [
    "def canFinish_DFS(numCourses, prerequisites):\n",
    "    def dfs(i,adjacency,flags):\n",
    "        if flags[i]==-1:## 当前节点已被其他节点启动，无需再重复搜索\n",
    "            return True\n",
    "        if flags[i]==1:## 本轮的dfs搜索中节点i被第二次访问，有环\n",
    "            return False\n",
    "        flags[i]=1## 未被访问的节点 设为1 ，表示被访问\n",
    "        for j in adjacency[i]:\n",
    "            if not dfs(j,adjacency,flags):\n",
    "                return False\n",
    "        flags[i]=-1\n",
    "        return True\n",
    "    adjacency=[[] for _ in range(numCourses)]\n",
    "    flags=[0]*numCourses\n",
    "    for cur,pre in prerequisites:\n",
    "        adjacency[pre].append(cur)\n",
    "    for i in range(numCourses):\n",
    "        if not dfs(i,adjacency,flags):\n",
    "            return False\n",
    "    return True"
   ]
  },
  {
   "cell_type": "markdown",
   "id": "6bc9d8a9",
   "metadata": {},
   "source": [
    "## 前缀树"
   ]
  },
  {
   "cell_type": "markdown",
   "id": "21b7c0f7",
   "metadata": {},
   "source": [
    "### 前缀树 是一种树形数据结构，用于高效地存储和检索字符串数据集中的键。这一数据结构有相当多的应用情景，例如自动补完和拼写检查。\n"
   ]
  },
  {
   "cell_type": "code",
   "execution_count": 91,
   "id": "c13bd55c",
   "metadata": {},
   "outputs": [],
   "source": [
    "class Trie:\n",
    "\n",
    "    def __init__(self):\n",
    "        self.list=[]\n",
    "\n",
    "\n",
    "    def insert(self, word: str) -> None:\n",
    "        self.list.append(word)\n",
    "\n",
    "\n",
    "    def search(self, word: str) -> bool:\n",
    "        if word in self.list:\n",
    "            return True\n",
    "        else:\n",
    "            return False\n",
    "\n",
    "\n",
    "    def startsWith(self, prefix: str) -> bool:\n",
    "        for word in self.list:\n",
    "            if word[:len(prefix)]==prefix:\n",
    "                return True\n",
    "        return False"
   ]
  },
  {
   "cell_type": "code",
   "execution_count": 98,
   "id": "fc0b2138",
   "metadata": {},
   "outputs": [],
   "source": [
    "class Trie:\n",
    "    ## 每个字符代表一个节点\n",
    "    def __init__(self):\n",
    "        self.children = [None] * 26\n",
    "        self.isEnd = False\n",
    "    \n",
    "    def searchPrefix(self, prefix: str) -> \"Trie\":\n",
    "        node = self\n",
    "        for ch in prefix:\n",
    "            ch = ord(ch) - ord(\"a\")\n",
    "            if not node.children[ch]:\n",
    "                return None\n",
    "            node = node.children[ch]\n",
    "        return node\n",
    "\n",
    "    def insert(self, word: str) -> None:\n",
    "        node = self\n",
    "        for ch in word:\n",
    "            ch = ord(ch) - ord(\"a\")\n",
    "            if not node.children[ch]:\n",
    "                node.children[ch] = Trie()\n",
    "            node = node.children[ch]\n",
    "        node.isEnd = True\n",
    "\n",
    "    def search(self, word: str) -> bool:\n",
    "        node = self.searchPrefix(word)\n",
    "        return node is not None and node.isEnd\n",
    "\n",
    "    def startsWith(self, prefix: str) -> bool:\n",
    "        return self.searchPrefix(prefix) is not None\n"
   ]
  },
  {
   "cell_type": "markdown",
   "id": "d2c2364e",
   "metadata": {},
   "source": [
    "## 基本计算器"
   ]
  },
  {
   "cell_type": "code",
   "execution_count": 100,
   "id": "a79aae59",
   "metadata": {},
   "outputs": [],
   "source": [
    "## 栈 * /优先级高于+-\n",
    "## -时，将数的相反数押入栈，栈中保存相加的结果\n",
    "def calculate(s):\n",
    "    n=len(s)\n",
    "    stack=[]\n",
    "    presign='+'\n",
    "    num=0\n",
    "    for i in range(n):\n",
    "        if s[i]!=' ' and s[i].isdigit():\n",
    "            num=num*10+ord(s[i])-ord('0')\n",
    "        if i==n-1 or s[i] in '+-*/':\n",
    "            if presign=='+':\n",
    "                stack.append(num)\n",
    "            elif presign=='-':\n",
    "                stack.append(-num)\n",
    "            elif presign=='*':\n",
    "                stack.append(stack.pop()*num)\n",
    "            else:\n",
    "                stack.append(stack.pop()//num)#int(stack.pop()/num)\n",
    "            presign=s[i]\n",
    "            num=0\n",
    "        #print(stack)\n",
    "    return sum(stack)"
   ]
  },
  {
   "cell_type": "code",
   "execution_count": 99,
   "id": "c925d72e",
   "metadata": {},
   "outputs": [
    {
     "data": {
      "text/plain": [
       "1"
      ]
     },
     "execution_count": 99,
     "metadata": {},
     "output_type": "execute_result"
    }
   ],
   "source": [
    "ord('1')-ord('0')"
   ]
  },
  {
   "cell_type": "code",
   "execution_count": 101,
   "id": "bf0231f6",
   "metadata": {},
   "outputs": [
    {
     "name": "stdout",
     "output_type": "stream",
     "text": [
      "[]\n",
      "[2]\n",
      "[2]\n",
      "[2, 1]\n",
      "[2, 1]\n",
      "[2, 1, -3]\n",
      "[2, 1, -3]\n",
      "[2, 1, -48]\n"
     ]
    },
    {
     "data": {
      "text/plain": [
       "-45"
      ]
     },
     "execution_count": 101,
     "metadata": {},
     "output_type": "execute_result"
    }
   ],
   "source": [
    "calculate('2+1-3*16')"
   ]
  },
  {
   "cell_type": "code",
   "execution_count": 115,
   "id": "8e6dde4f",
   "metadata": {},
   "outputs": [
    {
     "data": {
      "text/plain": [
       "13"
      ]
     },
     "execution_count": 115,
     "metadata": {},
     "output_type": "execute_result"
    }
   ],
   "source": [
    "int(-3/2)+14"
   ]
  },
  {
   "cell_type": "markdown",
   "id": "630a0b94",
   "metadata": {},
   "source": [
    "## 除自身以外数组的乘积\n",
    "时间复杂度为$O(n)$"
   ]
  },
  {
   "cell_type": "code",
   "execution_count": 118,
   "id": "94f8ac6b",
   "metadata": {},
   "outputs": [],
   "source": [
    "def productExceptSelf(nums):\n",
    "    res,p,q=[1],1,1\n",
    "    for i in range(len(nums)-1):## 向右遍历 res[i]=1*nums[0]..nums[i-1]\n",
    "        p*=nums[i]\n",
    "        res.append(p)\n",
    "    #print(res)\n",
    "    for i in range(len(nums)-1,0,-1):## 向左遍历： 加入右半部分\n",
    "        q*=nums[i]\n",
    "        res[i-1]*=q\n",
    "    return res"
   ]
  },
  {
   "cell_type": "code",
   "execution_count": 119,
   "id": "4cc564c0",
   "metadata": {},
   "outputs": [
    {
     "name": "stdout",
     "output_type": "stream",
     "text": [
      "[1, 1, 2, 6]\n"
     ]
    },
    {
     "data": {
      "text/plain": [
       "[24, 12, 8, 6]"
      ]
     },
     "execution_count": 119,
     "metadata": {},
     "output_type": "execute_result"
    }
   ],
   "source": [
    "productExceptSelf([1,2,3,4])"
   ]
  },
  {
   "cell_type": "markdown",
   "id": "198d489a",
   "metadata": {},
   "source": []
  },
  {
   "cell_type": "code",
   "execution_count": null,
   "id": "1262e481",
   "metadata": {},
   "outputs": [],
   "source": []
  }
 ],
 "metadata": {
  "kernelspec": {
   "display_name": "Python 3 (ipykernel)",
   "language": "python",
   "name": "python3"
  },
  "language_info": {
   "codemirror_mode": {
    "name": "ipython",
    "version": 3
   },
   "file_extension": ".py",
   "mimetype": "text/x-python",
   "name": "python",
   "nbconvert_exporter": "python",
   "pygments_lexer": "ipython3",
   "version": "3.7.11"
  }
 },
 "nbformat": 4,
 "nbformat_minor": 5
}
