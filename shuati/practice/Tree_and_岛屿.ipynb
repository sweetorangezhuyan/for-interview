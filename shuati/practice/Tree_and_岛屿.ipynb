{
 "cells": [
  {
   "cell_type": "code",
   "execution_count": 61,
   "metadata": {
    "collapsed": true
   },
   "outputs": [],
   "source": [
    "class TreeNode:\n",
    "    def __init__(self,x):\n",
    "        self.val=x\n",
    "        self.left=None\n",
    "        self.right=None"
   ]
  },
  {
   "cell_type": "code",
   "execution_count": 62,
   "metadata": {
    "collapsed": false
   },
   "outputs": [],
   "source": [
    "class Tree:\n",
    "    def __init__(self):\n",
    "        self.root=None\n",
    "    def construct(self,li=None):\n",
    "        if not li:\n",
    "            return None\n",
    "        tl=[]\n",
    "        for i in li:\n",
    "            if i is None:\n",
    "                tl.append(i)\n",
    "            else:\n",
    "                tl.append(TreeNode(i))\n",
    "        for idx in range(len(li)//2):\n",
    "            if idx*2+1 <len(tl) and tl[idx*2+1]:# 左子树\n",
    "                tl[idx].left=tl[idx*2+1]\n",
    "            if idx*2+2 <len(tl) and tl[idx*2+2]:# 右子树\n",
    "                tl[idx].right=tl[idx*2+2]\n",
    "        self.root=tl[0]\n",
    "    def preOrder(self,cur):\n",
    "        if not cur:\n",
    "            return\n",
    "        print(cur.val)\n",
    "        preOrder(cur.left)\n",
    "        preOrder(cur.right)\n",
    "    def inOrder(self,cur):\n",
    "        if not cur:\n",
    "            return     \n",
    "        preOrder(cur.left)\n",
    "        print(cur.val)\n",
    "        preOrder(cur.right)\n",
    "    def postOrder(self,cur):\n",
    "        if not cur:\n",
    "            return     \n",
    "        preOrder(cur.left)  \n",
    "        preOrder(cur.right)\n",
    "        print(cur.val)\n",
    "    def levelOrder(self,cur):## 队列辅助\n",
    "        dq=deque()\n",
    "        dq.append(cur)# in queue\n",
    "        while dq:\n",
    "            tmp=dq.popleft()# out queue\n",
    "            if not tmp:\n",
    "                continue\n",
    "            print(tmp.val)\n",
    "            dq.append(tmp.left)\n",
    "            dq.append(tmp.right)"
   ]
  },
  {
   "cell_type": "code",
   "execution_count": 69,
   "metadata": {
    "collapsed": false
   },
   "outputs": [],
   "source": [
    "root = [3,9,20,5,6,15,7]\n",
    "t=Tree()\n",
    "t.construct(root)"
   ]
  },
  {
   "cell_type": "code",
   "execution_count": 60,
   "metadata": {
    "collapsed": false
   },
   "outputs": [
    {
     "name": "stdout",
     "output_type": "stream",
     "text": [
      "1\n",
      "2\n"
     ]
    }
   ],
   "source": [
    "t.preOrder(t.root)"
   ]
  },
  {
   "cell_type": "markdown",
   "metadata": {},
   "source": [
    "## 层次遍历"
   ]
  },
  {
   "cell_type": "code",
   "execution_count": 79,
   "metadata": {
    "collapsed": true
   },
   "outputs": [],
   "source": [
    "def zigzagLevelOrder( root):\n",
    "    re=[]\n",
    "    queue=[]\n",
    "    if root is None:\n",
    "        return []\n",
    "    queue.append(root)\n",
    "    ind=0\n",
    "    while queue:\n",
    "        num=len(queue)\n",
    "        now=[]\n",
    "        for i in range(num):\n",
    "            node=queue.pop(0)\n",
    "            now.append(node.val)\n",
    "            ind+=1\n",
    "            if node.left:\n",
    "                    queue.append(node.left)\n",
    "            if node.right:\n",
    "                queue.append(node.right)\n",
    "        if ind%2==0:\n",
    "            now=now[::-1]\n",
    "        re.append(now)\n",
    "    return re"
   ]
  },
  {
   "cell_type": "code",
   "execution_count": 80,
   "metadata": {
    "collapsed": false
   },
   "outputs": [
    {
     "data": {
      "text/plain": [
       "[[3], [9, 20], [5, 6, 15, 7]]"
      ]
     },
     "execution_count": 80,
     "metadata": {},
     "output_type": "execute_result"
    }
   ],
   "source": [
    "zigzagLevelOrder(t.root)"
   ]
  },
  {
   "cell_type": "markdown",
   "metadata": {},
   "source": [
    "## 中序遍历"
   ]
  },
  {
   "cell_type": "code",
   "execution_count": null,
   "metadata": {
    "collapsed": true
   },
   "outputs": [],
   "source": [
    "## 中序遍历-- 递归\n",
    "class Solution:\n",
    "    def inorderTraversal(self, root: Optional[TreeNode]) -> List[int]:\n",
    "        re=[]\n",
    "        def dfs(cur):\n",
    "            if not cur:\n",
    "                return \n",
    "            dfs(cur.left)\n",
    "            re.append(cur.val)\n",
    "            dfs(cur.right)\n",
    "        dfs(root)\n",
    "        return re"
   ]
  },
  {
   "cell_type": "code",
   "execution_count": null,
   "metadata": {
    "collapsed": true
   },
   "outputs": [],
   "source": [
    "## 中序遍历-- 迭代 感觉比递归满\n",
    "class Solution:\n",
    "    def inorderTraversal(self, root: Optional[TreeNode]) -> List[int]:\n",
    "        re=[]\n",
    "        stack=[]\n",
    "        while stack or root:\n",
    "            #不断往左子树走，没走一步将当前值保存在栈中\n",
    "            if root:\n",
    "                stack.append(root)\n",
    "                root=root.left\n",
    "            #当前节点为空，说明走到尽头，出栈\n",
    "            else:\n",
    "                temp=stack.pop()\n",
    "                re.append(temp.val)\n",
    "                root=temp.right\n",
    "        return re"
   ]
  },
  {
   "cell_type": "code",
   "execution_count": null,
   "metadata": {
    "collapsed": true
   },
   "outputs": [],
   "source": [
    "## 莫里斯遍历法 --空间复杂度O(1)-- 快，空间复杂度低\n",
    "### 优点：没有使用任何辅助空间\n",
    "### 缺点：改变整棵树的结构，强行把一颗二叉树改成一段链表结构\n",
    "def inorder(root):\n",
    "    res=[]\n",
    "    pre=None\n",
    "    while root:\n",
    "        ## 如果左节点不为空，就将当前节点及其右子树全部挂到左节点的最下面的右子树下面\n",
    "        if root.left:\n",
    "            pre=root.left\n",
    "            while pre.right:\n",
    "                pre=pre.right\n",
    "            pre.right=root\n",
    "            #将 root只向root的left\n",
    "            tmp=root\n",
    "            root=root.left\n",
    "            tmp.left=None\n",
    "        #左子树为空，打印节点，向右遍历\n",
    "        else:\n",
    "            res.append(root.val)\n",
    "            root=root.right\n",
    "    return res"
   ]
  },
  {
   "cell_type": "markdown",
   "metadata": {},
   "source": [
    "## 先序遍历与中序遍历，确定二叉树"
   ]
  },
  {
   "cell_type": "code",
   "execution_count": null,
   "metadata": {
    "collapsed": true
   },
   "outputs": [],
   "source": [
    "# preorder: 根左右\n",
    "# inorder:左根右\n",
    "def buildTree(self, preorder: List[int], inorder: List[int]):\n",
    "    def buildTreeHelper(preorder,p_start,p_end,inorder,i_start,i_end):\n",
    "        if p_start==p_end:\n",
    "            return None\n",
    "        root_bal=preorder[p_start]\n",
    "        root=TreeNode(root_bal)\n",
    "        mid=inorder.index(root_bal)+i_start\n",
    "        leftlen=mid-i_start\n",
    "        root.left=buildTreeHelper(preorder,p_start+1,p_start+leftlen+1,inorder,i_start,mid)\n",
    "        root.right=buildTreeHelper(preorder,p_start+leftlen+1,p_end,inorder,mid+1,i_end)\n",
    "    buildTreeHelper(preorder,0,len(preorder),inorder,0,len(inorder))"
   ]
  },
  {
   "cell_type": "code",
   "execution_count": 81,
   "metadata": {
    "collapsed": false
   },
   "outputs": [
    {
     "data": {
      "text/plain": [
       "0"
      ]
     },
     "execution_count": 81,
     "metadata": {},
     "output_type": "execute_result"
    }
   ],
   "source": [
    "a=[1,2,3]\n",
    "a.index(1)"
   ]
  },
  {
   "cell_type": "markdown",
   "metadata": {},
   "source": [
    "## 第k小的数"
   ]
  },
  {
   "cell_type": "code",
   "execution_count": null,
   "metadata": {
    "collapsed": true
   },
   "outputs": [],
   "source": [
    "# 统计节点个树"
   ]
  },
  {
   "cell_type": "markdown",
   "metadata": {},
   "source": [
    "## 岛屿问题"
   ]
  },
  {
   "cell_type": "code",
   "execution_count": 1,
   "metadata": {
    "collapsed": true
   },
   "outputs": [],
   "source": [
    "## dfs,沿着一条路径一直走下去，当遇到终止条件时返回\n",
    "def numIslands(grid):\n",
    "    if not grid:\n",
    "        return 0\n",
    "    rowlen=len(grid)\n",
    "    collen=len(grid[0])\n",
    "    count=0\n",
    "    def dfs(i,j,grid):\n",
    "        if i<0 or i>=rowlen or j<0 or j>=collen or grid[i][j]!=\"1\":\n",
    "            return \n",
    "        # 上下左右遍历\n",
    "        grid[i][j]=-1\n",
    "        dfs(i-1,j,grid)\n",
    "        dfs(i+1,j,grid)\n",
    "        dfs(i,j-1,grid)\n",
    "        dfs(i,j+1,grid)\n",
    "        \n",
    "    for i in range(rowlen):\n",
    "        for j in range(collen):\n",
    "            if grid[i][j]==\"1\":\n",
    "                count+=1\n",
    "                dfs(i,j,grid)\n",
    "    return count"
   ]
  },
  {
   "cell_type": "code",
   "execution_count": 15,
   "metadata": {
    "collapsed": true
   },
   "outputs": [],
   "source": [
    "#BFS，当前位置附近的访问一遍,借助队列\n",
    "def numIslands(grid):\n",
    "    if not grid:\n",
    "        return 0\n",
    "    rowlen=len(grid)\n",
    "    collen=len(grid[0])\n",
    "    count=0\n",
    "    def bfs(x,y,grid):       \n",
    "        # 先把位置充值\n",
    "        #grid[x][y]='-1'\n",
    "        n=len(grid)\n",
    "        m=len(grid[0])\n",
    "        queue=[]# 队列，存储格子坐标转化的值\n",
    "        code=m*x+y \n",
    "        queue.append(code)\n",
    "        while queue:\n",
    "            print(queue)\n",
    "            code=queue.pop(0)\n",
    "            i=code//m\n",
    "            j=code%m\n",
    "            grid[i][j]='-1'\n",
    "            if i>0 and grid[i-1][j]=='1':## 上\n",
    "                grid[i-1][j]=='-1'\n",
    "                queue.append((i-1)*m+j)\n",
    "            if i<n-1 and grid[i+1][j]=='1':## 下\n",
    "                grid[i+1][j]=='-1'\n",
    "                queue.append((i+1)*m+j)\n",
    "            if j>0 and grid[i][j-1]=='1':\n",
    "                grid[i][j-1]='-1'\n",
    "                queue.append(i*m+j-1)\n",
    "            if j<m-1 and grid[i][j+1]=='1':\n",
    "                grid[i][j+1]='-1'\n",
    "                queue.append(i*m+j+1)\n",
    "        \n",
    "        \n",
    "    for i in range(rowlen):\n",
    "        for j in range(collen):\n",
    "            if grid[i][j]==\"1\":\n",
    "                count+=1\n",
    "                bfs(i,j,grid)\n",
    "                print(grid)\n",
    "    return count"
   ]
  },
  {
   "cell_type": "code",
   "execution_count": 16,
   "metadata": {
    "collapsed": false
   },
   "outputs": [
    {
     "name": "stdout",
     "output_type": "stream",
     "text": [
      "[0]\n",
      "[5, 1]\n",
      "[1, 10, 6]\n",
      "[10, 6, 2]\n",
      "[6, 2, 11]\n",
      "[2, 11]\n",
      "[11, 3]\n",
      "[3]\n",
      "[8]\n",
      "[['-1', '-1', '-1', '-1', '0'], ['-1', '-1', '0', '-1', '0'], ['-1', '-1', '0', '0', '0'], ['0', '0', '0', '0', '0']]\n"
     ]
    },
    {
     "data": {
      "text/plain": [
       "1"
      ]
     },
     "execution_count": 16,
     "metadata": {},
     "output_type": "execute_result"
    }
   ],
   "source": [
    "grid = [\n",
    "  [\"1\",\"1\",\"1\",\"1\",\"0\"],\n",
    "  [\"1\",\"1\",\"0\",\"1\",\"0\"],\n",
    "  [\"1\",\"1\",\"0\",\"0\",\"0\"],\n",
    "  [\"0\",\"0\",\"0\",\"0\",\"0\"]\n",
    "]\n",
    "numIslands(grid)"
   ]
  },
  {
   "cell_type": "code",
   "execution_count": null,
   "metadata": {
    "collapsed": true
   },
   "outputs": [],
   "source": []
  }
 ],
 "metadata": {
  "kernelspec": {
   "display_name": "Python 3",
   "language": "python",
   "name": "python3"
  },
  "language_info": {
   "codemirror_mode": {
    "name": "ipython",
    "version": 3
   },
   "file_extension": ".py",
   "mimetype": "text/x-python",
   "name": "python",
   "nbconvert_exporter": "python",
   "pygments_lexer": "ipython3",
   "version": "3.6.0"
  }
 },
 "nbformat": 4,
 "nbformat_minor": 2
}
