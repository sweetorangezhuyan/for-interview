{
 "cells": [
  {
   "cell_type": "markdown",
   "metadata": {},
   "source": [
    "## 树的子结构"
   ]
  },
  {
   "cell_type": "code",
   "execution_count": 1,
   "metadata": {
    "collapsed": true
   },
   "outputs": [],
   "source": [
    "class TreeNode:\n",
    "    def __init__(self,x):\n",
    "        self.val=x\n",
    "        self.left=None\n",
    "        self.right=None"
   ]
  },
  {
   "cell_type": "markdown",
   "metadata": {},
   "source": [
    "判断树的子结构的解题思路：\n",
    "\n",
    "1.先遍历A中的每个节点$n_A$（对应函数$isSubStructure(A, B)$）\n",
    "\n",
    "2. 判断树A 中 以$n_A$ 为根节点的子树 是否包含树 B 对应函数$recur(A, B)$）"
   ]
  },
  {
   "cell_type": "code",
   "execution_count": null,
   "metadata": {
    "collapsed": true
   },
   "outputs": [],
   "source": [
    "## 算法流程\n",
    "# recur(A, B)函数：\n",
    "# 1.终止条件：\n",
    "# （1）当B节点为空时：说明树B已匹配完成，返回true；\n",
    "# （2）当节点A为空时，说明已经超越树A叶子节点，匹配失败，返回false\n",
    "# （3）当节点A、B的值不同，匹配失败，返回false\n",
    "# 2.返回值：\n",
    "# （1）判断A和B的左子节点是否相等，即recur(A.left,B.left)\n",
    "# （2）判断A和B的右子节点是否相等，即recur(A.right,B.right)\n",
    "\n",
    "# isSubStructure(A, B)函数：\n",
    "# 1.特例处理：当树A为空或树B为空时，直接返回false \n",
    "# 2.返回值：或树B为树A的子结构，则必须满足三种情况之一：\n",
    "# （1）以节点A为根节点的子树包含树B，对应recur(A,B)\n",
    "# （2）树 B 是 树 A 右子树 的子结构，对应 isSubStructure(A.left, B)\n",
    "# （3）树 B 是 树 A 右子树 的子结构，对应 isSubStructure(A.right, B)\n",
    "def isSubStructure(A,B):\n",
    "    def recur(A,B):\n",
    "        if not B:\n",
    "            return True\n",
    "        if not A or A.val!=B.val:\n",
    "            return False\n",
    "        return recur(A.left,B.left) and recur(A.right,B.right)\n",
    "    return bool(A and B) and  (recur(A,B) or isSubStructure(A.left,B) or isSubStructure(A.right,B))"
   ]
  },
  {
   "cell_type": "markdown",
   "metadata": {},
   "source": [
    "## 二叉树的数字统计"
   ]
  },
  {
   "cell_type": "code",
   "execution_count": 12,
   "metadata": {
    "collapsed": true
   },
   "outputs": [],
   "source": [
    "def numColor(root):\n",
    "    relist=[]\n",
    "    queue=deque()\n",
    "    queue.append(root)\n",
    "    while queue:\n",
    "        now=queue.popleft()\n",
    "        relist.append(now.val)\n",
    "        if now.left:\n",
    "            queue.append(now.left)\n",
    "        if now.right:\n",
    "            queue.append(now.right)\n",
    "    return len(set(relist))\n",
    "        \n",
    "    "
   ]
  },
  {
   "cell_type": "code",
   "execution_count": 13,
   "metadata": {
    "collapsed": false
   },
   "outputs": [
    {
     "data": {
      "text/plain": [
       "6"
      ]
     },
     "execution_count": 13,
     "metadata": {},
     "output_type": "execute_result"
    }
   ],
   "source": [
    "root = [1,3,2,1,None,2]\n",
    "t=Tree()\n",
    "t.construct(root)\n",
    "numColor(t.root)"
   ]
  },
  {
   "cell_type": "markdown",
   "metadata": {},
   "source": [
    "## 根据列表数据构建二叉树"
   ]
  },
  {
   "cell_type": "code",
   "execution_count": 3,
   "metadata": {
    "collapsed": true
   },
   "outputs": [],
   "source": [
    "from collections import deque"
   ]
  },
  {
   "cell_type": "code",
   "execution_count": 2,
   "metadata": {
    "collapsed": true
   },
   "outputs": [],
   "source": [
    "class Tree:\n",
    "    def __init__(self):\n",
    "        self.root=None\n",
    "    def construct(self,li=None):\n",
    "        if not li:\n",
    "            return None\n",
    "        tl=[]\n",
    "        for i in li:\n",
    "            if i is None:\n",
    "                tl.append(i)\n",
    "            else:\n",
    "                tl.append(TreeNode(i))\n",
    "        for idx in range(len(li)//2):\n",
    "            if idx*2+1 <len(tl) and tl[idx*2+1]:# 左子树\n",
    "                tl[idx].left=tl[idx*2+1]\n",
    "            if idx*2+2 <len(tl) and tl[idx*2+2]:# 右子树\n",
    "                tl[idx].right=tl[idx*2+2]\n",
    "        self.root=tl[0]\n",
    "    def preOrder(self,cur):\n",
    "        if not cur:\n",
    "            return\n",
    "        print(cur.val)\n",
    "        preOrder(cur.left)\n",
    "        preOrder(cur.right)\n",
    "    def inOrder(self,cur):\n",
    "        if not cur:\n",
    "            return     \n",
    "        preOrder(cur.left)\n",
    "        print(cur.val)\n",
    "        preOrder(cur.right)\n",
    "    def postOrder(self,cur):\n",
    "        if not cur:\n",
    "            return     \n",
    "        preOrder(cur.left)  \n",
    "        preOrder(cur.right)\n",
    "        print(cur.val)\n",
    "    def levelOrder(self,cur):## 队列辅助\n",
    "        dq=deque()\n",
    "        dq.append(cur)# in queue\n",
    "        while dq:\n",
    "            tmp=dq.popleft()# out queue\n",
    "            if not tmp:\n",
    "                continue\n",
    "            print(tmp.val)\n",
    "            dq.append(tmp.left)\n",
    "            dq.append(tmp.right)"
   ]
  },
  {
   "cell_type": "code",
   "execution_count": 4,
   "metadata": {
    "collapsed": false
   },
   "outputs": [
    {
     "name": "stdout",
     "output_type": "stream",
     "text": [
      "3\n",
      "9\n",
      "20\n",
      "15\n",
      "7\n"
     ]
    }
   ],
   "source": [
    "root = [3,9,20,None,None,15,7]\n",
    "t=Tree()\n",
    "t.construct(root)\n",
    "t.levelOrder(t.root)"
   ]
  },
  {
   "cell_type": "markdown",
   "metadata": {},
   "source": [
    "## 层次遍历 BFS"
   ]
  },
  {
   "cell_type": "code",
   "execution_count": 12,
   "metadata": {
    "collapsed": true
   },
   "outputs": [],
   "source": [
    "def levelOrder(root):\n",
    "    if not root:return []\n",
    "    lere=[]\n",
    "    queue=collections.deque()\n",
    "    queue.append(root)\n",
    "    while queue:## None dont join the team\n",
    "        now=queue.popleft()# 出队\n",
    "        lere.append(now.val)\n",
    "        if now.left:\n",
    "            queue.append(now.left)\n",
    "        if now.right:\n",
    "            queue.append(now.right)        \n",
    "    return lere    "
   ]
  },
  {
   "cell_type": "code",
   "execution_count": 19,
   "metadata": {
    "collapsed": true
   },
   "outputs": [],
   "source": [
    "from collections import deque\n",
    "def levelOrder_1(root):\n",
    "    '''\n",
    "    return List[List[int]]\n",
    "    '''\n",
    "    if not root:return []\n",
    "    queue=deque()\n",
    "    queue.append(root)\n",
    "    lere=[]\n",
    "    while queue:\n",
    "        aa=[]\n",
    "        nowlen=len(queue)\n",
    "        for i in range(nowlen):\n",
    "            node=queue.popleft()\n",
    "            aa.append(node.val)\n",
    "            if node.left:queue.append(node.left)\n",
    "            if node.right:queue.append(node.right)\n",
    "        lere.append(aa)\n",
    "    return lere\n",
    "        "
   ]
  },
  {
   "cell_type": "code",
   "execution_count": 20,
   "metadata": {
    "collapsed": false
   },
   "outputs": [
    {
     "data": {
      "text/plain": [
       "[[3], [9, 20], [15, 7]]"
      ]
     },
     "execution_count": 20,
     "metadata": {},
     "output_type": "execute_result"
    }
   ],
   "source": [
    "root = [3,9,20,None,None,15,7]\n",
    "t=Tree()\n",
    "t.construct(root)\n",
    "levelOrder_1(t.root)"
   ]
  },
  {
   "cell_type": "markdown",
   "metadata": {},
   "source": [
    "## 二叉树的镜像"
   ]
  },
  {
   "cell_type": "code",
   "execution_count": null,
   "metadata": {
    "collapsed": true
   },
   "outputs": [],
   "source": [
    "def mirrorTree(root):\n",
    "    if root==None :\n",
    "        return root\n",
    "    left=mirrorTree(root.right)\n",
    "    right=mirrorTree(root.left)\n",
    "    root.left=left\n",
    "    root.right=right\n",
    "    return root\n",
    "    "
   ]
  },
  {
   "cell_type": "markdown",
   "metadata": {},
   "source": [
    "## 对称的二叉树"
   ]
  },
  {
   "cell_type": "code",
   "execution_count": 17,
   "metadata": {
    "collapsed": true
   },
   "outputs": [],
   "source": [
    "def isSymmetric(root):\n",
    "    def recur(L,R):\n",
    "        if not L and not R:return True\n",
    "        if not L or not R or L.val!=R.val:return False\n",
    "        return recur(L.left,R.right) and recur(L.right,R.left)\n",
    "    return recur(root.left,root.right) if root else True\n",
    "    "
   ]
  },
  {
   "cell_type": "code",
   "execution_count": 18,
   "metadata": {
    "collapsed": false
   },
   "outputs": [
    {
     "data": {
      "text/plain": [
       "False"
      ]
     },
     "execution_count": 18,
     "metadata": {},
     "output_type": "execute_result"
    }
   ],
   "source": [
    "root = [1,2,2,None,3,None,3]\n",
    "t=Tree()\n",
    "t.construct(root)\n",
    "isSymmetric(t.root)"
   ]
  },
  {
   "cell_type": "markdown",
   "metadata": {},
   "source": [
    "## 顺时针打印矩阵"
   ]
  },
  {
   "cell_type": "code",
   "execution_count": 20,
   "metadata": {
    "collapsed": true
   },
   "outputs": [],
   "source": [
    "def spiralOrder( matrix):\n",
    "    '''\n",
    "    input:matrix: List[List[int]]\n",
    "    output:List[int]\n",
    "    '''\n",
    "    if not matrix: return []\n",
    "    l,r,t,b=0,len(matrix[0])-1,0,len(matrix) - 1 #确定四个边界\n",
    "    \n",
    "    output=[]\n",
    "    while True:\n",
    "        for i in range(l,r+1):#left to right\n",
    "            output.append(matrix[t][i])\n",
    "        t+=1\n",
    "        if t>b:break\n",
    "        for i in range(t,b+1):# right to bottom\n",
    "            output.append(matrix[i][r])\n",
    "        r-=1\n",
    "        if r<l:break\n",
    "        for i in range(r,l-1,-1):# right to left\n",
    "            output.append(matrix[b][i])\n",
    "        b-=1\n",
    "        if t>b:break\n",
    "        for i in range(b,t-1,-1):# bottom to top\n",
    "            output.append(matrix[i][l])\n",
    "        l+=1\n",
    "        if l>r:break\n",
    "    return output\n",
    "            "
   ]
  },
  {
   "cell_type": "code",
   "execution_count": 22,
   "metadata": {
    "collapsed": false
   },
   "outputs": [
    {
     "data": {
      "text/plain": [
       "[1, 2, 3, 4, 8, 12, 11, 10, 9, 5, 6, 7]"
      ]
     },
     "execution_count": 22,
     "metadata": {},
     "output_type": "execute_result"
    }
   ],
   "source": [
    "spiralOrder([[1,2,3,4],[5,6,7,8],[9,10,11,12]])"
   ]
  },
  {
   "cell_type": "markdown",
   "metadata": {},
   "source": [
    "## 包含min的函数栈\n",
    "栈：先进后出"
   ]
  },
  {
   "cell_type": "code",
   "execution_count": 31,
   "metadata": {
    "collapsed": true
   },
   "outputs": [],
   "source": [
    "class MinStack:\n",
    "\n",
    "    def __init__(self):\n",
    "        \"\"\"\n",
    "        initialize your data structure here.\n",
    "        \"\"\"\n",
    "        self.stack=[]\n",
    "        \n",
    "\n",
    "\n",
    "    def push(self, x: int) -> None:\n",
    "        self.stack.append(x)\n",
    "\n",
    "\n",
    "    def pop(self) -> None:\n",
    "        self.stack.pop()\n",
    "\n",
    "\n",
    "    def top(self) -> int:\n",
    "        return self.stack[-1]\n",
    "\n",
    "\n",
    "    def min(self) -> int:\n",
    "        return min(self.stack)"
   ]
  },
  {
   "cell_type": "code",
   "execution_count": 32,
   "metadata": {
    "collapsed": true
   },
   "outputs": [],
   "source": [
    "minStack = MinStack()\n",
    "minStack.push(-2)\n",
    "minStack.push(0)\n",
    "minStack.push(-3)"
   ]
  },
  {
   "cell_type": "code",
   "execution_count": 33,
   "metadata": {
    "collapsed": false
   },
   "outputs": [
    {
     "data": {
      "text/plain": [
       "-3"
      ]
     },
     "execution_count": 33,
     "metadata": {},
     "output_type": "execute_result"
    }
   ],
   "source": [
    "minStack.min()"
   ]
  },
  {
   "cell_type": "code",
   "execution_count": 34,
   "metadata": {
    "collapsed": true
   },
   "outputs": [],
   "source": [
    "minStack.pop()"
   ]
  },
  {
   "cell_type": "code",
   "execution_count": 35,
   "metadata": {
    "collapsed": false
   },
   "outputs": [
    {
     "data": {
      "text/plain": [
       "0"
      ]
     },
     "execution_count": 35,
     "metadata": {},
     "output_type": "execute_result"
    }
   ],
   "source": [
    "minStack.top()"
   ]
  },
  {
   "cell_type": "code",
   "execution_count": 36,
   "metadata": {
    "collapsed": false
   },
   "outputs": [
    {
     "data": {
      "text/plain": [
       "-2"
      ]
     },
     "execution_count": 36,
     "metadata": {},
     "output_type": "execute_result"
    }
   ],
   "source": [
    "minStack.min()"
   ]
  },
  {
   "cell_type": "code",
   "execution_count": null,
   "metadata": {
    "collapsed": true
   },
   "outputs": [],
   "source": []
  }
 ],
 "metadata": {
  "kernelspec": {
   "display_name": "Python 3",
   "language": "python",
   "name": "python3"
  },
  "language_info": {
   "codemirror_mode": {
    "name": "ipython",
    "version": 3
   },
   "file_extension": ".py",
   "mimetype": "text/x-python",
   "name": "python",
   "nbconvert_exporter": "python",
   "pygments_lexer": "ipython3",
   "version": "3.6.0"
  }
 },
 "nbformat": 4,
 "nbformat_minor": 5
}
