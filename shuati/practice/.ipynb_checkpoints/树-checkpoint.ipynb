{
 "cells": [
  {
   "cell_type": "code",
   "execution_count": 1,
   "id": "1d1dcab7",
   "metadata": {
    "collapsed": true
   },
   "outputs": [],
   "source": [
    "class TreeNode:\n",
    "    def __init__(self, x):\n",
    "        self.val = x\n",
    "        self.left = None\n",
    "        self.right = None"
   ]
  },
  {
   "cell_type": "markdown",
   "id": "ec8b00eb",
   "metadata": {},
   "source": [
    "## 二叉树的最近公共祖先\n",
    "给定一颗二叉树，找到该树中两个指定节点的最近公共祖先\n",
    "\n",
    "x是q、p的祖先且x的深度（相对于根结点来说）尽可能大，一个节点也可以是它自己的祖先"
   ]
  },
  {
   "cell_type": "code",
   "execution_count": null,
   "id": "51b90855",
   "metadata": {
    "collapsed": true
   },
   "outputs": [],
   "source": [
    "## dfs 讲解链接：https://leetcode.cn/problems/lowest-common-ancestor-of-a-binary-tree/solution/236-er-cha-shu-de-zui-jin-gong-gong-zu-xian-hou-xu/\n",
    "def lowestCommonAncestor(root,p,q):\n",
    "    if not root or root==p or root==q:\n",
    "        return root\n",
    "    left=lowestCommonAncestor(root.left,p,q)\n",
    "    right=lowestCommonAncestor(root.right,p,q)\n",
    "    if not left:\n",
    "        return right\n",
    "    if not right:\n",
    "        return left\n",
    "    return root"
   ]
  },
  {
   "cell_type": "markdown",
   "id": "11568bca",
   "metadata": {},
   "source": [
    "## 二叉搜索树的最近公共祖先"
   ]
  },
  {
   "cell_type": "code",
   "execution_count": null,
   "id": "d9f21fce",
   "metadata": {
    "collapsed": true
   },
   "outputs": [],
   "source": [
    "def lowestCommonAncestor(root,p,q):\n",
    "    while root:\n",
    "        if root.val<p.val and root.val<q.val:\n",
    "            root=root.right\n",
    "        elif root.val>p.val and root.val>q.val:\n",
    "            root=root.left\n",
    "        else:\n",
    "            break\n",
    "    return root"
   ]
  },
  {
   "cell_type": "markdown",
   "id": "5842db65",
   "metadata": {},
   "source": [
    "## 不同的二叉搜索树\n",
    "中序遍历（左根右）为升序"
   ]
  },
  {
   "cell_type": "code",
   "execution_count": 7,
   "id": "3419e333",
   "metadata": {
    "collapsed": true
   },
   "outputs": [],
   "source": [
    "def numTrees(n):\n",
    "    #1--n 互不相同的二叉搜索树\n",
    "    dp=[0]*(n+1)\n",
    "    dp[0],dp[1]=1,1\n",
    "    for i in range(2,n+1):# 选i作为根时\n",
    "        for j in range(1,i+1):\n",
    "            #print(i,j)\n",
    "            dp[i]+=dp[j-1]*dp[i-j]\n",
    "    return dp[n]\n",
    "            "
   ]
  },
  {
   "cell_type": "markdown",
   "id": "0a8acaca",
   "metadata": {},
   "source": [
    "## 二叉树展开为链表\n",
    "展开后的单链表与二叉树的**先序遍历**顺序相同"
   ]
  },
  {
   "cell_type": "code",
   "execution_count": 13,
   "id": "cc0538f8",
   "metadata": {
    "collapsed": true
   },
   "outputs": [],
   "source": [
    "def flatten(root):\n",
    "    while root:## 将左子树拼接到右结点上，右子树拼接到左子树的最右结点上\n",
    "        if not root.left:\n",
    "            root=root.right\n",
    "        else:\n",
    "            pre=root.left\n",
    "            while pre.right:\n",
    "                pre=pre.right\n",
    "            pre.right=root.right\n",
    "            root.right=root.left\n",
    "            root.left=None\n",
    "            root=root.right\n",
    "    return root"
   ]
  },
  {
   "cell_type": "markdown",
   "id": "de3c6dbd",
   "metadata": {},
   "source": [
    "## 二叉树的直径\n",
    "任意两个节点路径长度中的最大值，这条路径可能穿过也可能不穿过根结点。"
   ]
  },
  {
   "cell_type": "code",
   "execution_count": null,
   "id": "f2a8997d",
   "metadata": {
    "collapsed": true
   },
   "outputs": [],
   "source": [
    "class Solution:\n",
    "    def diameterOfBinaryTree(self, root: Optional[TreeNode]) -> int:\n",
    "        self.ans = 0\n",
    "        def depth(node):\n",
    "            # 访问到空节点了，返回0\n",
    "            if not node:\n",
    "                return 0\n",
    "            # 左儿子为根的子树的深度\n",
    "            L = depth(node.left)\n",
    "            # 右儿子为根的子树的深度\n",
    "            R = depth(node.right)\n",
    "            # 计算d_node即L+R+1 并更新ans\n",
    "            self.ans = max(self.ans, L + R )\n",
    "            # 返回该节点为根的子树的深度\n",
    "            return max(L, R) + 1\n",
    "\n",
    "        depth(root)\n",
    "        return self.ans"
   ]
  },
  {
   "cell_type": "markdown",
   "id": "f4c5a53d",
   "metadata": {},
   "source": [
    "## 把二叉搜索树转换为累加树\n",
    "每个node的新值等于原树中大于或等于 node.val 的值之和"
   ]
  },
  {
   "cell_type": "code",
   "execution_count": null,
   "id": "2f0164f3",
   "metadata": {
    "collapsed": true
   },
   "outputs": [],
   "source": [
    "## 反序中序遍历 右跟左\n",
    "def convertBST(self, root: Optional[TreeNode]) -> Optional[TreeNode]:\n",
    "    \n",
    "    #re=[]\n",
    "    def inorder(root):\n",
    "        nonlocal total\n",
    "        if root:\n",
    "            inorder(root.right)\n",
    "            total+=root.val\n",
    "            root.val=total\n",
    "            inorder(root.left)\n",
    "    total=0\n",
    "    inorder(root)\n",
    "    return root"
   ]
  },
  {
   "cell_type": "code",
   "execution_count": null,
   "id": "fc2ea212",
   "metadata": {
    "collapsed": true
   },
   "outputs": [],
   "source": [
    "def convertBST(root):\n",
    "    def getSuccessor(node):\n",
    "        succ=node.right\n",
    "        while succ.left and succ.left!=node:\n",
    "            succ=succ.left\n",
    "        return succ\n",
    "    total=0\n",
    "    node=root\n",
    "    while node:\n",
    "        if not node.right:\n",
    "            total+=node.val\n",
    "            node.val=total\n",
    "            node=node.left\n",
    "        else:\n",
    "            succ=getSuccessor(node)\n",
    "            if not succ.left:\n",
    "                succ.left=node\n",
    "                node=node.right\n",
    "            else:\n",
    "                succ.left=None\n",
    "                total+=node.val\n",
    "                node.val=total\n",
    "                node=node.left\n",
    "    return root"
   ]
  },
  {
   "cell_type": "markdown",
   "id": "4084dc2f",
   "metadata": {},
   "source": [
    "## the sum of root"
   ]
  },
  {
   "cell_type": "code",
   "execution_count": null,
   "id": "b8a17840",
   "metadata": {
    "collapsed": true
   },
   "outputs": [],
   "source": [
    "def pathsum(root,targetSum):\n",
    "    # dfs\n",
    "    if not root:\n",
    "        return 0\n",
    "    def rootsum(root,targetSum):\n",
    "        if not root:\n",
    "            return 0\n",
    "        ret=0\n",
    "        if root.val==targetSum:\n",
    "            ret+=1\n",
    "        ret+=rootsum(root.left,targetSum-root.val)\n",
    "        ret+=rootsum(root.right,targetSum-root.val)\n",
    "        return ret\n",
    "    count=rootsum(root,targetSum)\n",
    "    count+=pathsum(root.left,targetSum)\n",
    "    count+=pathsum(root.right,targetSum)\n",
    "    return count"
   ]
  },
  {
   "cell_type": "markdown",
   "id": "2e0abbea",
   "metadata": {},
   "source": [
    "## 打家劫舍III\n",
    "https://leetcode.cn/problems/house-robber-iii/"
   ]
  },
  {
   "cell_type": "code",
   "execution_count": null,
   "id": "d5cea29c",
   "metadata": {
    "collapsed": true
   },
   "outputs": [],
   "source": [
    "def rob(root):\n",
    "    def TreeDp(root):\n",
    "        if not root:\n",
    "            return (0,0)\n",
    "        left=TreeDp(root.left)\n",
    "        right=TreeDp(root.right)\n",
    "        ## 0:表示偷根节点，不偷左右结点\n",
    "        ## 1:表示不偷根，偷左右结点\n",
    "        robnum=root.val+left[1]+right[1]## contain root\n",
    "        not_rob=max(left[0],left[1])+max(right[0],right[1])\n",
    "        return (robnum,not_rob)\n",
    "    \n",
    "    res=TreeDp(root)\n",
    "    return max(res)"
   ]
  },
  {
   "cell_type": "markdown",
   "id": "faab014f",
   "metadata": {},
   "source": [
    "## 二叉搜索树的后序遍历"
   ]
  },
  {
   "cell_type": "code",
   "execution_count": null,
   "id": "a023e57b",
   "metadata": {
    "collapsed": true
   },
   "outputs": [],
   "source": [
    "## url：https://leetcode.cn/problems/er-cha-sou-suo-shu-de-hou-xu-bian-li-xu-lie-lcof/solution/mian-shi-ti-33-er-cha-sou-suo-shu-de-hou-xu-bian-6/\n",
    "# 借助单调栈\n",
    "def verifyPostorder( postorder):\n",
    "    stack,root=[],float('inf')\n",
    "    for i in range(len(postorder)-1,-1,-1):\n",
    "        if postorder[i]>root:\n",
    "            return False\n",
    "        while stack and postorder[i]<stack[-1]:\n",
    "            root=stack.pop()\n",
    "        stack.append(postorder[i])\n",
    "    return True"
   ]
  },
  {
   "cell_type": "code",
   "execution_count": null,
   "id": "dc72dfa5",
   "metadata": {
    "collapsed": true
   },
   "outputs": [],
   "source": [
    "# 递归-recursion\n",
    "def verifyPostorder( postorder):\n",
    "    def recur(i,j):\n",
    "        if i>=j:\n",
    "            return True\n",
    "        p=i\n",
    "        while postorder[p]<postorder[j]:\n",
    "            p+=1\n",
    "        m=p\n",
    "        while postorder[p]>postorder[j]:\n",
    "            p+=1\n",
    "        return p==j and recur(i,m-1) and recur(m,j-1)\n",
    "    recur(0,len(postorder)-1)"
   ]
  },
  {
   "cell_type": "markdown",
   "id": "d7a7175a",
   "metadata": {},
   "source": [
    "## 二叉树中和为某一值的路径\n",
    "找出所有 从根节点到叶子节点 路径总和等于给定目标和的路径。"
   ]
  },
  {
   "cell_type": "code",
   "execution_count": null,
   "id": "3cbb4f74",
   "metadata": {
    "collapsed": true
   },
   "outputs": [],
   "source": [
    "## backtrack\n",
    "def pathSum(root, target):\n",
    "    res,path=[],[]\n",
    "    def recur(root,tar):\n",
    "        if not root:\n",
    "            return\n",
    "        path.append(root.val)\n",
    "        tar-=root.val\n",
    "        if tar==0 and not root.left and not root.right:\n",
    "            res.append(list(path))\n",
    "        recur(root.left,tar)\n",
    "        recur(root.right,tar)\n",
    "        path.pop()\n",
    "    recur(root,target)\n",
    "    return res\n",
    "    "
   ]
  },
  {
   "cell_type": "markdown",
   "id": "c036acc2",
   "metadata": {},
   "source": [
    "## 二叉搜索树与双向链表"
   ]
  },
  {
   "cell_type": "code",
   "execution_count": null,
   "id": "50312fea",
   "metadata": {
    "collapsed": true
   },
   "outputs": [],
   "source": [
    "# right 相当于 next，left相当于 pre\n",
    "def treeToDoublyList( root):\n",
    "    if not root:\n",
    "        return root\n",
    "    re=[]\n",
    "    def inorder(root):\n",
    "        # if root.left:\n",
    "        if not root:\n",
    "            return \n",
    "        inorder(root.left)\n",
    "        re.append(root)\n",
    "        inorder(root.right)\n",
    "    inorder(root)\n",
    "    for i in range(1,len(re)):\n",
    "        re[i].left=re[i-1]\n",
    "    for i in range(0,len(re)-1):\n",
    "        re[i].right=re[i+1]\n",
    "    re[0].left=re[len(re)-1]\n",
    "    re[len(re)-1].right=re[0]\n",
    "    return re[0]"
   ]
  },
  {
   "cell_type": "markdown",
   "id": "aaadb91a",
   "metadata": {},
   "source": [
    "## 二叉搜索树第k个大的节点"
   ]
  },
  {
   "cell_type": "code",
   "execution_count": null,
   "id": "c2e8230e",
   "metadata": {
    "collapsed": true
   },
   "outputs": [],
   "source": [
    "def kthLargest(root, k):\n",
    "    if not root:\n",
    "        return root\n",
    "    re=[]\n",
    "    def inorder(root):\n",
    "        # if root.left:\n",
    "        if not root:\n",
    "            return \n",
    "        inorder(root.left)\n",
    "        re.append(root.val)\n",
    "        inorder(root.right)\n",
    "    inorder(root)\n",
    "    return re[len(re)-k]"
   ]
  },
  {
   "cell_type": "markdown",
   "id": "239f655e",
   "metadata": {},
   "source": [
    "## 序列化二叉树"
   ]
  },
  {
   "cell_type": "code",
   "execution_count": null,
   "id": "892f9068",
   "metadata": {},
   "outputs": [],
   "source": [
    "def serialize(root):\n",
    "    #树节点到字符串\n",
    "     if not root:\n",
    "            return '[]'\n",
    "    queue=[]\n",
    "    queue.append(root)\n",
    "    res=[]\n",
    "    while queue:\n",
    "        node=queue.pop(0)\n",
    "        if node:\n",
    "            res.append(node.val)\n",
    "            queue.append(node.left)\n",
    "            queue.append(node.right)\n",
    "        else:\n",
    "            res.append('null')\n",
    "    return '['+','.join(res)+']'\n",
    "def deserialize(data):\n",
    "    # 字符串到数节点\n",
    "    if data=='[]':\n",
    "        return \n",
    "    vals,i=data[1:-1].split(','),1\n",
    "    \n",
    "    "
   ]
  }
 ],
 "metadata": {
  "kernelspec": {
   "display_name": "Python 3 (ipykernel)",
   "language": "python",
   "name": "python3"
  },
  "language_info": {
   "codemirror_mode": {
    "name": "ipython",
    "version": 3
   },
   "file_extension": ".py",
   "mimetype": "text/x-python",
   "name": "python",
   "nbconvert_exporter": "python",
   "pygments_lexer": "ipython3",
   "version": "3.7.11"
  }
 },
 "nbformat": 4,
 "nbformat_minor": 5
}
