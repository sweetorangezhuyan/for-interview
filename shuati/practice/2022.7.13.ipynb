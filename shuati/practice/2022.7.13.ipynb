{
 "cells": [
  {
   "cell_type": "code",
   "execution_count": null,
   "id": "7351a120",
   "metadata": {},
   "outputs": [],
   "source": [
    "## 笔试 ：主业务\n",
    "\n",
    "## 面试 ：主技巧\n",
    "\n",
    "## 刷leetcode：先做主技巧，找主技巧（点比踩多的题）\n",
    "\n",
    "## 主技巧：背后有一个基础的数据结构或者数据原型，可推广\n",
    "\n",
    "## 主业务：最优解就是在该题专有的业务上，找到聪明的做法\n",
    "\n",
    "## BFPRT"
   ]
  },
  {
   "cell_type": "markdown",
   "id": "8a92a5e2",
   "metadata": {},
   "source": [
    "# 给定一个只有小写字母（a～z）组成的字符串str，返回其中最长的无重复字符的子串长度"
   ]
  },
  {
   "cell_type": "code",
   "execution_count": 29,
   "id": "e921b058",
   "metadata": {},
   "outputs": [
    {
     "data": {
      "text/plain": [
       "array([ 5764607523034234880, -6917520243471087927,                   14,\n",
       "                          0,      140544214827008,  7307199746910528123,\n",
       "        7308254070093521523,  8458642046710522478,  7236833111847170930,\n",
       "        2459014012187195938,  8313489260153042275,  3900181196959801716,\n",
       "        7022349238375820340,  8872155185258193252,  7310601619042361122,\n",
       "        6877952589673291634,  7308613710341240933,  6566312176227808366,\n",
       "        2482735057479082619,  7287422521265496122,  3186074773430101102,\n",
       "        4189038663854989856,  2318265765732295200,  2322206376936961058,\n",
       "        8028075781168391714,  2459014313495306862])"
      ]
     },
     "execution_count": 29,
     "metadata": {},
     "output_type": "execute_result"
    }
   ],
   "source": [
    "##  0位置，为本身，长度为1\n",
    "##  1位置，\n",
    "## dp: i代表到i位置往左扩的最大长度\n",
    "## ord 字符串转数字\n",
    "## chr 数字转字符串\n",
    "import numpy as np\n"
   ]
  },
  {
   "cell_type": "code",
   "execution_count": 36,
   "id": "ee35925a",
   "metadata": {},
   "outputs": [],
   "source": [
    "def maxlength(str):\n",
    "    if len(str)==1:\n",
    "        return 1\n",
    "    if len(str)==0:\n",
    "        return 0\n",
    "    # last[0]--->a字符上一次出现的位置\n",
    "    # last[1]--->b字符上一次出现的位置\n",
    "    last=np.zeros((26),dtype=int)-1\n",
    "    # 全局变量\n",
    "    maxlen=1\n",
    "    # dp[0]=1 ，子串必须以0结尾，最长的无重复字符的子串长度\n",
    "    prelength=1\n",
    "    last[ord(str[0])-ord('a')]=0\n",
    "    for i in range(1,len(str)):\n",
    "        #i-last[str[i]-'a'] 当前字符串距上一次出现的位置的距离\n",
    "        #dp --》i\n",
    "        prelength=min(i-last[ord(str[i])-ord('a')],prelength+1)\n",
    "        maxlen=max(prelength,maxlen)\n",
    "        last[ord(str[i])-ord('a')]=i #更新\n",
    "    return maxlen\n",
    "               "
   ]
  },
  {
   "cell_type": "code",
   "execution_count": 37,
   "id": "bb5d1018",
   "metadata": {},
   "outputs": [
    {
     "name": "stdout",
     "output_type": "stream",
     "text": [
      "4\n"
     ]
    }
   ],
   "source": [
    "print(maxlength('abacbd'))"
   ]
  },
  {
   "cell_type": "markdown",
   "id": "7b6485df",
   "metadata": {},
   "source": [
    "# 如果两个字符串，所含字符种类完全一样，就算作一类    \n",
    "# 只由小写字母（a～z）组成的一批字符串\n",
    "# 都放在字符类型的数组 arr中，返回arr中一共有多少类"
   ]
  },
  {
   "cell_type": "code",
   "execution_count": 55,
   "id": "71554800",
   "metadata": {},
   "outputs": [],
   "source": [
    "'''\n",
    "输入：数组 arr ['','','','']类型,多个字符串组成的list\n",
    "输出：int数\n",
    "'''\n",
    "def types1(arrs):\n",
    "    #不同类的摘要 都放在types里\n",
    "    tys=[]\n",
    "    for arr in arrs:\n",
    "        map=np.zeros((26),dtype=bool)\n",
    "        for strr in arr:\n",
    "            map[ord(strr)-ord('a')]=True\n",
    "        key=''\n",
    "        #print(map)\n",
    "        for j in range(0,26):\n",
    "            if map[j]:\n",
    "                key+=chr(j+ord('a'))\n",
    "        tys.append(key)    \n",
    "    tys=set(tys)\n",
    "    print(tys)\n",
    "    return len(tys)"
   ]
  },
  {
   "cell_type": "code",
   "execution_count": 62,
   "id": "03703db2",
   "metadata": {},
   "outputs": [],
   "source": [
    "'''\n",
    "输入：数组 arr ['','','','']类型,多个字符串组成的list\n",
    "输出：int数\n",
    "位运算：a出现，则第0位记为1\n",
    "'''\n",
    "def types2(arrs):\n",
    "    #不同类的摘要 都放在types里\n",
    "    tys=[]\n",
    "    for arr in arrs:\n",
    "        key=0# int32      \n",
    "        for strr in arr:\n",
    "            key |=(1<<(ord(strr)-ord('a')))            \n",
    "        tys.append(key)    \n",
    "    tys=set(tys)\n",
    "    print(tys)\n",
    "    return len(tys)"
   ]
  },
  {
   "cell_type": "code",
   "execution_count": 63,
   "id": "575684a2",
   "metadata": {},
   "outputs": [
    {
     "name": "stdout",
     "output_type": "stream",
     "text": [
      "{33554432, 3, 4}\n"
     ]
    },
    {
     "data": {
      "text/plain": [
       "3"
      ]
     },
     "execution_count": 63,
     "metadata": {},
     "output_type": "execute_result"
    }
   ],
   "source": [
    "types2(['ab','c','z'])"
   ]
  },
  {
   "cell_type": "code",
   "execution_count": null,
   "id": "efe8ff95",
   "metadata": {},
   "outputs": [],
   "source": []
  }
 ],
 "metadata": {
  "kernelspec": {
   "display_name": "Python 3 (ipykernel)",
   "language": "python",
   "name": "python3"
  },
  "language_info": {
   "codemirror_mode": {
    "name": "ipython",
    "version": 3
   },
   "file_extension": ".py",
   "mimetype": "text/x-python",
   "name": "python",
   "nbconvert_exporter": "python",
   "pygments_lexer": "ipython3",
   "version": "3.7.11"
  }
 },
 "nbformat": 4,
 "nbformat_minor": 5
}
