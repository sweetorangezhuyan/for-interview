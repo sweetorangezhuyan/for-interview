{
 "cells": [
  {
   "cell_type": "code",
   "execution_count": null,
   "id": "1ae9632d",
   "metadata": {},
   "outputs": [],
   "source": []
  },
  {
   "cell_type": "markdown",
   "id": "0efdcad5",
   "metadata": {},
   "source": [
    "## 完全平方数\n",
    "给一个整数n，返回和为n的完全平方数的最小数量\n"
   ]
  },
  {
   "cell_type": "code",
   "execution_count": 4,
   "id": "0461a917",
   "metadata": {},
   "outputs": [
    {
     "data": {
      "text/plain": [
       "3"
      ]
     },
     "execution_count": 4,
     "metadata": {},
     "output_type": "execute_result"
    }
   ],
   "source": [
    "import math\n",
    "int(math.sqrt(12))"
   ]
  },
  {
   "cell_type": "code",
   "execution_count": 9,
   "id": "1287e573",
   "metadata": {},
   "outputs": [],
   "source": [
    "def numSquares(n):\n",
    "    ## 动态规划\n",
    "    ## 先将每个数设为最大的结果dp[i]=i\n",
    "    dp=[0]*(n+1)# 构成数i使用的最小平方和个数\n",
    "    for i in range(1,n+1):\n",
    "        dp[i]=i\n",
    "        j=1\n",
    "        while i-j*j>=0:\n",
    "            dp[i]=min(dp[i],dp[i-j*j]+1)\n",
    "            j+=1\n",
    "    print(dp)\n",
    "    return dp[n]"
   ]
  },
  {
   "cell_type": "code",
   "execution_count": 14,
   "id": "f7afa21d",
   "metadata": {},
   "outputs": [],
   "source": [
    "def numSquares_greed(n):\n",
    "    ps=set([i*i for i in range(1,int(n**0.5)+1)])## 贪心法\n",
    "    #print(ps)\n",
    "    def divisible(n,count):\n",
    "        if count==1:\n",
    "            return n in ps \n",
    "        for p in ps: \n",
    "            if divisible(n-p,count-1):\n",
    "                return True\n",
    "        return False\n",
    "    for count in range(1,n+1):\n",
    "        if divisible(n,count):\n",
    "            return count"
   ]
  },
  {
   "cell_type": "code",
   "execution_count": 15,
   "id": "a5c8034f",
   "metadata": {},
   "outputs": [
    {
     "name": "stdout",
     "output_type": "stream",
     "text": [
      "{1, 4, 9}\n"
     ]
    },
    {
     "data": {
      "text/plain": [
       "2"
      ]
     },
     "execution_count": 15,
     "metadata": {},
     "output_type": "execute_result"
    }
   ],
   "source": [
    "numSquares_greed(10)"
   ]
  },
  {
   "cell_type": "code",
   "execution_count": 10,
   "id": "ee930707",
   "metadata": {},
   "outputs": [
    {
     "name": "stdout",
     "output_type": "stream",
     "text": [
      "[0, 1, 2, 3, 1]\n"
     ]
    },
    {
     "data": {
      "text/plain": [
       "1"
      ]
     },
     "execution_count": 10,
     "metadata": {},
     "output_type": "execute_result"
    }
   ],
   "source": [
    "numSquares(4)"
   ]
  },
  {
   "cell_type": "markdown",
   "id": "3a445eab",
   "metadata": {},
   "source": [
    "## 除自身以外数组的乘积\n",
    "时间复杂度为$O(n)$"
   ]
  },
  {
   "cell_type": "code",
   "execution_count": 1,
   "id": "c84aec00",
   "metadata": {},
   "outputs": [],
   "source": [
    "def productExceptSelf(nums):\n",
    "    res,p,q=[1],1,1\n",
    "    for i in range(len(nums)-1):## 向右遍历 res[i]=1*nums[0]..nums[i-1]\n",
    "        p*=nums[i]\n",
    "        res.append(p)\n",
    "    #print(res)\n",
    "    for i in range(len(nums)-1,0,-1):## 向左遍历： 加入右半部分\n",
    "        q*=nums[i]\n",
    "        res[i-1]*=q\n",
    "    return res"
   ]
  },
  {
   "cell_type": "markdown",
   "id": "c4723260",
   "metadata": {},
   "source": [
    "## 下一个排列\n",
    "整数数组的 *下一个排列* 是指其整数的下一个字典序更大的排列\n"
   ]
  },
  {
   "cell_type": "markdown",
   "id": "82efdd5b",
   "metadata": {},
   "source": [
    "### 解题思路\n",
    "1.先找出最大的索引k满足nums[k]<nums[k+1],如果不存在，翻转整个数组 返回(k=n-2)\n",
    "\n",
    "2.再找出另一个最大的索引l，满足nums[l]>nums[k]\n",
    "\n",
    "3.交换nums[l]和nums[k]\n",
    "\n",
    "4.翻转nums[k+1:]"
   ]
  },
  {
   "cell_type": "code",
   "execution_count": 22,
   "id": "eeb013a0",
   "metadata": {},
   "outputs": [],
   "source": [
    "def nextPermutation(nums):\n",
    "    n=len(nums)\n",
    "    def reverse(nums,i,j):\n",
    "        while i<j:\n",
    "            nums[i],nums[j]=nums[j],nums[i]\n",
    "            i+=1\n",
    "            j-=1\n",
    "    k=-1\n",
    "    for i in range(n-2,-1,-1):\n",
    "        if nums[i+1]>nums[i]:\n",
    "            k=i\n",
    "            break\n",
    "    if k==-1:\n",
    "        reverse(nums,0,n-1)\n",
    "        return\n",
    "    l=-1\n",
    "    for i in range(n-1,k,-1):\n",
    "        if nums[i]>nums[k]:\n",
    "            l=i\n",
    "            break\n",
    "    #print(k,l)\n",
    "    nums[l],nums[k]=nums[k],nums[l]\n",
    "    reverse(nums,k+1,n-1)\n",
    "    #print(nums)\n",
    "    "
   ]
  },
  {
   "cell_type": "code",
   "execution_count": 23,
   "id": "67935ac3",
   "metadata": {},
   "outputs": [
    {
     "name": "stdout",
     "output_type": "stream",
     "text": [
      "1 4\n",
      "[1, 3, 1, 2, 4, 7]\n"
     ]
    }
   ],
   "source": [
    "nextPermutation([1,2,7,4,3,1])"
   ]
  },
  {
   "cell_type": "markdown",
   "id": "d674bc88",
   "metadata": {},
   "source": [
    "## 组合总和"
   ]
  },
  {
   "cell_type": "code",
   "execution_count": 28,
   "id": "6bfb54a2",
   "metadata": {},
   "outputs": [],
   "source": [
    "def combinationSum(candidates,target):\n",
    "    ## 回溯，深度优先遍历 \n",
    "    size=len(candidates)\n",
    "    if size==0:\n",
    "        return []\n",
    "    path=[]\n",
    "    res=[]\n",
    "    def dfs(candidates,begin,size,path,res,target):\n",
    "        if target<0:\n",
    "            return \n",
    "        if target==0:\n",
    "            res.append(path)\n",
    "        for index in range(begin,size):\n",
    "            dfs(candidates,index,size,path+[candidates[index]],res,target-candidates[index])\n",
    "    dfs(candidates,0,size,path,res,target)\n",
    "    return res\n",
    "    "
   ]
  },
  {
   "cell_type": "code",
   "execution_count": 29,
   "id": "3b956fdc",
   "metadata": {},
   "outputs": [
    {
     "data": {
      "text/plain": [
       "[[1, 1, 1], [1, 2]]"
      ]
     },
     "execution_count": 29,
     "metadata": {},
     "output_type": "execute_result"
    }
   ],
   "source": [
    "combinationSum([1,2],3)"
   ]
  },
  {
   "cell_type": "markdown",
   "id": "da121d69",
   "metadata": {},
   "source": [
    "## 和为k的子数组"
   ]
  },
  {
   "cell_type": "code",
   "execution_count": 51,
   "id": "ecd42541",
   "metadata": {},
   "outputs": [],
   "source": [
    "def subarraySum(nums,k):    ### 超时\n",
    "    ## 暴力法\n",
    "    n=len(nums)\n",
    "    count=0\n",
    "    sumnum=0\n",
    "    for i in range(n):## 双重遍历\n",
    "        for j in range(i,n):\n",
    "            sumnum+=nums[j]\n",
    "            if sumnum==k:\n",
    "                count+=1\n",
    "        sumnum=0\n",
    "    return count"
   ]
  },
  {
   "cell_type": "code",
   "execution_count": null,
   "id": "01884456",
   "metadata": {},
   "outputs": [],
   "source": [
    "def subarraySum_prefix(nums,k):\n",
    "    n=len(nums)\n",
    "    prefix=[0]*(n+1)\n",
    "    for i in range(1,1+n):\n",
    "        prefix[i]=prefix[i-1]+nums[i-1]\n",
    "    print(prefix)\n",
    "    count=0\n",
    "    for i in range(n):\n",
    "        for j in range(i,n):\n",
    "            if prefix[j+1]-prefix[i]==k:\n",
    "                count+=1\n",
    "    return count\n",
    "        "
   ]
  },
  {
   "cell_type": "code",
   "execution_count": 57,
   "id": "d22ebef3",
   "metadata": {},
   "outputs": [],
   "source": [
    "def subarraySum_prefix_dir(nums,k):\n",
    "    n=len(nums)\n",
    "    if n==0:\n",
    "        return 0\n",
    "    key={}\n",
    "    key[0]=1## key为前缀和，value为前缀和出现的次数\n",
    "    count=0\n",
    "    prefix=0\n",
    "    for num in nums:\n",
    "        prefix+=num \n",
    "        #print(prefix)\n",
    "        if prefix-k in key:\n",
    "            count+=key[prefix-k]\n",
    "        if prefix in key:\n",
    "            key[prefix]+=1\n",
    "        else:\n",
    "            key[prefix]=1\n",
    "    #print(key)\n",
    "    return count\n",
    "\n"
   ]
  },
  {
   "cell_type": "code",
   "execution_count": 58,
   "id": "07f50e13",
   "metadata": {},
   "outputs": [
    {
     "name": "stdout",
     "output_type": "stream",
     "text": [
      "{0: 1, 1: 1, 2: 1, 3: 1}\n"
     ]
    },
    {
     "data": {
      "text/plain": [
       "2"
      ]
     },
     "execution_count": 58,
     "metadata": {},
     "output_type": "execute_result"
    }
   ],
   "source": [
    "subarraySum_prefix_dir([1,1,1],2)"
   ]
  },
  {
   "cell_type": "markdown",
   "id": "821507de",
   "metadata": {},
   "source": [
    "### 卡特兰数\n",
    "$C_0=1$, $C_{n+1}=\\frac{2(2n+1)}{n+2}C_n$\n",
    "\n",
    "$h(0)=1,h(1)=1$\n",
    "\n",
    "$h_n=\\sum_{j=0}^{n-1}h_jh_{n-j}$ \n",
    "\n",
    "$h_n=\\frac{C_{2n}^n}{n+1} $\n",
    "\n",
    "$h_n=h_{n-1}\\frac{ (4n-2)}{n+1}$"
   ]
  },
  {
   "cell_type": "code",
   "execution_count": null,
   "id": "f2154fec",
   "metadata": {},
   "outputs": [],
   "source": [
    "def numTrees(n):\n",
    "    hashdir={}\n",
    "    def h(n): \n",
    "        if n in hashdir:\n",
    "            return hashdir[n]\n",
    "        if n==0:\n",
    "            return 1\n",
    "        if n==1:\n",
    "            return 1\n",
    "        temp=h(n-1)*(4*n-2)/(n+1)\n",
    "        hashdir[n]=temp\n",
    "        return temp\n",
    "    return int(h(n))"
   ]
  },
  {
   "cell_type": "markdown",
   "id": "72f5b657",
   "metadata": {},
   "source": [
    "## 最大正方形\n",
    "在一个由 '0' 和 '1' 组成的二维矩阵内，找到只包含 '1' 的最大正方形，并返回其面积。"
   ]
  },
  {
   "cell_type": "code",
   "execution_count": 59,
   "id": "cabc7a84",
   "metadata": {},
   "outputs": [],
   "source": [
    "def maximalSquare(matrix):\n",
    "    row,col=len(matrix),len(matrix[0])\n",
    "    if row==0 or col==0:\n",
    "        return 0\n",
    "    maxside=0\n",
    "    dp=[[0]*col for _ in range(row)]# i.j （矩阵的右下角，记录最大的矩阵）\n",
    "    for i in range(row):\n",
    "        for j in range(col):\n",
    "            if matrix[i][j]=='1':\n",
    "                if i==0 or j==0:\n",
    "                    dp[i][j]=1\n",
    "                else:\n",
    "                    dp[i][j]=min(dp[i-1][j],dp[i-1][j-1],dp[i][j-1])+1\n",
    "                maxside=max(maxside,dp[i][j])\n",
    "    \n",
    "    #print(dp)\n",
    "    return maxside**2"
   ]
  },
  {
   "cell_type": "code",
   "execution_count": 60,
   "id": "90a5d21b",
   "metadata": {},
   "outputs": [
    {
     "name": "stdout",
     "output_type": "stream",
     "text": [
      "[[1, 0, 1, 0, 0], [1, 0, 1, 1, 1], [1, 1, 1, 2, 2], [1, 0, 0, 1, 0]]\n"
     ]
    },
    {
     "data": {
      "text/plain": [
       "4"
      ]
     },
     "execution_count": 60,
     "metadata": {},
     "output_type": "execute_result"
    }
   ],
   "source": [
    "maximalSquare([[\"1\",\"0\",\"1\",\"0\",\"0\"],[\"1\",\"0\",\"1\",\"1\",\"1\"],[\"1\",\"1\",\"1\",\"1\",\"1\"],[\"1\",\"0\",\"0\",\"1\",\"0\"]])"
   ]
  },
  {
   "cell_type": "code",
   "execution_count": 63,
   "id": "24c76471",
   "metadata": {},
   "outputs": [
    {
     "data": {
      "text/plain": [
       "True"
      ]
     },
     "execution_count": 63,
     "metadata": {},
     "output_type": "execute_result"
    }
   ],
   "source": [
    "a='1'\n",
    "a.isdigit()"
   ]
  },
  {
   "cell_type": "markdown",
   "id": "eaddb6ee",
   "metadata": {},
   "source": [
    "## 解码字符串"
   ]
  },
  {
   "cell_type": "code",
   "execution_count": 101,
   "id": "c73a8c62",
   "metadata": {},
   "outputs": [],
   "source": [
    "def decodeString(s):\n",
    "    queue=[]\n",
    "    #re=''\n",
    "    for ch in s:\n",
    "        if ch==']':\n",
    "            nows=''\n",
    "            #print(queue)\n",
    "            while queue:\n",
    "                aa=queue.pop()\n",
    "                if aa!='[':\n",
    "                    nows=aa+nows\n",
    "                else:\n",
    "                    break\n",
    "            #print(queue)\n",
    "            nums=''\n",
    "            while queue:\n",
    "                bb=queue.pop()\n",
    "                if bb.isdigit():\n",
    "                    nums=bb+nums\n",
    "                else:\n",
    "                    queue.append(bb)\n",
    "                    break\n",
    "            nums=int(nums)\n",
    "            for x in nums*nows:\n",
    "                queue.append(x)\n",
    "            #print(queue)\n",
    "        else:\n",
    "            queue.append(ch)\n",
    "    #print(queue)\n",
    "    return ''.join(queue)"
   ]
  },
  {
   "cell_type": "code",
   "execution_count": 102,
   "id": "7331f517",
   "metadata": {
    "scrolled": true
   },
   "outputs": [
    {
     "data": {
      "text/plain": [
       "'leetcodebbbleetcodebbb'"
      ]
     },
     "execution_count": 102,
     "metadata": {},
     "output_type": "execute_result"
    }
   ],
   "source": [
    "decodeString('2[leetcode3[b]]')"
   ]
  },
  {
   "cell_type": "markdown",
   "id": "ccf17ccc",
   "metadata": {},
   "source": [
    "## 最长有效括号数"
   ]
  },
  {
   "cell_type": "code",
   "execution_count": 107,
   "id": "43614a73",
   "metadata": {},
   "outputs": [],
   "source": [
    "def longestValidParentheses(s):\n",
    "    ## 用栈的方式 栈记录索引\n",
    "    stack=[]\n",
    "    count=0\n",
    "    stack.append(-1)\n",
    "    for i in range(len(s)):\n",
    "        if s[i]=='(':\n",
    "            stack.append(i)\n",
    "        else:\n",
    "            stack.pop()\n",
    "            if len(stack)==0:\n",
    "                stack.append(i)\n",
    "            else:\n",
    "                count=max(count,i-stack[-1])\n",
    "            \n",
    "    return count"
   ]
  },
  {
   "cell_type": "code",
   "execution_count": 108,
   "id": "1f21fe63",
   "metadata": {},
   "outputs": [
    {
     "data": {
      "text/plain": [
       "2"
      ]
     },
     "execution_count": 108,
     "metadata": {},
     "output_type": "execute_result"
    }
   ],
   "source": [
    "longestValidParentheses('()(()')"
   ]
  },
  {
   "cell_type": "markdown",
   "id": "3d72d285",
   "metadata": {},
   "source": [
    "## 除法问题"
   ]
  },
  {
   "cell_type": "code",
   "execution_count": 122,
   "id": "1194fb1c",
   "metadata": {},
   "outputs": [],
   "source": [
    "## 深度优先搜索\n",
    "def calcEquation(equations,values,queries):\n",
    "    graph=defaultdict(dict)\n",
    "    for (a,b),v in zip(equations,values):\n",
    "        #print(a,b,v)\n",
    "        #graph[a]={}\n",
    "        graph[a][b]=v\n",
    "        #graph[b]={}\n",
    "        graph[b][a]=1/v\n",
    "    #print(graph)\n",
    "    def dfs(s,e):\n",
    "        if s not in graph or e not in graph:\n",
    "            return -1 \n",
    "        if s==e:\n",
    "            return 1\n",
    "        visited.add(s)\n",
    "        for i in graph[s]:\n",
    "            if i==e:\n",
    "                return graph[s][i]\n",
    "            if i not in visited:\n",
    "                ans=dfs(i,e)\n",
    "                if ans!=-1:\n",
    "                    return graph[s][i]*ans\n",
    "        return -1 \n",
    "    re=[]\n",
    "    for a,b in queries:\n",
    "        visited=set()\n",
    "        re.append(dfs(a,b))\n",
    "    return re"
   ]
  },
  {
   "cell_type": "code",
   "execution_count": 123,
   "id": "c1646c88",
   "metadata": {},
   "outputs": [
    {
     "name": "stdout",
     "output_type": "stream",
     "text": [
      "{'a': {'b': 2.0}, 'b': {'c': 3.0}, 'c': {'b': 0.3333333333333333}}\n"
     ]
    },
    {
     "data": {
      "text/plain": [
       "[6.0, -1, -1, 1, -1]"
      ]
     },
     "execution_count": 123,
     "metadata": {},
     "output_type": "execute_result"
    }
   ],
   "source": [
    "calcEquation([[\"a\",\"b\"],[\"b\",\"c\"]],[2.0,3.0],[[\"a\",\"c\"],[\"b\",\"a\"],[\"a\",\"e\"],[\"a\",\"a\"],[\"x\",\"x\"]])"
   ]
  },
  {
   "cell_type": "markdown",
   "id": "1fbe777a",
   "metadata": {},
   "source": [
    "## 根据身高重建队列"
   ]
  },
  {
   "cell_type": "code",
   "execution_count": 131,
   "id": "12fd7853",
   "metadata": {},
   "outputs": [],
   "source": [
    "def reconstructQueue(people):\n",
    "    ## 先排序再插入\n",
    "    res=[]\n",
    "    people=sorted(people,key=lambda x:(-x[0],x[1]))## x[0]降序，x[1]升序\n",
    "    #people=sorted(people,reverse=True)\n",
    "    print(people)\n",
    "    for p in people:\n",
    "        if len(res)<=p[1]:\n",
    "            res.append(p)\n",
    "        else:\n",
    "            res.insert(p[1],p)\n",
    "    return res"
   ]
  },
  {
   "cell_type": "code",
   "execution_count": 132,
   "id": "953d8a95",
   "metadata": {},
   "outputs": [
    {
     "name": "stdout",
     "output_type": "stream",
     "text": [
      "[[7, 0], [7, 1], [6, 1], [5, 0], [5, 2], [4, 4]]\n"
     ]
    },
    {
     "data": {
      "text/plain": [
       "[[5, 0], [7, 0], [5, 2], [6, 1], [4, 4], [7, 1]]"
      ]
     },
     "execution_count": 132,
     "metadata": {},
     "output_type": "execute_result"
    }
   ],
   "source": [
    "reconstructQueue([[7,0],[4,4],[7,1],[5,0],[6,1],[5,2]])"
   ]
  },
  {
   "cell_type": "markdown",
   "id": "83e58e0e",
   "metadata": {},
   "source": [
    "## 字典按照value 和 key排序"
   ]
  },
  {
   "cell_type": "code",
   "execution_count": 135,
   "id": "2eba02aa",
   "metadata": {},
   "outputs": [
    {
     "data": {
      "text/plain": [
       "{1: 'a', 2: 'b', 0: 'a'}"
      ]
     },
     "execution_count": 135,
     "metadata": {},
     "output_type": "execute_result"
    }
   ],
   "source": [
    "a={}\n",
    "a[1]='a'\n",
    "a[2]='b'\n",
    "a[0]='a'\n",
    "a"
   ]
  },
  {
   "cell_type": "code",
   "execution_count": 141,
   "id": "44836d43",
   "metadata": {},
   "outputs": [
    {
     "data": {
      "text/plain": [
       "[(1, 'a'), (0, 'a'), (2, 'b')]"
      ]
     },
     "execution_count": 141,
     "metadata": {},
     "output_type": "execute_result"
    }
   ],
   "source": [
    "sorted(a.items(),key= lambda x:x[0])##按照key\n",
    "sorted(a.items(),key= lambda x:x[1])##按照value"
   ]
  },
  {
   "cell_type": "markdown",
   "id": "4d75bd62",
   "metadata": {},
   "source": [
    "## 每日温度\n",
    "给定一个整数数组 temperatures ，表示每天的温度，返回一个数组 answer ，其中 $answer[i]$ 是指对于第 i 天，下一个更高温度出现在几天后。如果气温在这之后都不会升高，请在该位置用 0 来代替。\n",
    "\n",
    "输入: temperatures = [73,74,75,71,69,72,76,73]\n",
    "\n",
    "输出: [1,1,4,2,1,1,0,0]"
   ]
  },
  {
   "cell_type": "code",
   "execution_count": 145,
   "id": "3ca33c3f",
   "metadata": {},
   "outputs": [],
   "source": [
    "## 暴力法\n",
    "def dailyTemperatures(temperatures):\n",
    "    n=len(temperatures)\n",
    "    re=[0]*n\n",
    "    for i in range(n-1):\n",
    "        for j in range(i+1,n):\n",
    "            if temperatures[j]>temperatures[i]:\n",
    "                re[i]=j-i\n",
    "                break\n",
    "    return re"
   ]
  },
  {
   "cell_type": "code",
   "execution_count": 157,
   "id": "626cf14c",
   "metadata": {},
   "outputs": [],
   "source": [
    "## 栈的方式\n",
    "def dailyTemperatures_stack(temperatures):\n",
    "    n=len(temperatures)\n",
    "    stack=[]\n",
    "    stack.append((105,-1))\n",
    "    stack.append((temperatures[0],0))\n",
    "    re=[0]*n\n",
    "    for i in range(1,n):\n",
    "        while temperatures[i]>stack[-1][0]:## 当前温度大于栈顶元素\n",
    "            tem,idx=stack.pop()\n",
    "            re[idx]=i-idx\n",
    "        stack.append((temperatures[i],i))\n",
    "    return re\n",
    "            "
   ]
  },
  {
   "cell_type": "code",
   "execution_count": 158,
   "id": "0beb9569",
   "metadata": {},
   "outputs": [
    {
     "name": "stdout",
     "output_type": "stream",
     "text": [
      "73\n"
     ]
    },
    {
     "data": {
      "text/plain": [
       "[1, 1, 4, 2, 1, 1, 0, 0]"
      ]
     },
     "execution_count": 158,
     "metadata": {},
     "output_type": "execute_result"
    }
   ],
   "source": [
    "dailyTemperatures_stack([73,74,75,71,69,72,76,73])"
   ]
  },
  {
   "cell_type": "markdown",
   "id": "224be496",
   "metadata": {},
   "source": [
    "## 任务调度器"
   ]
  },
  {
   "cell_type": "code",
   "execution_count": 169,
   "id": "70dead19",
   "metadata": {},
   "outputs": [],
   "source": [
    "# 相同任务之间必须有 长度为n的冷却时间，任何一个单位时间，CPU可以完成一个任务或者处于待命状态\n",
    "#完成所有任务的最短时间取决于出现次数最多的任务数量\n",
    "#1.计算每个任务出现的次数\n",
    "#2.找出出现次数最多的任务，假设出现次数为x\n",
    "#3. （x-1）*（n+1）\n",
    "# 4. count 出现次数位x的任务总数\n",
    "def leastInterval(tasks,n):\n",
    "    le=len(tasks)\n",
    "    if le<=1:\n",
    "        return le\n",
    "    task_nums={}\n",
    "    for task in tasks:\n",
    "        task_nums[task]=task_nums.get(task,0)+1\n",
    "    \n",
    "    task_sort=sorted(task_nums.items(),key=lambda x:x[1],reverse=True)\n",
    "    max_task_count=task_sort[0][1]\n",
    "    #print(max_task_count)\n",
    "    res=(max_task_count-1)*(n+1)\n",
    "    #print(res)\n",
    "    for sort in task_sort:\n",
    "        if sort[1]==max_task_count:\n",
    "            res+=1\n",
    "    return max(le,res)"
   ]
  },
  {
   "cell_type": "code",
   "execution_count": 170,
   "id": "4e22366a",
   "metadata": {},
   "outputs": [
    {
     "data": {
      "text/plain": [
       "10"
      ]
     },
     "execution_count": 170,
     "metadata": {},
     "output_type": "execute_result"
    }
   ],
   "source": [
    "leastInterval([\"A\",\"A\",\"A\",\"B\",\"B\",\"B\",\"C\",\"C\",\"D\",\"D\"],2)"
   ]
  },
  {
   "cell_type": "markdown",
   "id": "774d2393",
   "metadata": {},
   "source": [
    "## 目标和"
   ]
  },
  {
   "cell_type": "code",
   "execution_count": 185,
   "id": "5c4f07b7",
   "metadata": {},
   "outputs": [],
   "source": [
    "## 0-1背包问题\n",
    "# 学习链接：https://app.gitbook.com/@maoshifan1989/s/python/hui-su-yu-dong-tai-gui-hua/bei-bao-dp\n",
    "def findTargetSumWays(nums,target):\n",
    "    s=sum(nums)\n",
    "    if target+s <0 or (target+s)&1:\n",
    "        return 0\n",
    "    V=(target+s)>>1\n",
    "    print(V)\n",
    "    f=[1]+[0]*V\n",
    "    for n in nums:\n",
    "        for i in range(V,n-1,-1):\n",
    "            f[i]+=f[i-n]\n",
    "    return f[-1]     "
   ]
  },
  {
   "cell_type": "code",
   "execution_count": 188,
   "id": "fda56266",
   "metadata": {},
   "outputs": [
    {
     "data": {
      "text/plain": [
       "0"
      ]
     },
     "execution_count": 188,
     "metadata": {},
     "output_type": "execute_result"
    }
   ],
   "source": [
    "findTargetSumWays([100],-200)"
   ]
  },
  {
   "cell_type": "code",
   "execution_count": null,
   "id": "0cc19f32",
   "metadata": {},
   "outputs": [],
   "source": [
    "## dfs\n",
    "def findTargetSumWays(nums,target):\n",
    "    def dfs(V,ind):\n",
    "        if ind==len(nums):\n",
    "            if V==0:\n",
    "                return 1\n",
    "            else:\n",
    "                return 0\n",
    "        res=0\n",
    "        res+=dfs(V-nums[ind],ind+1)\n",
    "        res+=dfs(V+nums[ind],ind+1)\n",
    "        return res\n",
    "    return dfs(target,0)"
   ]
  },
  {
   "cell_type": "code",
   "execution_count": 187,
   "id": "063f4c3f",
   "metadata": {},
   "outputs": [
    {
     "name": "stdout",
     "output_type": "stream",
     "text": [
      "4\n"
     ]
    },
    {
     "data": {
      "text/plain": [
       "5"
      ]
     },
     "execution_count": 187,
     "metadata": {},
     "output_type": "execute_result"
    }
   ],
   "source": [
    "findTargetSumWays([1,1,1,1,1],3)"
   ]
  },
  {
   "cell_type": "code",
   "execution_count": 171,
   "id": "995cbf90",
   "metadata": {},
   "outputs": [
    {
     "data": {
      "text/plain": [
       "4"
      ]
     },
     "execution_count": 171,
     "metadata": {},
     "output_type": "execute_result"
    }
   ],
   "source": [
    "(3+5)>>1"
   ]
  },
  {
   "cell_type": "code",
   "execution_count": 189,
   "id": "bf81c20f",
   "metadata": {},
   "outputs": [
    {
     "data": {
      "text/plain": [
       "1"
      ]
     },
     "execution_count": 189,
     "metadata": {},
     "output_type": "execute_result"
    }
   ],
   "source": [
    "11&1"
   ]
  },
  {
   "cell_type": "code",
   "execution_count": null,
   "id": "54bebeb3",
   "metadata": {},
   "outputs": [],
   "source": []
  }
 ],
 "metadata": {
  "kernelspec": {
   "display_name": "Python 3 (ipykernel)",
   "language": "python",
   "name": "python3"
  },
  "language_info": {
   "codemirror_mode": {
    "name": "ipython",
    "version": 3
   },
   "file_extension": ".py",
   "mimetype": "text/x-python",
   "name": "python",
   "nbconvert_exporter": "python",
   "pygments_lexer": "ipython3",
   "version": "3.7.11"
  }
 },
 "nbformat": 4,
 "nbformat_minor": 5
}
