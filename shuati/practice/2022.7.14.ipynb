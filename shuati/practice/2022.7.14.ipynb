{
 "cells": [
  {
   "cell_type": "markdown",
   "id": "5414cb8d",
   "metadata": {},
   "source": [
    "# 给定一个非负数组arr 和一个正数m，返回arr所有的子序列中累加和%m之后的最大值\n"
   ]
  },
  {
   "cell_type": "markdown",
   "id": "93d39b1b",
   "metadata": {},
   "source": [
    "## （1）arr中的每个数字不大\n",
    "## （2）m值很小\n",
    "## （3）arr的长度很短，但arr每个数字比较大并且m比较大"
   ]
  },
  {
   "cell_type": "code",
   "execution_count": null,
   "id": "e07bf7d0",
   "metadata": {},
   "outputs": [],
   "source": [
    "'''\n",
    "暴力法，递归 暴力根据数组构成每种子序列，复杂度很高 \n",
    "arr:数组 \n",
    "index： 当前索引的值参不参与构成子序列  要、不要 int\n",
    "summ：arr[0....index-1]所做决定构成的子序列形成的累加和 int\n",
    "hashset：list\n",
    "'''\n",
    "\n",
    "def process(arr,index,summ,hashset):\n",
    "    if index==len(arr):\n",
    "        hashset.append(summ)\n",
    "    else:\n",
    "        process(arr,index+1,summ,hashset)#no \n",
    "        process(arr,index+1,summ+arr[index],hashset)# yes\n",
    "def max1(arr,m):\n",
    "    hashset=[]\n",
    "    process(arr,0,0,hashset)\n",
    "    hashset=set(hashset)#去掉重复部分\n",
    "    max_m=0\n",
    "    for summ in hashset:\n",
    "        max_m=max(max_m,summ%m)\n",
    "    return max_m"
   ]
  },
  {
   "cell_type": "code",
   "execution_count": 3,
   "id": "c24f7fa9",
   "metadata": {},
   "outputs": [],
   "source": [
    "import numpy as np"
   ]
  },
  {
   "cell_type": "code",
   "execution_count": 25,
   "id": "2bc5c875",
   "metadata": {},
   "outputs": [],
   "source": [
    "'''\n",
    "dp矩阵 ， dp[i][j]表示arr[0...i]构成的子序列能否得到和j\n",
    "第1行和第1列容易得到 \n",
    "0-1背包问题：所有数的和不太大的时候\n",
    "对于问题（1）\n",
    "''' \n",
    "def process1(arr,m):\n",
    "    sumall=sum(arr)\n",
    "    dp=np.zeros((len(arr),sumall+1),dtype=bool)\n",
    "    dp[:,0]=True\n",
    "    dp[0,arr[0]]=True\n",
    "    for i in range(1,len(arr)):\n",
    "        for j in range(1,sumall+1):\n",
    "            #求dp[i][j]的值\n",
    "            dp[i][j]=dp[i-1][j]\n",
    "            if (j-arr[i])>=0:\n",
    "                dp[i][j]=dp[i-1][j] or dp[i-1][j-arr[i]]\n",
    "    max_m=0\n",
    "    for j in range(0,sumall+1):\n",
    "        if dp[len(arr)-1,j]:\n",
    "            max_m=max(max_m,j%m)\n",
    "    print(np.sum(dp,axis=0))\n",
    "    return max_m\n",
    "    \n",
    "    "
   ]
  },
  {
   "cell_type": "code",
   "execution_count": 26,
   "id": "340c1a35",
   "metadata": {},
   "outputs": [
    {
     "name": "stdout",
     "output_type": "stream",
     "text": [
      "[3 2 1 1 0 3 2 1 1]\n",
      "0\n"
     ]
    }
   ],
   "source": [
    "print(process1([5,1,2],1))"
   ]
  },
  {
   "cell_type": "code",
   "execution_count": 27,
   "id": "0b4aae15",
   "metadata": {},
   "outputs": [],
   "source": [
    "'''\n",
    "对于问题（2），m不大\n",
    "10 8次方～9次方\n",
    "\n",
    "N*m -->dp[i][j]表示arr[0...i]构成的子序列构成的和%m=j-->true\n",
    "\n",
    "'''\n",
    "def max2(arr,m):\n",
    "    N=len(arr)\n",
    "    dp=np.zeros((N,m-1),dtype=bool)\n",
    "    dp[0,arr[0]%m]=True\n",
    "    dp[:,0]=True#都不选择\n",
    "    for i in range(1,N):\n",
    "        for j in range(0,m-1):\n",
    "            dp[i][j]=dp[i-1][j]#不用m\n",
    "            cur=arr[i]%m#如果是4\n",
    "            #凑%值\n",
    "            if (j-cur)>=0:\n",
    "                dp[i][j]=dp[i-1][j] or dp[i-1][j-cur]\n",
    "            # cur=8 m=9 j=3 凑膜值时 9+3 -8  转一圈\n",
    "            if (m+j-cur<m):\n",
    "                dp[i][j]=dp[i-1][j] or dp[i-1][m+j-cur]\n",
    "    ans=0\n",
    "    for i in range(0,m):\n",
    "        if dp[N-1][i]:\n",
    "            ans=i\n",
    "    return ans\n",
    "            \n",
    "            \n",
    "        "
   ]
  },
  {
   "cell_type": "code",
   "execution_count": null,
   "id": "608dc8d2",
   "metadata": {},
   "outputs": [],
   "source": [
    "'''\n",
    "(3) arr的长度很短，但arr每个数字比较大并且m比较大\n",
    "分治法\n",
    "分为左右两个部分，暴力法\n",
    "【有序左】 【有序右】\n",
    "'''\n",
    "#在arr[index...end]上自由选择\n",
    "def process4(arr,index,summ,end,m,slist):\n",
    "    if index==end+1:\n",
    "        slist.append(summ)\n",
    "    else:\n",
    "        process4(arr,index+1,summ,end,m,slist)\n",
    "        process4(arr,index+1,summ+arr[index],slist)\n",
    "def max4(arr,m):\n",
    "    if len(arr)==1:\n",
    "        return arr[0]%m\n",
    "    mid=(len(arr)-1)/2\n",
    "    list1=[]\n",
    "    process4(arr,0,0,mid,list1)\n",
    "    list2=[]\n",
    "    process4(arr,mid+1,0,len(arr)-1,list1)\n",
    "    list1=set(list1.sort())\n",
    "    list2=set(list2.sort())\n",
    "    ant=0\n",
    "    for left in list1:\n",
    "        #floor有问题  在右侧找和left和最接近m-1的\n",
    "        ant=max(ant,left+np.floor(m-1-left))\n",
    "    return ant"
   ]
  },
  {
   "cell_type": "code",
   "execution_count": 31,
   "id": "2fcd337d",
   "metadata": {},
   "outputs": [
    {
     "ename": "AttributeError",
     "evalue": "'numpy.ndarray' object has no attribute 'floor'",
     "output_type": "error",
     "traceback": [
      "\u001b[0;31m---------------------------------------------------------------------------\u001b[0m",
      "\u001b[0;31mAttributeError\u001b[0m                            Traceback (most recent call last)",
      "\u001b[0;32m/var/folders/8f/6gk48qmd6h55b90mfgnr3zfm0000gp/T/ipykernel_65482/3618045011.py\u001b[0m in \u001b[0;36m<module>\u001b[0;34m\u001b[0m\n\u001b[1;32m      4\u001b[0m \u001b[0mb\u001b[0m\u001b[0;34m=\u001b[0m\u001b[0mnp\u001b[0m\u001b[0;34m.\u001b[0m\u001b[0marray\u001b[0m\u001b[0;34m(\u001b[0m\u001b[0mb\u001b[0m\u001b[0;34m)\u001b[0m\u001b[0;34m\u001b[0m\u001b[0;34m\u001b[0m\u001b[0m\n\u001b[1;32m      5\u001b[0m \u001b[0;32mfor\u001b[0m \u001b[0mleft\u001b[0m \u001b[0;32min\u001b[0m \u001b[0ma\u001b[0m\u001b[0;34m:\u001b[0m\u001b[0;34m\u001b[0m\u001b[0;34m\u001b[0m\u001b[0m\n\u001b[0;32m----> 6\u001b[0;31m     \u001b[0mprint\u001b[0m\u001b[0;34m(\u001b[0m\u001b[0mb\u001b[0m\u001b[0;34m.\u001b[0m\u001b[0mfloor\u001b[0m\u001b[0;34m(\u001b[0m\u001b[0;36m9\u001b[0m\u001b[0;34m-\u001b[0m\u001b[0;36m1\u001b[0m\u001b[0;34m-\u001b[0m\u001b[0mleft\u001b[0m\u001b[0;34m)\u001b[0m\u001b[0;34m)\u001b[0m\u001b[0;34m\u001b[0m\u001b[0;34m\u001b[0m\u001b[0m\n\u001b[0m",
      "\u001b[0;31mAttributeError\u001b[0m: 'numpy.ndarray' object has no attribute 'floor'"
     ]
    }
   ],
   "source": [
    "#m=9  0~8\n",
    "a=[2,3,4,6]\n",
    "b=[3,4,5,6,7,8]\n",
    "for left in a:   \n",
    "    print(b.floor(9-1-left))"
   ]
  },
  {
   "cell_type": "markdown",
   "id": "15326b9d",
   "metadata": {},
   "source": [
    "# 快速排序"
   ]
  },
  {
   "cell_type": "code",
   "execution_count": 33,
   "id": "ff3f3741",
   "metadata": {},
   "outputs": [
    {
     "name": "stdout",
     "output_type": "stream",
     "text": [
      "[1, 2, 6, 7, 10]\n"
     ]
    }
   ],
   "source": [
    "'''\n",
    "1.从序列中选择一个为基准数\n",
    "2.将比基准数大的数全放在基准数的右边，比基准数小的放在数的左边\n",
    "'''\n",
    "def partion(arr,l,r):\n",
    "    pp=arr[l]\n",
    "    i=l\n",
    "    j=r\n",
    "    while(i<j):\n",
    "        while arr[j]>=pp and i<j:\n",
    "            j-=1\n",
    "        arr[i]=arr[j]\n",
    "        while arr[i]<=pp and i<j :\n",
    "            i+=1 \n",
    "        arr[j]=arr[i]\n",
    "    arr[i]=pp \n",
    "    return i\n",
    "def quicksort(arr,l,r):\n",
    "    if l<r:\n",
    "        k=partion(arr,l,r)\n",
    "        quicksort(arr,0,k-1)\n",
    "        quicksort(arr,k+1,r)\n",
    "arr=[2,10,6,1,7]\n",
    "quicksort(arr,0,len(arr)-1)#\n",
    "print(arr)\n",
    "        "
   ]
  },
  {
   "cell_type": "code",
   "execution_count": null,
   "id": "c56d0c50",
   "metadata": {},
   "outputs": [],
   "source": []
  }
 ],
 "metadata": {
  "kernelspec": {
   "display_name": "Python 3 (ipykernel)",
   "language": "python",
   "name": "python3"
  },
  "language_info": {
   "codemirror_mode": {
    "name": "ipython",
    "version": 3
   },
   "file_extension": ".py",
   "mimetype": "text/x-python",
   "name": "python",
   "nbconvert_exporter": "python",
   "pygments_lexer": "ipython3",
   "version": "3.7.11"
  }
 },
 "nbformat": 4,
 "nbformat_minor": 5
}
