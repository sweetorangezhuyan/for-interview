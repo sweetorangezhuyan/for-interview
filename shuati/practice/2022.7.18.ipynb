{
 "cells": [
  {
   "cell_type": "markdown",
   "id": "709bad52",
   "metadata": {},
   "source": [
    "# power整数、数组arr、数组reverse ，len（arr）=$2^{power}$, reverse的每一个值都在0~power之内\n",
    "# 任何一个在前的数字可以和任何一个在后的数组构成一对数，可能是升序关系、相等关系或者降序关系"
   ]
  },
  {
   "cell_type": "code",
   "execution_count": 1,
   "id": "4b9d44d1",
   "metadata": {},
   "outputs": [],
   "source": [
    "def reverse_op(arr):\n",
    "    #整个数组逆序\n",
    "    l=0\n",
    "    r=len(arr)-1\n",
    "    while l<r:\n",
    "        tmp=arr[l]\n",
    "        arr[l]=arr[r]\n",
    "        arr[r]=tmp\n",
    "        l+=1\n",
    "        r-=1\n",
    "    return arr"
   ]
  },
  {
   "cell_type": "code",
   "execution_count": 9,
   "id": "557181fc",
   "metadata": {},
   "outputs": [],
   "source": [
    "def reverse_part(arr,L,R):\n",
    "    #整个数组逆序\n",
    "    l=L\n",
    "    r=R\n",
    "    while l<r:\n",
    "        tmp=arr[l]\n",
    "        arr[l]=arr[r]\n",
    "        arr[r]=tmp\n",
    "        l+=1\n",
    "        r-=1\n",
    "    return arr\n",
    "def reverse_op1(arr,interval):\n",
    "    re_num=len(arr)//interval\n",
    "    for i in range(re_num):\n",
    "        start=i*interval\n",
    "        end=start+interval-1\n",
    "        arr=reverse_part(arr,start,end)\n",
    "        start+=interval \n",
    "    return arr"
   ]
  },
  {
   "cell_type": "code",
   "execution_count": 18,
   "id": "a1fb9eac",
   "metadata": {},
   "outputs": [],
   "source": [
    "def getDescending(arr):\n",
    "    #暴力法\n",
    "    count=0\n",
    "    for i in range(0,len(arr)-1):\n",
    "        for j in range(i+1,len(arr)):\n",
    "            if arr[i]>arr[j]:\n",
    "                print('{} >{}'.format(arr[i],arr[j]))\n",
    "                count+=1\n",
    "    return count"
   ]
  },
  {
   "cell_type": "code",
   "execution_count": 19,
   "id": "d29664c8",
   "metadata": {},
   "outputs": [
    {
     "name": "stdout",
     "output_type": "stream",
     "text": [
      "[4, 3, 2, 5, 1]\n",
      "4 >3\n",
      "4 >2\n",
      "4 >1\n",
      "3 >2\n",
      "3 >1\n",
      "2 >1\n",
      "5 >1\n",
      "7\n"
     ]
    }
   ],
   "source": [
    "arr=reverse_op1([3,4,5,2,1],2)\n",
    "print(arr)\n",
    "print(getDescending(arr))"
   ]
  },
  {
   "cell_type": "markdown",
   "id": "c4136b90",
   "metadata": {},
   "source": [
    "## 今日头条题目"
   ]
  },
  {
   "cell_type": "markdown",
   "id": "a008790f",
   "metadata": {},
   "source": [
    "# 数组为${(3,2,2,3,1)}$, 查询为${(0,3,2)}$, 意思为在0～3这个范围上，有几个2？\n",
    "# 如果个你一个数组arr，对这个数组的查询非常的频繁，请返回所有查询的结果"
   ]
  },
  {
   "cell_type": "code",
   "execution_count": null,
   "id": "542f6965",
   "metadata": {},
   "outputs": [],
   "source": [
    "'''\n",
    "1.暴力解法：耗时 \n",
    "2.字典法 key：值，value：索引，查索引使用 二分法 ---》构造数据预处理结构 \n",
    "'''"
   ]
  },
  {
   "cell_type": "code",
   "execution_count": 9,
   "id": "9c64f6a8",
   "metadata": {},
   "outputs": [],
   "source": [
    "def countt(mlist,m):   \n",
    "    #在有序列表中，查找小于m的个数 二分法 \n",
    "    L=0\n",
    "    R=len(mlist)-1\n",
    "    mostRight=-1# 初始值有具体意义\n",
    "    while L<=R:\n",
    "        mid=L+((R-L)>>1)#求中点,避免溢出\n",
    "        if mlist[mid]<m:\n",
    "            mostRight=mid\n",
    "            L=mid+1#右侧二分\n",
    "        else:\n",
    "            R=mid-1#左侧二分\n",
    "    return mostRight+1"
   ]
  },
  {
   "cell_type": "code",
   "execution_count": 12,
   "id": "b43e084f",
   "metadata": {},
   "outputs": [],
   "source": [
    "def search_num(arr,search_arr):\n",
    "    dirlist={}\n",
    "    #构造value为list的字典\n",
    "    for index,data in enumerate(arr):\n",
    "        dirlist.setdefault(data,[]).append(index)### 构造格式为list的value值\n",
    "    num_list=dirlist[search_arr[-1]]\n",
    "    start=search_arr[0]\n",
    "    end=search_arr[1]\n",
    "    '''\n",
    "    遍历每个值，时间复杂度为O（N）\n",
    "    '''\n",
    "#     numm=0\n",
    "#     for i in num_list:\n",
    "#         if i>=start and i <= end:\n",
    "#             numm+=1\n",
    "    '''\n",
    "    采用二分法 \n",
    "    < start的有多少个 a \n",
    "    <= end 的有多少个 b \n",
    "    b-a\n",
    "    '''\n",
    "    a=countt(num_list,start)\n",
    "    b=countt(num_list,end+1)\n",
    "    print(b-a)\n",
    "    #print(dirlist)\n"
   ]
  },
  {
   "cell_type": "code",
   "execution_count": 13,
   "id": "fbc67a26",
   "metadata": {},
   "outputs": [
    {
     "name": "stdout",
     "output_type": "stream",
     "text": [
      "2\n"
     ]
    }
   ],
   "source": [
    "search_num([3,2,2,3,1],[0,3,2])"
   ]
  },
  {
   "cell_type": "markdown",
   "id": "38bc84bf",
   "metadata": {},
   "source": [
    "# 求数组L---R的累加和"
   ]
  },
  {
   "cell_type": "code",
   "execution_count": 16,
   "id": "90c00ae4",
   "metadata": {},
   "outputs": [],
   "source": [
    "import numpy as np\n",
    "def sum_lr(arr,L,R):\n",
    "    #先构造累加和列表 help[i]表示 arr[0...i]的累加和\n",
    "    help=np.zeros((len(arr)),dtype=int)\n",
    "    help[0]=arr[0]\n",
    "    for i in range(1,len(arr)):\n",
    "        help[i]=help[i-1]+arr[i]\n",
    "    R_0=help[R]\n",
    "    L_0=help[L-1]\n",
    "    return (help[R]-help[L-1])"
   ]
  },
  {
   "cell_type": "code",
   "execution_count": 18,
   "id": "cc6c1a69",
   "metadata": {},
   "outputs": [
    {
     "data": {
      "text/plain": [
       "3"
      ]
     },
     "execution_count": 18,
     "metadata": {},
     "output_type": "execute_result"
    }
   ],
   "source": []
  },
  {
   "cell_type": "code",
   "execution_count": 5,
   "id": "778b37f7",
   "metadata": {},
   "outputs": [
    {
     "data": {
      "text/plain": [
       "1"
      ]
     },
     "execution_count": 5,
     "metadata": {},
     "output_type": "execute_result"
    }
   ],
   "source": [
    "3//2"
   ]
  },
  {
   "cell_type": "code",
   "execution_count": null,
   "id": "8d1e40a5",
   "metadata": {},
   "outputs": [],
   "source": []
  }
 ],
 "metadata": {
  "kernelspec": {
   "display_name": "Python 3 (ipykernel)",
   "language": "python",
   "name": "python3"
  },
  "language_info": {
   "codemirror_mode": {
    "name": "ipython",
    "version": 3
   },
   "file_extension": ".py",
   "mimetype": "text/x-python",
   "name": "python",
   "nbconvert_exporter": "python",
   "pygments_lexer": "ipython3",
   "version": "3.7.11"
  }
 },
 "nbformat": 4,
 "nbformat_minor": 5
}
