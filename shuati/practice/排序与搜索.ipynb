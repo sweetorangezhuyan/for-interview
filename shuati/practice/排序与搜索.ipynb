{
 "cells": [
  {
   "cell_type": "markdown",
   "id": "39d7cdaf",
   "metadata": {},
   "source": [
    "## 颜色分类"
   ]
  },
  {
   "cell_type": "code",
   "execution_count": 12,
   "id": "7fd7e066",
   "metadata": {},
   "outputs": [],
   "source": [
    "def sortColors(nums):\n",
    "    dirr={0:0,1:0,2:0}\n",
    "    for num in nums:\n",
    "        dirr[num]+=1\n",
    "    nums[:]=[0]*dirr[0]+[1]*dirr[1]+[2]*dirr[2]\n",
    "    print(nums)\n",
    "        \n",
    "    "
   ]
  },
  {
   "cell_type": "markdown",
   "id": "65265bbb",
   "metadata": {},
   "source": [
    "## 前K个高频元素"
   ]
  },
  {
   "cell_type": "code",
   "execution_count": 18,
   "id": "0d74e020",
   "metadata": {},
   "outputs": [],
   "source": [
    "def topKFrequent_1(nums, k):\n",
    "    results=[]\n",
    "    numsSet=set(nums)\n",
    "    for ns in numsSet:\n",
    "        results.append([nums.count(ns),ns])\n",
    "    results.sort(reverse=True)\n",
    "    vals=results[:k]\n",
    "    res=[]\n",
    "    for i in range(k):\n",
    "        res.append(vals[i][1])\n",
    "    return res\n",
    "#     dirr={}\n",
    "#     # 1.count\n",
    "#     for num in nums:\n",
    "#         if num in dirr.keys():\n",
    "#             dirr[num]+=1\n",
    "#         else:\n",
    "#             dirr.setdefault(num,1)\n",
    "#     # 2.stack\n",
    "    \n",
    "    "
   ]
  },
  {
   "cell_type": "code",
   "execution_count": 21,
   "id": "dde03049",
   "metadata": {},
   "outputs": [],
   "source": [
    "import collections\n",
    "import heapq"
   ]
  },
  {
   "cell_type": "code",
   "execution_count": 33,
   "id": "583a1edd",
   "metadata": {},
   "outputs": [],
   "source": [
    "#堆 处理海量数据的 topK，分位数 非常合适，优先队列 应用在元素优先级排序，比如本题的频率排序非常合适\n",
    "def topKFrequent_heap(nums, k):\n",
    "    stat=collections.Counter(nums)\n",
    "    num=[(-i[1],i[0]) for i in stat.items()]## 小顶堆\n",
    "    print(num)\n",
    "    heap=[]\n",
    "    for n in num:\n",
    "        heapq.heappush(heap,n)\n",
    "    print(heap)\n",
    "    ans=[]\n",
    "    \n",
    "    while k>0:\n",
    "        ans.append(heapq.heappop(heap)[1])\n",
    "        k-=1\n",
    "    return ans\n",
    "        "
   ]
  },
  {
   "cell_type": "code",
   "execution_count": 34,
   "id": "d673f2bb",
   "metadata": {},
   "outputs": [
    {
     "name": "stdout",
     "output_type": "stream",
     "text": [
      "[(-3, 1), (-2, 2), (-1, 3)]\n",
      "[(-3, 1), (-2, 2), (-1, 3)]\n"
     ]
    },
    {
     "data": {
      "text/plain": [
       "[1, 2]"
      ]
     },
     "execution_count": 34,
     "metadata": {},
     "output_type": "execute_result"
    }
   ],
   "source": [
    "topKFrequent_heap([1,1,1,2,2,3],2)"
   ]
  },
  {
   "cell_type": "markdown",
   "id": "745e47ac",
   "metadata": {},
   "source": [
    "## 数组中的第k个最大的元素"
   ]
  },
  {
   "cell_type": "code",
   "execution_count": 43,
   "id": "aec913a0",
   "metadata": {},
   "outputs": [],
   "source": [
    "def findKthLargest( nums, k):\n",
    "    num=collections.Counter(nums)\n",
    "    num=[(-i[0],i[1]) for i in num.items()]\n",
    "    heap=[]\n",
    "    for n in num:\n",
    "        heapq.heappush(heap,n)\n",
    "    while k>0:\n",
    "        cot=heapq.heappop(heap)\n",
    "        #print(cot)\n",
    "        if k>cot[1]:\n",
    "            k-=cot[1]\n",
    "        else:\n",
    "            return -cot[0]"
   ]
  },
  {
   "cell_type": "markdown",
   "id": "93c3a709",
   "metadata": {},
   "source": [
    "### 定义最大堆"
   ]
  },
  {
   "cell_type": "code",
   "execution_count": 52,
   "id": "218556c7",
   "metadata": {},
   "outputs": [],
   "source": [
    "def findKthLargest_max_heap(nums,k):\n",
    "    ln=len(nums)\n",
    "    \n",
    "    def max_heap(nums,start,end):\n",
    "        dad=start\n",
    "        son=dad*2+1\n",
    "        while son<=end:\n",
    "            if son+1<=end and nums[son] < nums[son+1]:# sure the max son\n",
    "                son+=1\n",
    "            if nums[dad]>=nums[son]:\n",
    "                return\n",
    "            else:\n",
    "                nums[dad],nums[son]=nums[son],nums[dad]# swap Adjustment\n",
    "                dad=son\n",
    "                son=dad*2+1\n",
    "    for i in range(ln//2,-1,-1):\n",
    "        #print(i)\n",
    "        max_heap(nums,i,ln-1)\n",
    "        #print(nums)\n",
    "    #print(nums)\n",
    "    count=0\n",
    "    for i in range(ln-1,0,-1):\n",
    "        nums[0],nums[i]=nums[i],nums[0]\n",
    "        count+=1\n",
    "        if count==k:\n",
    "            break\n",
    "        max_heap(nums,0,i-1)\n",
    "    return nums[-k]\n",
    "        "
   ]
  },
  {
   "cell_type": "code",
   "execution_count": 53,
   "id": "8dd34f33",
   "metadata": {},
   "outputs": [
    {
     "data": {
      "text/plain": [
       "4"
      ]
     },
     "execution_count": 53,
     "metadata": {},
     "output_type": "execute_result"
    }
   ],
   "source": [
    "findKthLargest_max_heap([3,2,3,1,2,4,5,5,6], k = 4)"
   ]
  },
  {
   "cell_type": "markdown",
   "id": "310b2a3d",
   "metadata": {},
   "source": [
    "## 寻找峰值"
   ]
  },
  {
   "cell_type": "code",
   "execution_count": 2,
   "id": "bed66f00",
   "metadata": {},
   "outputs": [],
   "source": [
    "import math"
   ]
  },
  {
   "cell_type": "code",
   "execution_count": 7,
   "id": "5155fbf4",
   "metadata": {},
   "outputs": [],
   "source": [
    "def findPeakElement(nums):\n",
    "    pre,last=-math.inf,-math.inf\n",
    "    nums.append(last)\n",
    "    n=len(nums)\n",
    "    for i in range(n+1):\n",
    "        if nums[i]>pre and nums[i]>nums[i+1]:\n",
    "            return i\n",
    "        else:\n",
    "            pre=nums[i]"
   ]
  },
  {
   "cell_type": "code",
   "execution_count": 11,
   "id": "8d59df44",
   "metadata": {},
   "outputs": [
    {
     "data": {
      "text/plain": [
       "0"
      ]
     },
     "execution_count": 11,
     "metadata": {},
     "output_type": "execute_result"
    }
   ],
   "source": [
    "findPeakElement([2,1])"
   ]
  },
  {
   "cell_type": "markdown",
   "id": "9becbadb",
   "metadata": {},
   "source": [
    "## 在排序数组中查找元素的第一个和最后一个位置"
   ]
  },
  {
   "cell_type": "code",
   "execution_count": 12,
   "id": "80579aa9",
   "metadata": {},
   "outputs": [],
   "source": [
    "## 遍历\n",
    "def searchRange(nums, target):\n",
    "    start,end=-1,-1\n",
    "    for i in range(len(nums)):\n",
    "        if nums[i]==target and start==-1:\n",
    "            start=i\n",
    "        if nums[i]==target and start!=-1:\n",
    "            end=i\n",
    "    return [start,end]"
   ]
  },
  {
   "cell_type": "code",
   "execution_count": 22,
   "id": "8476c121",
   "metadata": {},
   "outputs": [],
   "source": [
    "## 二分法-- fast\n",
    "def searchRange_binary(nums, target):\n",
    "    if len(nums)==0:return [-1,-1]\n",
    "    left,right,first=0,len(nums)-1,-1\n",
    "    # 先找第一次出现的位置\n",
    "    while left<=right:\n",
    "        mid=(left+right)>>1\n",
    "        if nums[mid]>target:\n",
    "            right=mid-1\n",
    "        elif nums[mid]< target:\n",
    "            left=mid+1\n",
    "        else:\n",
    "            first=mid\n",
    "            right=mid-1\n",
    "    if first==-1: return[-1,-1]# no\n",
    "    left,right,last=first,len(nums)-1,-1\n",
    "    while left<=right:\n",
    "        mid=(left+right)>>1\n",
    "        if nums[mid]>target:\n",
    "            right=mid-1\n",
    "        elif nums[mid]< target:\n",
    "            left=mid+1\n",
    "        else:\n",
    "            last=mid\n",
    "            left=mid+1\n",
    "    return [first,last]"
   ]
  },
  {
   "cell_type": "code",
   "execution_count": 23,
   "id": "0502b94d",
   "metadata": {},
   "outputs": [
    {
     "data": {
      "text/plain": [
       "[3, 4]"
      ]
     },
     "execution_count": 23,
     "metadata": {},
     "output_type": "execute_result"
    }
   ],
   "source": [
    "searchRange_binary([5,7,7,8,8,10],8)"
   ]
  },
  {
   "cell_type": "markdown",
   "id": "f12aadbc",
   "metadata": {},
   "source": [
    "## 区间合并"
   ]
  },
  {
   "cell_type": "code",
   "execution_count": 44,
   "id": "3604dac2",
   "metadata": {},
   "outputs": [],
   "source": [
    "def merge(intervals):\n",
    "    intervals.sort()## 先排序\n",
    "    re=[]\n",
    "    start,end=intervals[0][0],intervals[0][1]\n",
    "    for i in range(1,len(intervals)):\n",
    "        #print(1)\n",
    "        now=intervals[i]\n",
    "        if now[0]<=end:\n",
    "            end=max(end,now[1])\n",
    "            start=min(start,now[0])     \n",
    "        else:\n",
    "            re.append([start,end])\n",
    "            start,end=now[0],now[1]\n",
    "    re.append([start,end])\n",
    "    return re"
   ]
  },
  {
   "cell_type": "code",
   "execution_count": 45,
   "id": "aff8a8ea",
   "metadata": {},
   "outputs": [
    {
     "data": {
      "text/plain": [
       "[[0, 0], [1, 3]]"
      ]
     },
     "execution_count": 45,
     "metadata": {},
     "output_type": "execute_result"
    }
   ],
   "source": [
    "merge([[1,3],[0,0]])"
   ]
  },
  {
   "cell_type": "markdown",
   "id": "b3ab0c54",
   "metadata": {},
   "source": [
    "## 搜索旋转排序数组"
   ]
  },
  {
   "cell_type": "code",
   "execution_count": 51,
   "id": "2037a5b1",
   "metadata": {},
   "outputs": [],
   "source": [
    "# 二分:根据有序元素判断元素位置以不断收缩边界选择搜索空间\n",
    "def search(nums, target):\n",
    "    left,right=0,len(nums)-1\n",
    "    while left<=right:\n",
    "        mid=(left+right)>>1\n",
    "        if nums[mid]==target:\n",
    "            return mid\n",
    "        if nums[mid]>=nums[left]:# 左端有序\n",
    "            if target<nums[mid] and target > nums[left]:\n",
    "                right=mid-1\n",
    "            else:\n",
    "                left=mid+1\n",
    "        else:# 右端有序\n",
    "            if target> nums[mid] and target<nums[right]:\n",
    "                left=mid+1\n",
    "            else:\n",
    "                right=mid-1\n",
    "    return -1\n",
    "                "
   ]
  },
  {
   "cell_type": "code",
   "execution_count": 54,
   "id": "effc7cd3",
   "metadata": {},
   "outputs": [],
   "source": [
    "def search_1(nums, target):\n",
    "    ## 1. sure rotation point\n",
    "    minnum=min(nums)\n",
    "    minindex=nums.index(minnum)\n",
    "    ## 2. sure the border of left and right\n",
    "    left,right=0,len(nums)-1\n",
    "    if nums[len(nums)-1] >=target:\n",
    "        left=minindex\n",
    "    elif nums[0]<=target:\n",
    "        right=minindex-1\n",
    "    else:\n",
    "        return -1    \n",
    "    while left<=right:\n",
    "        mid=(left+right)>>1\n",
    "        if nums[mid]>target:\n",
    "            right=mid-1\n",
    "        elif nums[mid]<target:\n",
    "            left=mid+1\n",
    "        else:\n",
    "            return mid \n",
    "    return -1\n",
    "        #mid=(left+right)>>1"
   ]
  },
  {
   "cell_type": "code",
   "execution_count": 57,
   "id": "0d2ff572",
   "metadata": {},
   "outputs": [
    {
     "data": {
      "text/plain": [
       "4"
      ]
     },
     "execution_count": 57,
     "metadata": {},
     "output_type": "execute_result"
    }
   ],
   "source": [
    "search_1([4,5,6,7,0,2,3],0)"
   ]
  },
  {
   "cell_type": "markdown",
   "id": "457575aa",
   "metadata": {},
   "source": [
    "## 搜索二维矩阵"
   ]
  },
  {
   "cell_type": "code",
   "execution_count": 60,
   "id": "409b30af",
   "metadata": {},
   "outputs": [],
   "source": [
    "def searchMatrix( matrix, target):\n",
    "    m,n=len(matrix),len(matrix[0])\n",
    "    i,j=0,n-1\n",
    "    while i<m and j>=0:\n",
    "        if matrix[i][j]>target:\n",
    "            j-=1\n",
    "        elif matrix[i][j]<target:\n",
    "            i+=1\n",
    "        else:\n",
    "            return True\n",
    "    return False"
   ]
  },
  {
   "cell_type": "code",
   "execution_count": 62,
   "id": "bfa7a154",
   "metadata": {},
   "outputs": [
    {
     "data": {
      "text/plain": [
       "False"
      ]
     },
     "execution_count": 62,
     "metadata": {},
     "output_type": "execute_result"
    }
   ],
   "source": [
    "searchMatrix([[1,4,7,11,15],[2,5,8,12,19],[3,6,9,16,22],[10,13,14,17,24],[18,21,23,26,30]],20)"
   ]
  },
  {
   "cell_type": "code",
   "execution_count": null,
   "id": "ae068dd6",
   "metadata": {},
   "outputs": [],
   "source": []
  }
 ],
 "metadata": {
  "kernelspec": {
   "display_name": "Python 3 (ipykernel)",
   "language": "python",
   "name": "python3"
  },
  "language_info": {
   "codemirror_mode": {
    "name": "ipython",
    "version": 3
   },
   "file_extension": ".py",
   "mimetype": "text/x-python",
   "name": "python",
   "nbconvert_exporter": "python",
   "pygments_lexer": "ipython3",
   "version": "3.7.11"
  }
 },
 "nbformat": 4,
 "nbformat_minor": 5
}
