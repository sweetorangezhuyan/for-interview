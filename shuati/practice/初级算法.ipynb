{
 "cells": [
  {
   "cell_type": "code",
   "execution_count": 28,
   "metadata": {
    "collapsed": false
   },
   "outputs": [],
   "source": [
    "class Solution:\n",
    "    def __init__(self, nums):\n",
    "        self.nums=nums\n",
    "        #self.origin=nums\n",
    "\n",
    "\n",
    "    def reset(self):\n",
    "        #self.nums=self.origin\n",
    "        return self.nums\n",
    "\n",
    "\n",
    "    def shuffle(self) :\n",
    "        copylisy=self.nums[:]\n",
    "        random.shuffle(copylisy)\n",
    "        return copylisy\n",
    "        \n",
    "        "
   ]
  },
  {
   "cell_type": "code",
   "execution_count": 29,
   "metadata": {
    "collapsed": false
   },
   "outputs": [
    {
     "data": {
      "text/plain": [
       "[2, 1, 3]"
      ]
     },
     "execution_count": 29,
     "metadata": {},
     "output_type": "execute_result"
    }
   ],
   "source": [
    "so=Solution([1,2,3])\n",
    "so.shuffle()\n",
    "#print(so.reset())"
   ]
  },
  {
   "cell_type": "code",
   "execution_count": 30,
   "metadata": {
    "collapsed": false
   },
   "outputs": [
    {
     "data": {
      "text/plain": [
       "[1, 2, 3]"
      ]
     },
     "execution_count": 30,
     "metadata": {},
     "output_type": "execute_result"
    }
   ],
   "source": [
    "so.reset()"
   ]
  },
  {
   "cell_type": "code",
   "execution_count": 13,
   "metadata": {
    "collapsed": true
   },
   "outputs": [],
   "source": [
    "import random\n"
   ]
  },
  {
   "cell_type": "code",
   "execution_count": 3,
   "metadata": {
    "collapsed": true
   },
   "outputs": [],
   "source": [
    "a=random.shuffle([1,2,3])"
   ]
  },
  {
   "cell_type": "markdown",
   "metadata": {},
   "source": [
    "## 计数质数\n",
    "给定整数 n ，返回 所有小于非负整数 n 的质数的数量"
   ]
  },
  {
   "cell_type": "code",
   "execution_count": null,
   "metadata": {
    "collapsed": true
   },
   "outputs": [],
   "source": [
    "# 标准的 埃拉托斯特尼 埃氏筛选法\n",
    "def countPrimes(n):\n",
    "    isNumPrimes=[True]*n\n",
    "    count=0\n",
    "    for i in range(2,n):\n",
    "        if isNumPrimes[i]:\n",
    "            count+=1\n",
    "            for j in range(i*i,n,i):#遍历 i*i  开始(比从i*2开始更快)，结束n, 步数i (倍数递增)\n",
    "                isNumPrimes[j]=False\n",
    "    return count"
   ]
  },
  {
   "cell_type": "markdown",
   "metadata": {},
   "source": [
    "## Fizz Buzz"
   ]
  },
  {
   "cell_type": "code",
   "execution_count": 33,
   "metadata": {
    "collapsed": true
   },
   "outputs": [],
   "source": [
    "def fizzBuzz(n):\n",
    "    result=[str(i) for i in range(1,n+1)]\n",
    "    for i in range(3,n+1):\n",
    "        if i%3==0 and i%5==0:\n",
    "            result[i-1]='FizzBuzz'\n",
    "        elif i%3==0 and i%5!=0:\n",
    "            result[i-1]='Fizz'\n",
    "        elif i%3!=0 and i%5==0:\n",
    "            result[i-1]='Buzz'\n",
    "        else:\n",
    "            continue\n",
    "    return result\n",
    "            \n",
    "        "
   ]
  },
  {
   "cell_type": "markdown",
   "metadata": {},
   "source": [
    "## 罗马数字转整数"
   ]
  },
  {
   "cell_type": "code",
   "execution_count": 41,
   "metadata": {
    "collapsed": false
   },
   "outputs": [],
   "source": [
    "def romanToInt(strr):\n",
    "    dird={'I':1,'IV':4,'V':5,'IX':9,'X':10,'XL':40,'L':50,'XC':90,'C':100,'CD':400,'D':500,'CM':900,'M':1000}\n",
    "    res=0\n",
    "    i=0\n",
    "    while i<len(strr):\n",
    "        try:\n",
    "            res+=dird[strr[i:i+2]]\n",
    "            i+=2\n",
    "        except:\n",
    "            res+=dird[strr[i]]\n",
    "            i+=1 \n",
    "    return res\n",
    "            \n",
    "    "
   ]
  },
  {
   "cell_type": "code",
   "execution_count": 45,
   "metadata": {
    "collapsed": false
   },
   "outputs": [
    {
     "data": {
      "text/plain": [
       "58"
      ]
     },
     "execution_count": 45,
     "metadata": {},
     "output_type": "execute_result"
    }
   ],
   "source": [
    "romanToInt('LVIII')"
   ]
  },
  {
   "cell_type": "markdown",
   "metadata": {
    "collapsed": true
   },
   "source": [
    "## 位1的个数"
   ]
  },
  {
   "cell_type": "code",
   "execution_count": 3,
   "metadata": {
    "collapsed": true
   },
   "outputs": [],
   "source": [
    "def hammingWeight(n):\n",
    "    count=0\n",
    "    while n:\n",
    "        count+=n&1\n",
    "        n>>=1\n",
    "    return count"
   ]
  },
  {
   "cell_type": "code",
   "execution_count": 6,
   "metadata": {
    "collapsed": false
   },
   "outputs": [
    {
     "data": {
      "text/plain": [
       "2"
      ]
     },
     "execution_count": 6,
     "metadata": {},
     "output_type": "execute_result"
    }
   ],
   "source": [
    "hammingWeight(10)"
   ]
  },
  {
   "cell_type": "markdown",
   "metadata": {},
   "source": [
    "## 汉明距离"
   ]
  },
  {
   "cell_type": "code",
   "execution_count": 11,
   "metadata": {
    "collapsed": true
   },
   "outputs": [],
   "source": [
    "def hammingDistance( x, y):\n",
    "    weight=0\n",
    "    border=max(x,y)\n",
    "    #border=max(len(bin(x)),len(bin(y)))\n",
    "    while border:\n",
    "        if x&1!=y&1:\n",
    "            weight+=1\n",
    "        x>>=1\n",
    "        y>>=1\n",
    "        border>>=1\n",
    "    return weight"
   ]
  },
  {
   "cell_type": "code",
   "execution_count": 14,
   "metadata": {
    "collapsed": false
   },
   "outputs": [
    {
     "data": {
      "text/plain": [
       "1"
      ]
     },
     "execution_count": 14,
     "metadata": {},
     "output_type": "execute_result"
    }
   ],
   "source": [
    "hammingDistance(3,1)"
   ]
  },
  {
   "cell_type": "markdown",
   "metadata": {},
   "source": [
    "## 颠倒二进制"
   ]
  },
  {
   "cell_type": "code",
   "execution_count": 16,
   "metadata": {
    "collapsed": false
   },
   "outputs": [],
   "source": [
    "def reverseBits( n):\n",
    "    res=0\n",
    "    for i in range(32):\n",
    "        res<<=1## 左移\n",
    "        res|=n&1\n",
    "        n>>=1# 右移\n",
    "    return res"
   ]
  },
  {
   "cell_type": "code",
   "execution_count": 17,
   "metadata": {
    "collapsed": false
   },
   "outputs": [
    {
     "data": {
      "text/plain": [
       "3221225472"
      ]
     },
     "execution_count": 17,
     "metadata": {},
     "output_type": "execute_result"
    }
   ],
   "source": [
    "reverseBits(3)"
   ]
  },
  {
   "cell_type": "markdown",
   "metadata": {},
   "source": [
    "## 杨辉三角"
   ]
  },
  {
   "cell_type": "code",
   "execution_count": 18,
   "metadata": {
    "collapsed": true
   },
   "outputs": [],
   "source": [
    "def generate(numRows):\n",
    "    re=[]\n",
    "    for i in range(numRows):\n",
    "        temp=[1]*(i+1)\n",
    "        for j in range(i+1):\n",
    "            if j==0 or j==i:\n",
    "                continue\n",
    "            temp[j]=re[i-1][j-1]+re[i-1][j]\n",
    "        re.append(temp)\n",
    "    return re"
   ]
  },
  {
   "cell_type": "code",
   "execution_count": 20,
   "metadata": {
    "collapsed": false
   },
   "outputs": [
    {
     "data": {
      "text/plain": [
       "[[1], [1, 1], [1, 2, 1], [1, 3, 3, 1], [1, 4, 6, 4, 1]]"
      ]
     },
     "execution_count": 20,
     "metadata": {},
     "output_type": "execute_result"
    }
   ],
   "source": [
    "generate(5)"
   ]
  },
  {
   "cell_type": "markdown",
   "metadata": {},
   "source": [
    "## 有效的括号"
   ]
  },
  {
   "cell_type": "code",
   "execution_count": 35,
   "metadata": {
    "collapsed": false
   },
   "outputs": [],
   "source": [
    "def isValid(s):\n",
    "    stack=[]\n",
    "    for i in s:\n",
    "        if i=='{' or i=='[' or i=='(':\n",
    "            stack.append(i)\n",
    "        print(stack)\n",
    "        if i=='}':  \n",
    "            if stack and stack[-1]=='{':\n",
    "                stack.pop() \n",
    "            else:\n",
    "                return False\n",
    "        if i==']':\n",
    "            if stack and stack[-1]=='[':\n",
    "                stack.pop()\n",
    "            else:\n",
    "                return False\n",
    "        if i==')':\n",
    "            if stack and stack[-1]=='(':\n",
    "                stack.pop()\n",
    "            else:\n",
    "                return False\n",
    "        #print(stack)\n",
    "    return not stack"
   ]
  },
  {
   "cell_type": "code",
   "execution_count": 36,
   "metadata": {
    "collapsed": false
   },
   "outputs": [
    {
     "name": "stdout",
     "output_type": "stream",
     "text": [
      "['(']\n",
      "['(']\n",
      "['(']\n"
     ]
    },
    {
     "data": {
      "text/plain": [
       "False"
      ]
     },
     "execution_count": 36,
     "metadata": {},
     "output_type": "execute_result"
    }
   ],
   "source": [
    "isValid('(])')"
   ]
  },
  {
   "cell_type": "markdown",
   "metadata": {},
   "source": [
    "## 缺失数字"
   ]
  },
  {
   "cell_type": "code",
   "execution_count": 39,
   "metadata": {
    "collapsed": true
   },
   "outputs": [],
   "source": [
    "def missingNumber(nums):\n",
    "    n=len(nums)\n",
    "    return int(n*(n+1)/2)-sum(nums)"
   ]
  },
  {
   "cell_type": "code",
   "execution_count": 42,
   "metadata": {
    "collapsed": false
   },
   "outputs": [
    {
     "data": {
      "text/plain": [
       "2"
      ]
     },
     "execution_count": 42,
     "metadata": {},
     "output_type": "execute_result"
    }
   ],
   "source": [
    "missingNumber([3,0,1])"
   ]
  },
  {
   "cell_type": "code",
   "execution_count": null,
   "metadata": {
    "collapsed": true
   },
   "outputs": [],
   "source": []
  }
 ],
 "metadata": {
  "kernelspec": {
   "display_name": "PyCharm (get224)",
   "language": "python",
   "name": "pycharm-32bf5a86"
  },
  "language_info": {
   "codemirror_mode": {
    "name": "ipython",
    "version": 3
   },
   "file_extension": ".py",
   "mimetype": "text/x-python",
   "name": "python",
   "nbconvert_exporter": "python",
   "pygments_lexer": "ipython3",
   "version": "3.7.11"
  }
 },
 "nbformat": 4,
 "nbformat_minor": 2
}
