{
 "cells": [
  {
   "cell_type": "markdown",
   "metadata": {},
   "source": [
    "## 两数相加"
   ]
  },
  {
   "cell_type": "code",
   "execution_count": 2,
   "metadata": {
    "collapsed": true
   },
   "outputs": [],
   "source": [
    "class ListNode:\n",
    "    def __init__(self, val=0, next=None):\n",
    "        self.val = val\n",
    "        self.next = next"
   ]
  },
  {
   "cell_type": "code",
   "execution_count": 6,
   "metadata": {
    "collapsed": true
   },
   "outputs": [],
   "source": [
    "def createList(ll):\n",
    "    head=ListNode()\n",
    "    pre=head\n",
    "    for i in ll:\n",
    "        p=ListNode(i)\n",
    "        p.next=pre.next\n",
    "        pre.next=p\n",
    "        pre=pre.next\n",
    "    return head.next"
   ]
  },
  {
   "cell_type": "code",
   "execution_count": 7,
   "metadata": {
    "collapsed": false
   },
   "outputs": [
    {
     "name": "stdout",
     "output_type": "stream",
     "text": [
      "1\n",
      "2\n",
      "4\n"
     ]
    }
   ],
   "source": [
    "now=createList([1,2,4])\n",
    "while now:\n",
    "    print(now.val)\n",
    "    now=now.next"
   ]
  },
  {
   "cell_type": "code",
   "execution_count": 12,
   "metadata": {
    "collapsed": true
   },
   "outputs": [],
   "source": [
    "# 进位法\n",
    "def addTwoNumbers(l1,l2):\n",
    "    re=ListNode()# 采用尾插法\n",
    "    pre=re\n",
    "    add=0\n",
    "    while l1 or l2 or add:\n",
    "        val1,val2=0,0\n",
    "        if l1:\n",
    "            val1=l1.val\n",
    "        if l2:\n",
    "            val2=l2.val\n",
    "        p=ListNode(((val1+val2)%10+add)%10)\n",
    "        p.next=pre.next\n",
    "        pre.next=p\n",
    "        pre=pre.next\n",
    "        add=(val1+val2+add)//10\n",
    "        if l1:\n",
    "            l1=l1.next\n",
    "        if l2:\n",
    "            l2=l2.next\n",
    "    return re.next"
   ]
  },
  {
   "cell_type": "code",
   "execution_count": 15,
   "metadata": {
    "collapsed": false
   },
   "outputs": [],
   "source": [
    "l1=createList([9,9,9,9,9,9,9])\n",
    "l2=createList([9,9,9,9])\n",
    "re=addTwoNumbers(l1,l2)\n",
    "while re:\n",
    "    #print(re.val)\n",
    "    re=re.next"
   ]
  },
  {
   "cell_type": "markdown",
   "metadata": {},
   "source": [
    "## 奇偶链表"
   ]
  },
  {
   "cell_type": "code",
   "execution_count": 22,
   "metadata": {
    "collapsed": true
   },
   "outputs": [],
   "source": [
    "def oddEvenList(head):\n",
    "    ind=1\n",
    "    now=head\n",
    "    odd=ListNode()\n",
    "    even=ListNode()\n",
    "    pd=odd \n",
    "    pe=even\n",
    "    while now:\n",
    "        pre=now\n",
    "        now=now.next\n",
    "        if ind%2==1:## odd\n",
    "            pre.next=pd.next\n",
    "            pd.next=pre\n",
    "            pd=pre\n",
    "        else:## even\n",
    "            pre.next=pe.next\n",
    "            pe.next=pre\n",
    "            pe=pre\n",
    "        ind+=1\n",
    "    pd.next=even.next\n",
    "    return odd.next\n",
    "    \n",
    "            \n",
    "        \n",
    "        "
   ]
  },
  {
   "cell_type": "code",
   "execution_count": 25,
   "metadata": {
    "collapsed": false
   },
   "outputs": [],
   "source": [
    "lll=createList([2,1,3,5,6,4,7])\n",
    "now=oddEvenList(lll)\n",
    "while now:\n",
    "    #print(now.val)\n",
    "    now=now.next"
   ]
  },
  {
   "cell_type": "markdown",
   "metadata": {},
   "source": [
    "## 链表相交"
   ]
  },
  {
   "cell_type": "code",
   "execution_count": 38,
   "metadata": {
    "collapsed": true
   },
   "outputs": [],
   "source": [
    "# 找链表第一个相同的节点\n",
    "## 每个指针走 m+n\n",
    "\n",
    "def getIntersectionNode(headA, headB):\n",
    "    # 找到起点\n",
    "    tempa=headA\n",
    "    tempb=headB\n",
    "    while tempa!=tempb:# 两个指针都在heada与headb\n",
    "        if tempa:\n",
    "            tempa=tempa.next\n",
    "        else:\n",
    "            tempa=headB\n",
    "        if tempb:\n",
    "            tempb=tempb.next\n",
    "        else:\n",
    "            tempb=headA\n",
    "    return tempa\n",
    "            \n",
    "    "
   ]
  },
  {
   "cell_type": "code",
   "execution_count": null,
   "metadata": {
    "collapsed": true
   },
   "outputs": [],
   "source": []
  }
 ],
 "metadata": {
  "kernelspec": {
   "display_name": "Python 3",
   "language": "python",
   "name": "python3"
  },
  "language_info": {
   "codemirror_mode": {
    "name": "ipython",
    "version": 3
   },
   "file_extension": ".py",
   "mimetype": "text/x-python",
   "name": "python",
   "nbconvert_exporter": "python",
   "pygments_lexer": "ipython3",
   "version": "3.6.0"
  }
 },
 "nbformat": 4,
 "nbformat_minor": 2
}
