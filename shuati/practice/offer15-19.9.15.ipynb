{
 "cells": [
  {
   "cell_type": "markdown",
   "id": "071b35be",
   "metadata": {},
   "source": [
    "## 二进制中1的个数"
   ]
  },
  {
   "cell_type": "code",
   "execution_count": 7,
   "id": "558c5888",
   "metadata": {},
   "outputs": [],
   "source": [
    "def hammingWeight( n) :\n",
    "    binary=bin(n)\n",
    "    sum=0\n",
    "    for i in binary:\n",
    "        if i=='1':\n",
    "            sum+=1\n",
    "    return sum"
   ]
  },
  {
   "cell_type": "code",
   "execution_count": 10,
   "id": "22693452",
   "metadata": {},
   "outputs": [
    {
     "data": {
      "text/plain": [
       "1"
      ]
     },
     "execution_count": 10,
     "metadata": {},
     "output_type": "execute_result"
    }
   ],
   "source": [
    "hammingWeight(128)"
   ]
  },
  {
   "cell_type": "markdown",
   "id": "80dcc3ed",
   "metadata": {},
   "source": [
    "## 数值的整数平方"
   ]
  },
  {
   "cell_type": "code",
   "execution_count": 11,
   "id": "e7f1e96f",
   "metadata": {},
   "outputs": [],
   "source": [
    "### 使用快幂法"
   ]
  },
  {
   "cell_type": "code",
   "execution_count": 24,
   "id": "b8fe70e5",
   "metadata": {},
   "outputs": [],
   "source": [
    "def myPow( x, n) :\n",
    "    ret=1\n",
    "    if n<0:\n",
    "        x=1/x\n",
    "        n=abs(n)\n",
    "    while n:        \n",
    "        if n&1:#n为奇数时执行\n",
    "            ret=ret*x\n",
    "        n>>=1\n",
    "        x=x*x\n",
    "        print(ret)\n",
    "    return ret"
   ]
  },
  {
   "cell_type": "code",
   "execution_count": 25,
   "id": "3f56690a",
   "metadata": {},
   "outputs": [
    {
     "name": "stdout",
     "output_type": "stream",
     "text": [
      "1\n",
      "4\n",
      "4\n",
      "1024\n"
     ]
    },
    {
     "data": {
      "text/plain": [
       "1024"
      ]
     },
     "execution_count": 25,
     "metadata": {},
     "output_type": "execute_result"
    }
   ],
   "source": [
    "myPow(2,10)"
   ]
  },
  {
   "cell_type": "code",
   "execution_count": 26,
   "id": "1ae447b1",
   "metadata": {},
   "outputs": [
    {
     "data": {
      "text/plain": [
       "0"
      ]
     },
     "execution_count": 26,
     "metadata": {},
     "output_type": "execute_result"
    }
   ],
   "source": [
    "10&1"
   ]
  },
  {
   "cell_type": "markdown",
   "id": "fa28455d",
   "metadata": {},
   "source": [
    "## 打印从1到最大的n为数"
   ]
  },
  {
   "cell_type": "markdown",
   "id": "012dc2aa",
   "metadata": {},
   "source": [
    "输入数字 n，按顺序打印出从 1 到最大的 n 位十进制数。比如输入 3，则打印出 1、2、3 一直到最大的 3 位数 999。"
   ]
  },
  {
   "cell_type": "code",
   "execution_count": 29,
   "id": "75571e4b",
   "metadata": {},
   "outputs": [],
   "source": [
    "def printNumbers( n):\n",
    "    max_threshold=pow(10,n)# 最大n位数的阈值\n",
    "    re=[i for i in range(1,max_threshold)]\n",
    "    return re"
   ]
  },
  {
   "cell_type": "markdown",
   "id": "dafebf62",
   "metadata": {},
   "source": [
    "## 删除链表的节点\n",
    "只删除一个指定值的节点"
   ]
  },
  {
   "cell_type": "code",
   "execution_count": 32,
   "id": "3f6e0c8b",
   "metadata": {},
   "outputs": [],
   "source": [
    "class ListNode:\n",
    "    def __init__(self,x):\n",
    "        self.val=x\n",
    "        self.next=None"
   ]
  },
  {
   "cell_type": "code",
   "execution_count": null,
   "id": "dbcb6ce3",
   "metadata": {},
   "outputs": [],
   "source": [
    "def deleteNode( head, val):\n",
    "    if head.val==val:\n",
    "        return head.next\n",
    "    pre,cur=head,head.next\n",
    "    while cur and cur.val!=val:\n",
    "        pre,cur=cur,cur.next\n",
    "    if cur:       \n",
    "        pre.next=cur.next\n",
    "    return head"
   ]
  },
  {
   "cell_type": "markdown",
   "id": "a1db14a0",
   "metadata": {},
   "source": [
    "## 正则表达式匹配"
   ]
  },
  {
   "cell_type": "markdown",
   "id": "4d49a0bc",
   "metadata": {},
   "source": [
    "模式中的'.'表示任意一个字符，而'*'表示它前面的字符可以出现任意次\n",
    "\n",
    "采用动态规划\n",
    "\n",
    "1. p的j个字符是小写字母,必须在 ss 中匹配一个相同的小写字母  $f[i][j]=f[i-1][j-1],s[i]==p[j]$\n",
    "\n",
    "2. p的j个字符是* , 可以对p的第j-1个字符进行匹配任意自然数次，\n",
    "\n",
    "3. p的j个字符是.， p[j]一定成功匹配 s中的任意一个小写字母\n"
   ]
  },
  {
   "cell_type": "code",
   "execution_count": 43,
   "id": "493ca1e2",
   "metadata": {},
   "outputs": [],
   "source": [
    "def isMatch(s,p):\n",
    "    m,n=len(s),len(p)\n",
    "    def matchs(i,j):\n",
    "        if i==0:\n",
    "            return False\n",
    "        if p[j-1]=='.':\n",
    "            return True\n",
    "        return s[i-1]==p[j-1]\n",
    "    f=[[False]*(n+1) for _ in range(m+1)]# 动态规划矩阵,f[i][j]表示s的前i个字符和p前j个字符是否能成功匹\n",
    "    f[0][0]=True\n",
    "    for i in range(m+1):\n",
    "        for j in range(1,n+1):\n",
    "            if p[j-1]=='*':\n",
    "                #print('i is {},j is {}'.format(i,j))\n",
    "                f[i][j]|=f[i][j-2]\n",
    "                if matchs(i,j-1):\n",
    "                    f[i][j]|=f[i-1][j]\n",
    "            else:\n",
    "                if matchs(i,j):\n",
    "                    f[i][j]|=f[i-1][j-1]\n",
    "            #print('i is {},j is {},f is {}'.format(i,j,f))\n",
    "    return f[m][n]"
   ]
  },
  {
   "cell_type": "code",
   "execution_count": 44,
   "id": "60a409d7",
   "metadata": {},
   "outputs": [
    {
     "name": "stdout",
     "output_type": "stream",
     "text": [
      "i is 0,j is 1,f is [[True, False, False], [False, False, False], [False, False, False]]\n",
      "i is 0,j is 2\n",
      "i is 0,j is 2,f is [[True, False, True], [False, False, False], [False, False, False]]\n",
      "i is 1,j is 1,f is [[True, False, True], [False, True, False], [False, False, False]]\n",
      "i is 1,j is 2\n",
      "i is 1,j is 2,f is [[True, False, True], [False, True, True], [False, False, False]]\n",
      "i is 2,j is 1,f is [[True, False, True], [False, True, True], [False, False, False]]\n",
      "i is 2,j is 2\n",
      "i is 2,j is 2,f is [[True, False, True], [False, True, True], [False, False, True]]\n"
     ]
    },
    {
     "data": {
      "text/plain": [
       "True"
      ]
     },
     "execution_count": 44,
     "metadata": {},
     "output_type": "execute_result"
    }
   ],
   "source": [
    "isMatch('ab','.*')"
   ]
  },
  {
   "cell_type": "code",
   "execution_count": null,
   "id": "b56fe48a",
   "metadata": {},
   "outputs": [],
   "source": []
  }
 ],
 "metadata": {
  "kernelspec": {
   "display_name": "Python 3 (ipykernel)",
   "language": "python",
   "name": "python3"
  },
  "language_info": {
   "codemirror_mode": {
    "name": "ipython",
    "version": 3
   },
   "file_extension": ".py",
   "mimetype": "text/x-python",
   "name": "python",
   "nbconvert_exporter": "python",
   "pygments_lexer": "ipython3",
   "version": "3.7.11"
  }
 },
 "nbformat": 4,
 "nbformat_minor": 5
}
