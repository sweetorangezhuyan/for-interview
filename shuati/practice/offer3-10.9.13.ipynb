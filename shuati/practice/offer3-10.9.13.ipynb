{
 "cells": [
  {
   "cell_type": "markdown",
   "id": "982ff48f",
   "metadata": {},
   "source": [
    "## 重复数字"
   ]
  },
  {
   "cell_type": "code",
   "execution_count": 4,
   "id": "6f3edf0b",
   "metadata": {},
   "outputs": [
    {
     "name": "stdout",
     "output_type": "stream",
     "text": [
      "2\n",
      "3\n"
     ]
    }
   ],
   "source": [
    "a=[2, 3, 1, 0, 2, 5, 3]\n",
    "relist=[0]*len(a)\n",
    "for ind, value in enumerate(a):\n",
    "    relist[value]+=1\n",
    "    if relist[value]>1:\n",
    "        "
   ]
  },
  {
   "cell_type": "code",
   "execution_count": 8,
   "id": "75e84ea6",
   "metadata": {},
   "outputs": [],
   "source": [
    "def findRepeatNumber( nums):\n",
    "        relist=[0]*len(nums)\n",
    "        for ind,value in enumerate(nums):\n",
    "            relist[value]+=1\n",
    "            if relist[value]>1:\n",
    "                return value\n",
    "        return None"
   ]
  },
  {
   "cell_type": "code",
   "execution_count": 15,
   "id": "ff093cfa",
   "metadata": {},
   "outputs": [
    {
     "data": {
      "text/plain": [
       "2"
      ]
     },
     "execution_count": 15,
     "metadata": {},
     "output_type": "execute_result"
    }
   ],
   "source": [
    "a=[2, 3, 1, 0, 6, 2, 4]\n",
    "findRepeatNumber(a)"
   ]
  },
  {
   "cell_type": "code",
   "execution_count": 16,
   "id": "a2492fe8",
   "metadata": {},
   "outputs": [],
   "source": [
    "def findRepeatNumber_1(nums):\n",
    "    result=set()\n",
    "    repeat=-1\n",
    "    for ind,value in enumerate(nums):\n",
    "        result.add(value)\n",
    "        if len(result)<ind+1:\n",
    "            repeat=value\n",
    "            return repeat\n",
    "    return None"
   ]
  },
  {
   "cell_type": "code",
   "execution_count": 17,
   "id": "a3c29070",
   "metadata": {},
   "outputs": [
    {
     "data": {
      "text/plain": [
       "2"
      ]
     },
     "execution_count": 17,
     "metadata": {},
     "output_type": "execute_result"
    }
   ],
   "source": [
    "findRepeatNumber_1(a)"
   ]
  },
  {
   "cell_type": "markdown",
   "id": "71d0d53a",
   "metadata": {},
   "source": [
    "## 二维数组中的查找"
   ]
  },
  {
   "cell_type": "code",
   "execution_count": 18,
   "id": "534fd4fe",
   "metadata": {},
   "outputs": [],
   "source": [
    "def findNumberIn2DArray(matrix,target):\n",
    "    m =len(matrix) \n",
    "    if m==0:## matrix:[]时\n",
    "        return False\n",
    "    n=len(matrix[0])\n",
    "    x, y = 0 , n-1\n",
    "    while x < m and y >= 0:\n",
    "        if matrix[x][y] > target:\n",
    "            y-=1\n",
    "        elif matrix[x][y] == target:\n",
    "            return True\n",
    "        else:\n",
    "            x+=1\n",
    "    return False"
   ]
  },
  {
   "cell_type": "code",
   "execution_count": 19,
   "id": "ea2201b6",
   "metadata": {},
   "outputs": [
    {
     "data": {
      "text/plain": [
       "True"
      ]
     },
     "execution_count": 19,
     "metadata": {},
     "output_type": "execute_result"
    }
   ],
   "source": [
    "array=[\n",
    "  [1,   4,  7, 11, 15],\n",
    "  [2,   5,  8, 12, 19],\n",
    "  [3,   6,  9, 16, 22],\n",
    "  [10, 13, 14, 17, 24],\n",
    "  [18, 21, 23, 26, 30]\n",
    "]\n",
    "target=5\n",
    "findNumberIn2DArray(array,target)"
   ]
  },
  {
   "cell_type": "code",
   "execution_count": 20,
   "id": "2f68a3d0",
   "metadata": {},
   "outputs": [
    {
     "data": {
      "text/plain": [
       "0"
      ]
     },
     "execution_count": 20,
     "metadata": {},
     "output_type": "execute_result"
    }
   ],
   "source": [
    "a=[]\n",
    "len(a)"
   ]
  },
  {
   "cell_type": "markdown",
   "id": "f9571e78",
   "metadata": {},
   "source": [
    "## 空格替换"
   ]
  },
  {
   "cell_type": "code",
   "execution_count": 25,
   "id": "8bed3083",
   "metadata": {},
   "outputs": [
    {
     "data": {
      "text/plain": [
       "'We%20are%20happy.'"
      ]
     },
     "execution_count": 25,
     "metadata": {},
     "output_type": "execute_result"
    }
   ],
   "source": [
    "a=\"We are happy.\"\n",
    "def replaceSpace(s) :\n",
    "    return s.replace(\" \",\"%20\")\n",
    "replaceSpace(a)"
   ]
  },
  {
   "cell_type": "markdown",
   "id": "3f29aeb6",
   "metadata": {},
   "source": [
    "##  反向输出链表的值"
   ]
  },
  {
   "cell_type": "code",
   "execution_count": 26,
   "id": "b8794d61",
   "metadata": {},
   "outputs": [],
   "source": [
    "## 使用list存储节点数据，使用[::-1]输出返回"
   ]
  },
  {
   "cell_type": "markdown",
   "id": "0d411c22",
   "metadata": {},
   "source": [
    "## 根据二叉树前序遍历和中序遍历的结果重构二叉树"
   ]
  },
  {
   "cell_type": "code",
   "execution_count": null,
   "id": "182d6cb1",
   "metadata": {},
   "outputs": [],
   "source": [
    "## 前序遍历：根左右\n",
    "## 中序遍历：左根右"
   ]
  },
  {
   "cell_type": "code",
   "execution_count": 27,
   "id": "cd62d0db",
   "metadata": {},
   "outputs": [],
   "source": [
    "class TreeNode:\n",
    "    def __init__(self, x):\n",
    "        self.val = x\n",
    "        self.left = None\n",
    "        self.right = None"
   ]
  },
  {
   "cell_type": "code",
   "execution_count": 33,
   "id": "8ea8a354",
   "metadata": {},
   "outputs": [],
   "source": [
    "def buildTree( preorder, inorder) :\n",
    "    if len(preorder)==0:\n",
    "        return None\n",
    "    root=TreeNode(preorder[0])\n",
    "    if len(preorder)==1:\n",
    "        return root\n",
    "    mid=0\n",
    "    for i in range(len(inorder)):\n",
    "        if preorder[0]==inorder[i]:\n",
    "            mid=i\n",
    "    root.left=buildTree(preorder[1:mid+1],inorder[0:mid])\n",
    "    root.right=buildTree(preorder[mid+1:],inorder[mid+1:])\n",
    "    return root\n",
    "    \n",
    "    "
   ]
  },
  {
   "cell_type": "code",
   "execution_count": 38,
   "id": "1aee661d",
   "metadata": {},
   "outputs": [],
   "source": [
    "preorder =  [3,9,20,15,7]\n",
    "inorder = [9,3,15,20,7]\n",
    "head=buildTree(preorder,inorder)"
   ]
  },
  {
   "cell_type": "code",
   "execution_count": 42,
   "id": "5b2fc545",
   "metadata": {},
   "outputs": [
    {
     "name": "stdout",
     "output_type": "stream",
     "text": [
      "3\n",
      "9\n",
      "20\n",
      "15\n",
      "7\n"
     ]
    }
   ],
   "source": [
    "if head:\n",
    "    print(head.val)\n",
    "    if head.left:\n",
    "        print(head.left.val)\n",
    "    if head.right:\n",
    "        print(head.right.val)\n",
    "        now=head.right\n",
    "        if now.left:\n",
    "            print(now.left.val)\n",
    "        if now.right:\n",
    "            print(now.right.val)\n",
    "            \n",
    "#     print(head.left.val)\n",
    "#     print(head.right.val)"
   ]
  },
  {
   "cell_type": "markdown",
   "id": "96cbd28c",
   "metadata": {},
   "source": [
    "## 用两个栈实现一个队列"
   ]
  },
  {
   "cell_type": "code",
   "execution_count": null,
   "id": "094fc6aa",
   "metadata": {},
   "outputs": [],
   "source": [
    "## 栈：先进后出 队列：先进先出\n",
    "## 只使用一个栈当作队列，另一个栈用来进行辅助操作\n",
    "class CQueue:\n",
    "    def __init__(self):\n",
    "        self.stack1=[]\n",
    "        self.stack2=[]\n",
    "    def appendTail(self,value):\n",
    "        # 1->2\n",
    "        while self.stack1:\n",
    "            self.stack2.append(self.stack1.pop())\n",
    "        # add\n",
    "        self.stack1.append(value)\n",
    "        # 2->1\n",
    "        while self.stack2:\n",
    "            self.stack1.append(self.stack2.pop())\n",
    "        return self.stack1\n",
    "    def deleteTail(self):\n",
    "        if not self.stack1: return -1\n",
    "        return self.stack1.pop()\n",
    "        "
   ]
  },
  {
   "cell_type": "markdown",
   "id": "32d0695d",
   "metadata": {},
   "source": [
    "## 斐波那契数列"
   ]
  },
  {
   "cell_type": "code",
   "execution_count": 5,
   "id": "b4954b2d",
   "metadata": {},
   "outputs": [],
   "source": [
    "def fib( n) :\n",
    "    if n<=1:\n",
    "        return n\n",
    "    MOD=10**9+7\n",
    "    p,q,r=0,0,1\n",
    "    for i in range(2,n+1):\n",
    "        p=q\n",
    "        q=r\n",
    "        r=(p+q)%MOD\n",
    "    return r\n",
    "# 时间复杂度 O(n)"
   ]
  },
  {
   "cell_type": "code",
   "execution_count": null,
   "id": "f1e48e3b",
   "metadata": {},
   "outputs": [],
   "source": [
    "def fib_1(n):\n",
    "    if n<=1:\n",
    "        return n\n",
    "    MOD=10**9+7\n",
    "    def multiply(a,b):\n",
    "        '''\n",
    "        a、b:List[List[int]]\n",
    "        '''\n",
    "        c=[[0,0],[0,0]]\n",
    "        for i in range(2):\n",
    "            for j in range(2):\n",
    "                c[i][j]=(a[i][0]*b[0][j]+a[i][1]*b[1][j])%MOD\n",
    "        return c\n",
    "    def matrix_pow(a,n):\n",
    "        ret=[[1,0][0,1]]\n",
    "        # 循环了n/2次，快幂法\n",
    "        while n>0:\n",
    "            if n&1:#n为偶数\n",
    "                ret=multiply(ret,a)\n",
    "            n>>=1# 除2操作\n",
    "            a=multiply(a,a)\n",
    "        return ret\n",
    "    res=matrix_pow([[1,1],[1,0]],n-1)\n",
    "    return res[0][0]\n",
    "# 时间复杂度 O(logn)"
   ]
  },
  {
   "cell_type": "code",
   "execution_count": 6,
   "id": "0aa50b37",
   "metadata": {},
   "outputs": [
    {
     "data": {
      "text/plain": [
       "5"
      ]
     },
     "execution_count": 6,
     "metadata": {},
     "output_type": "execute_result"
    }
   ],
   "source": [
    "fib(5)"
   ]
  },
  {
   "cell_type": "code",
   "execution_count": 12,
   "id": "e0669a02",
   "metadata": {},
   "outputs": [
    {
     "data": {
      "text/plain": [
       "1"
      ]
     },
     "execution_count": 12,
     "metadata": {},
     "output_type": "execute_result"
    }
   ],
   "source": []
  },
  {
   "cell_type": "code",
   "execution_count": null,
   "id": "363a2275",
   "metadata": {},
   "outputs": [],
   "source": []
  }
 ],
 "metadata": {
  "kernelspec": {
   "display_name": "Python 3 (ipykernel)",
   "language": "python",
   "name": "python3"
  },
  "language_info": {
   "codemirror_mode": {
    "name": "ipython",
    "version": 3
   },
   "file_extension": ".py",
   "mimetype": "text/x-python",
   "name": "python",
   "nbconvert_exporter": "python",
   "pygments_lexer": "ipython3",
   "version": "3.7.11"
  }
 },
 "nbformat": 4,
 "nbformat_minor": 5
}
