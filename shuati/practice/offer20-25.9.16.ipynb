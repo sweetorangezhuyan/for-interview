{
 "cells": [
  {
   "cell_type": "markdown",
   "id": "e25334ba",
   "metadata": {},
   "source": [
    "## 表示数值的字符串"
   ]
  },
  {
   "cell_type": "markdown",
   "id": "50ef699c",
   "metadata": {},
   "source": [
    "有限状态自动机"
   ]
  },
  {
   "cell_type": "code",
   "execution_count": 81,
   "id": "926e401c",
   "metadata": {},
   "outputs": [],
   "source": [
    "'''\n",
    "状态转移方式\n",
    "'''\n",
    "def isNumber(s):\n",
    "    states=[\n",
    "        {' ':0,'s':1,'d':2,'.':4},# 0: start with 'blank'\n",
    "        {'d':2,'.':4},# 1.'sign' before 'e'\n",
    "        {'d':2,'.':3,'e':5,' ':8},# 2.'digit' before 'dot'\n",
    "        {'d':3,'e':5,' ':8},# 3. 'digit' after 'dot'\n",
    "        {'d':3},            #4.'digit' after 'dot' (‘blank’ before 'dot')\n",
    "        {'s':6,'d':7},# 5. 'e'\n",
    "        {'d':7},# 6. 'sign' after 'e'\n",
    "        {'d':7,' ':8},# 7. 'digit' after 'e'\n",
    "        {' ':8}# 8. end with 'blank'       \n",
    "    ]\n",
    "    p=0# start with state 0\n",
    "    for c in s:\n",
    "        print(p)\n",
    "        if '0'<=c<='9':\n",
    "            t='d'\n",
    "        elif c in '+-':t='s'\n",
    "        elif c in 'eE':t='e'\n",
    "        elif c in '. ':t=c\n",
    "        else: t='?'\n",
    "        if t not in states[p]:\n",
    "            return False\n",
    "        print(t)\n",
    "        p=states[p][t]\n",
    "        print(p)\n",
    "    \n",
    "    return p in (2,3,7,8)\n",
    "            "
   ]
  },
  {
   "cell_type": "code",
   "execution_count": 82,
   "id": "c775c1da",
   "metadata": {},
   "outputs": [
    {
     "name": "stdout",
     "output_type": "stream",
     "text": [
      "0\n",
      "d\n",
      "2\n",
      "2\n",
      " \n",
      "8\n"
     ]
    },
    {
     "data": {
      "text/plain": [
       "True"
      ]
     },
     "execution_count": 82,
     "metadata": {},
     "output_type": "execute_result"
    }
   ],
   "source": [
    "isNumber(\"1 \")"
   ]
  },
  {
   "cell_type": "markdown",
   "id": "74f916e9",
   "metadata": {},
   "source": [
    "## 调整数组顺序使奇数位于偶数前面"
   ]
  },
  {
   "cell_type": "markdown",
   "id": "196a72b6",
   "metadata": {},
   "source": [
    "输入一个整数数组，实现一个函数来调整该数组中数字的顺序，使得所有奇数在数组的前半部分，所有偶数在数组的后半部分"
   ]
  },
  {
   "cell_type": "code",
   "execution_count": 8,
   "id": "55df1ae3",
   "metadata": {},
   "outputs": [],
   "source": [
    "def exchange( nums) :\n",
    "    n=len(nums)\n",
    "    if n<=1:\n",
    "        return nums\n",
    "    l=0\n",
    "    r=n-1\n",
    "    while l<r:\n",
    "        while l<r and nums[r]&1==0:# 从后往前找第一个奇数 循环操作\n",
    "            r-=1\n",
    "        while l<r and nums[l]&1==1:# 从前往后找第一个偶数 循环操作\n",
    "            l+=1\n",
    "        if l<r:\n",
    "            tmp=nums[l]\n",
    "            nums[l]=nums[r]\n",
    "            nums[r]=tmp\n",
    "            l+=1\n",
    "            r-=1\n",
    "    return nums\n",
    "        "
   ]
  },
  {
   "cell_type": "code",
   "execution_count": 10,
   "id": "8c59e1ac",
   "metadata": {},
   "outputs": [
    {
     "data": {
      "text/plain": [
       "[1, 3, 2, 4]"
      ]
     },
     "execution_count": 10,
     "metadata": {},
     "output_type": "execute_result"
    }
   ],
   "source": [
    "exchange([1,2,3,4])"
   ]
  },
  {
   "cell_type": "markdown",
   "id": "5acbf37a",
   "metadata": {},
   "source": [
    "## 链表中倒数第k个节点"
   ]
  },
  {
   "cell_type": "markdown",
   "id": "9e8ca29b",
   "metadata": {},
   "source": [
    "1. 先遍历统计链表长n \n",
    "2. 设置一个指针走(n-k)步\n",
    "\n",
    "1.设置双指针，一个先往前走k步，然后两个一起走到指针尾部 "
   ]
  },
  {
   "cell_type": "code",
   "execution_count": 11,
   "id": "094c59f3",
   "metadata": {},
   "outputs": [],
   "source": [
    "class ListNode:\n",
    "    def __init__(self,x):\n",
    "        self.val=x\n",
    "        self.next=None"
   ]
  },
  {
   "cell_type": "code",
   "execution_count": null,
   "id": "7085af92",
   "metadata": {},
   "outputs": [],
   "source": [
    "def getKthFromEnd( head, k):\n",
    "    former,latter=head,head\n",
    "    for _ in range(k):\n",
    "        former=former.next\n",
    "    while former:\n",
    "        former,latter=former.next,latter.next\n",
    "    return latter"
   ]
  },
  {
   "cell_type": "markdown",
   "id": "df2854a8",
   "metadata": {},
   "source": [
    "## 反转链表"
   ]
  },
  {
   "cell_type": "code",
   "execution_count": 15,
   "id": "71bd71d4",
   "metadata": {},
   "outputs": [],
   "source": [
    "def createList(nums):\n",
    "    '''\n",
    "    nums:list[int]\n",
    "    '''\n",
    "    head=ListNode(nums[0])\n",
    "    p=head\n",
    "    for i in range(1,len(nums)):\n",
    "        now=ListNode(nums[i])\n",
    "        now.next=p.next\n",
    "        p.next=now\n",
    "        p=p.next\n",
    "    return head"
   ]
  },
  {
   "cell_type": "code",
   "execution_count": 49,
   "id": "15879d6c",
   "metadata": {},
   "outputs": [],
   "source": [
    "def reverseList(head):\n",
    "    newhead=ListNode(0)    \n",
    "    while head:\n",
    "        print(head.val)\n",
    "        p=head\n",
    "        head=head.next\n",
    "        p.next=newhead.next\n",
    "        newhead.next=p\n",
    "        #head=head.next\n",
    "    return newhead.next"
   ]
  },
  {
   "cell_type": "code",
   "execution_count": 50,
   "id": "cde9c95e",
   "metadata": {},
   "outputs": [],
   "source": [
    "now=createList([1,2,3,4])"
   ]
  },
  {
   "cell_type": "code",
   "execution_count": 51,
   "id": "dc234946",
   "metadata": {},
   "outputs": [
    {
     "name": "stdout",
     "output_type": "stream",
     "text": [
      "1\n",
      "2\n",
      "3\n",
      "4\n"
     ]
    }
   ],
   "source": [
    "renow=reverseList(now)"
   ]
  },
  {
   "cell_type": "markdown",
   "id": "e9cc9fa4",
   "metadata": {},
   "source": [
    "## 合并两个排序的链表"
   ]
  },
  {
   "cell_type": "code",
   "execution_count": 63,
   "id": "21ab2fe3",
   "metadata": {},
   "outputs": [],
   "source": [
    "def mergeTwoLists(l1,l2):\n",
    "    newhead=ListNode(0)\n",
    "    p=newhead\n",
    "    while l1 and l2:\n",
    "        if l1.val<l2.val:\n",
    "            q=l1\n",
    "            l1=l1.next\n",
    "            q.next=p.next\n",
    "            p.next=q\n",
    "            p=p.next\n",
    "            \n",
    "        elif l1.val>l2.val:\n",
    "            q=l2\n",
    "            l2=l2.next\n",
    "            q.next=p.next\n",
    "            p.next=q\n",
    "            p=p.next\n",
    "        else:\n",
    "            q,m=l1,l2\n",
    "            l1,l2=l1.next,l2.next\n",
    "            q.next=p.next\n",
    "            p.next=q\n",
    "            p=p.next\n",
    "            m.next=p.next\n",
    "            p.next=m\n",
    "            p=p.next\n",
    "    if l1:\n",
    "        p.next=l1\n",
    "    if l2:\n",
    "        p.next=l2\n",
    "    return newhead.next"
   ]
  },
  {
   "cell_type": "code",
   "execution_count": 64,
   "id": "e26102a2",
   "metadata": {},
   "outputs": [],
   "source": [
    "now1=createList([2])\n",
    "now2=createList([1])"
   ]
  },
  {
   "cell_type": "code",
   "execution_count": 65,
   "id": "fcebdbb3",
   "metadata": {},
   "outputs": [],
   "source": [
    "merge=mergeTwoLists(now1,now2)"
   ]
  },
  {
   "cell_type": "code",
   "execution_count": 66,
   "id": "8c765113",
   "metadata": {},
   "outputs": [
    {
     "name": "stdout",
     "output_type": "stream",
     "text": [
      "1\n",
      "2\n"
     ]
    }
   ],
   "source": [
    "q=merge\n",
    "while q:\n",
    "    print(q.val)\n",
    "    q=q.next"
   ]
  },
  {
   "cell_type": "code",
   "execution_count": null,
   "id": "466a467d",
   "metadata": {},
   "outputs": [],
   "source": []
  }
 ],
 "metadata": {
  "kernelspec": {
   "display_name": "Python 3 (ipykernel)",
   "language": "python",
   "name": "python3"
  },
  "language_info": {
   "codemirror_mode": {
    "name": "ipython",
    "version": 3
   },
   "file_extension": ".py",
   "mimetype": "text/x-python",
   "name": "python",
   "nbconvert_exporter": "python",
   "pygments_lexer": "ipython3",
   "version": "3.7.11"
  }
 },
 "nbformat": 4,
 "nbformat_minor": 5
}
