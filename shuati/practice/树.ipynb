{
 "cells": [
  {
   "cell_type": "code",
   "execution_count": 1,
   "id": "ccb9b8d8",
   "metadata": {},
   "outputs": [],
   "source": [
    "class TreeNode:\n",
    "    def __init__(self, x):\n",
    "        self.val = x\n",
    "        self.left = None\n",
    "        self.right = None"
   ]
  },
  {
   "cell_type": "markdown",
   "id": "a6fcd74f",
   "metadata": {},
   "source": [
    "## 二叉树的最近公共祖先\n",
    "给定一颗二叉树，找到该树中两个指定节点的最近公共祖先\n",
    "\n",
    "x是q、p的祖先且x的深度（相对于根结点来说）尽可能大，一个节点也可以是它自己的祖先"
   ]
  },
  {
   "cell_type": "code",
   "execution_count": null,
   "id": "233daab2",
   "metadata": {},
   "outputs": [],
   "source": [
    "## dfs 讲解链接：https://leetcode.cn/problems/lowest-common-ancestor-of-a-binary-tree/solution/236-er-cha-shu-de-zui-jin-gong-gong-zu-xian-hou-xu/\n",
    "def lowestCommonAncestor(root,p,q):\n",
    "    if not root or root==p or root==q:\n",
    "        return root\n",
    "    left=lowestCommonAncestor(root.left,p,q)\n",
    "    right=lowestCommonAncestor(root.right,p,q)\n",
    "    if not left:\n",
    "        return right\n",
    "    if not right:\n",
    "        return left\n",
    "    return root"
   ]
  },
  {
   "cell_type": "markdown",
   "id": "0306ac6d",
   "metadata": {},
   "source": [
    "## 不同的二叉搜索树\n",
    "中序遍历（左根右）为升序"
   ]
  },
  {
   "cell_type": "code",
   "execution_count": 7,
   "id": "79ae6b8d",
   "metadata": {},
   "outputs": [],
   "source": [
    "def numTrees(n):\n",
    "    #1--n 互不相同的二叉搜索树\n",
    "    dp=[0]*(n+1)\n",
    "    dp[0],dp[1]=1,1\n",
    "    for i in range(2,n+1):# 选i作为根时\n",
    "        for j in range(1,i+1):\n",
    "            #print(i,j)\n",
    "            dp[i]+=dp[j-1]*dp[i-j]\n",
    "    return dp[n]\n",
    "            "
   ]
  },
  {
   "cell_type": "markdown",
   "id": "f8d93568",
   "metadata": {},
   "source": [
    "## 二叉树展开为链表\n",
    "展开后的单链表与二叉树的**先序遍历**顺序相同"
   ]
  },
  {
   "cell_type": "code",
   "execution_count": 13,
   "id": "07397fcf",
   "metadata": {},
   "outputs": [],
   "source": [
    "def flatten(root):\n",
    "    while root:## 将左子树拼接到右结点上，右子树拼接到左子树的最右结点上\n",
    "        if not root.left:\n",
    "            root=root.right\n",
    "        else:\n",
    "            pre=root.left\n",
    "            while pre.right:\n",
    "                pre=pre.right\n",
    "            pre.right=root.right\n",
    "            root.right=root.left\n",
    "            root.left=None\n",
    "            root=root.right\n",
    "    return root"
   ]
  },
  {
   "cell_type": "markdown",
   "id": "ae91f19a",
   "metadata": {},
   "source": [
    "## 二叉树的直径\n",
    "任意两个节点路径长度中的最大值，这条路径可能穿过也可能不穿过根结点。"
   ]
  },
  {
   "cell_type": "code",
   "execution_count": null,
   "id": "6cf6eee3",
   "metadata": {},
   "outputs": [],
   "source": [
    "class Solution:\n",
    "    def diameterOfBinaryTree(self, root: Optional[TreeNode]) -> int:\n",
    "        self.ans = 0\n",
    "        def depth(node):\n",
    "            # 访问到空节点了，返回0\n",
    "            if not node:\n",
    "                return 0\n",
    "            # 左儿子为根的子树的深度\n",
    "            L = depth(node.left)\n",
    "            # 右儿子为根的子树的深度\n",
    "            R = depth(node.right)\n",
    "            # 计算d_node即L+R+1 并更新ans\n",
    "            self.ans = max(self.ans, L + R )\n",
    "            # 返回该节点为根的子树的深度\n",
    "            return max(L, R) + 1\n",
    "\n",
    "        depth(root)\n",
    "        return self.ans"
   ]
  },
  {
   "cell_type": "markdown",
   "id": "644f2b95",
   "metadata": {},
   "source": [
    "## 把二叉搜索树转换为累加树\n",
    "每个node的新值等于原树中大于或等于 node.val 的值之和"
   ]
  },
  {
   "cell_type": "code",
   "execution_count": null,
   "id": "9bc7d246",
   "metadata": {},
   "outputs": [],
   "source": [
    "## 反序中序遍历 右跟左\n",
    "def convertBST(self, root: Optional[TreeNode]) -> Optional[TreeNode]:\n",
    "    \n",
    "    #re=[]\n",
    "    def inorder(root):\n",
    "        nonlocal total\n",
    "        if root:\n",
    "            inorder(root.right)\n",
    "            total+=root.val\n",
    "            root.val=total\n",
    "            inorder(root.left)\n",
    "    total=0\n",
    "    inorder(root)\n",
    "    return root"
   ]
  },
  {
   "cell_type": "code",
   "execution_count": null,
   "id": "a93ea906",
   "metadata": {},
   "outputs": [],
   "source": [
    "def convertBST(root):\n",
    "    def getSuccessor(node):\n",
    "        succ=node.right\n",
    "        while succ.left and succ.left!=node:\n",
    "            succ=succ.left\n",
    "        return succ\n",
    "    total=0\n",
    "    node=root\n",
    "    while node:\n",
    "        if not node.right:\n",
    "            total+=node.val\n",
    "            node.val=total\n",
    "            node=node.left\n",
    "        else:\n",
    "            succ=getSuccessor(node)\n",
    "            if not succ.left:\n",
    "                succ.left=node\n",
    "                node=node.right\n",
    "            else:\n",
    "                succ.left=None\n",
    "                total+=node.val\n",
    "                node.val=total\n",
    "                node=node.left\n",
    "    return root"
   ]
  }
 ],
 "metadata": {
  "kernelspec": {
   "display_name": "Python 3 (ipykernel)",
   "language": "python",
   "name": "python3"
  },
  "language_info": {
   "codemirror_mode": {
    "name": "ipython",
    "version": 3
   },
   "file_extension": ".py",
   "mimetype": "text/x-python",
   "name": "python",
   "nbconvert_exporter": "python",
   "pygments_lexer": "ipython3",
   "version": "3.7.11"
  }
 },
 "nbformat": 4,
 "nbformat_minor": 5
}
