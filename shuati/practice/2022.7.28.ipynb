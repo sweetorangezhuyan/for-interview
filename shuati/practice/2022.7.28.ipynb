{
 "cells": [
  {
   "cell_type": "code",
   "execution_count": 18,
   "metadata": {
    "collapsed": false
   },
   "outputs": [],
   "source": [
    "# 对于多个字符串，获取字符的频率,每个字符串都获得一个hash表\n",
    "def commonChars( words):\n",
    "        hash=[0]*26\n",
    "        if len(words)==0:\n",
    "            return []\n",
    "        for x in words[0]:\n",
    "            hash[ord(x)-ord('a')]+=1\n",
    "        for word in words[1:]:\n",
    "            hashnow=[0]*26\n",
    "            for x in word:\n",
    "                hashnow[ord(x)-ord('a')]+=1\n",
    "            for i in range(26):\n",
    "                hash[i]=min(hash[i],hashnow[i])\n",
    "        result=[]\n",
    "        for i in range(26):\n",
    "            while hash[i]>0:\n",
    "                result.append(chr(i+ord('a')))\n",
    "                hash[i]-=1\n",
    "        return result"
   ]
  },
  {
   "cell_type": "code",
   "execution_count": 37,
   "metadata": {
    "collapsed": false
   },
   "outputs": [],
   "source": [
    "def commonChars1( words):\n",
    "        #hash=[0]*26\n",
    "        if len(words)==0:\n",
    "            return []\n",
    "        dirr={}\n",
    "        for ind,word in enumerate(words):\n",
    "            for x in word:\n",
    "                dirr.setdefault(x,{})\n",
    "                if ind not in dirr[x].keys():\n",
    "                    dirr[x].setdefault(ind,1)\n",
    "                else:\n",
    "                    dirr[x][ind]+=1\n",
    "        #print(dirr)        \n",
    "        result=[]\n",
    "        for key in dirr.keys():\n",
    "            value=dirr[key]\n",
    "            \n",
    "            if len(value)==len(words):\n",
    "                count=min([value[i] for i in value.keys()])                \n",
    "                for i in range(count):\n",
    "                    result.append(key)\n",
    "        return result"
   ]
  },
  {
   "cell_type": "code",
   "execution_count": 40,
   "metadata": {
    "collapsed": false
   },
   "outputs": [
    {
     "name": "stdout",
     "output_type": "stream",
     "text": [
      "{'c': {0: 1, 1: 1, 2: 1}, 'o': {0: 2, 1: 1, 2: 2}, 'l': {0: 1, 1: 1}, 'k': {1: 1, 2: 1}}\n"
     ]
    },
    {
     "data": {
      "text/plain": [
       "['c', 'o']"
      ]
     },
     "execution_count": 40,
     "metadata": {},
     "output_type": "execute_result"
    }
   ],
   "source": [
    "commonChars1([\"cool\",\"lock\",\"cook\"])"
   ]
  },
  {
   "cell_type": "code",
   "execution_count": 21,
   "metadata": {
    "collapsed": false
   },
   "outputs": [
    {
     "data": {
      "text/plain": [
       "{}"
      ]
     },
     "execution_count": 21,
     "metadata": {},
     "output_type": "execute_result"
    }
   ],
   "source": [
    "dir={}\n",
    "dir.setdefault('a',{})"
   ]
  },
  {
   "cell_type": "code",
   "execution_count": 24,
   "metadata": {
    "collapsed": false
   },
   "outputs": [
    {
     "data": {
      "text/plain": [
       "0"
      ]
     },
     "execution_count": 24,
     "metadata": {},
     "output_type": "execute_result"
    }
   ],
   "source": [
    "dir['a'].setdefault(0,0)"
   ]
  },
  {
   "cell_type": "code",
   "execution_count": 31,
   "metadata": {
    "collapsed": false
   },
   "outputs": [
    {
     "data": {
      "text/plain": [
       "1"
      ]
     },
     "execution_count": 31,
     "metadata": {},
     "output_type": "execute_result"
    }
   ],
   "source": [
    "len(dir['a'])"
   ]
  },
  {
   "cell_type": "code",
   "execution_count": 34,
   "metadata": {
    "collapsed": false
   },
   "outputs": [
    {
     "data": {
      "text/plain": [
       "1"
      ]
     },
     "execution_count": 34,
     "metadata": {},
     "output_type": "execute_result"
    }
   ],
   "source": [
    "a=[1,2,3,4]\n",
    "min(a)"
   ]
  },
  {
   "cell_type": "code",
   "execution_count": null,
   "metadata": {
    "collapsed": true
   },
   "outputs": [],
   "source": []
  }
 ],
 "metadata": {
  "kernelspec": {
   "display_name": "PyCharm (get224)",
   "language": "python",
   "name": "pycharm-32bf5a86"
  },
  "language_info": {
   "codemirror_mode": {
    "name": "ipython",
    "version": 3
   },
   "file_extension": ".py",
   "mimetype": "text/x-python",
   "name": "python",
   "nbconvert_exporter": "python",
   "pygments_lexer": "ipython3",
   "version": "3.7.11"
  }
 },
 "nbformat": 4,
 "nbformat_minor": 2
}
