{
 "cells": [
  {
   "cell_type": "markdown",
   "metadata": {},
   "source": [
    "## 整型数组arr长度n，最初每个数字是<200的正数 \n",
    "## 1.arr[0] <= arr[1]\n",
    "## 2.arr[n-1]<=arr[n-2]\n",
    "## 3.arr[i]<=max(arr[i-1],arr[i+1])\n",
    "## 但是在arr中有些数字丢失了，比如k位置的数字之前是正数，丢失之后k位置的数字为0\n",
    "## 计算有多少种不同的arr可以满足以上的条件\n",
    "## 比如[6,0,9]只有还原成[6,9,9]满足全部三个条件，返回1种"
   ]
  },
  {
   "cell_type": "code",
   "execution_count": null,
   "metadata": {
    "collapsed": true
   },
   "outputs": [],
   "source": [
    "'''\n",
    "f(arr,i,v,s)\n",
    "i -->位置 \n",
    "arr[i]-->v\n",
    "s-->0/1/2 代表i与i+1位置的关系 \n",
    "s==0 arr[i]<arr[i+1] ;\n",
    "s==1 arr[i]=arr[i+1]; \n",
    "s==2 arr[i]>arr[i+1];\n",
    "返回:arr[0...i]有多少种转化方式 \n",
    "\n",
    "可转三维动态规划\n",
    "'''\n",
    "def process1(arr,i,v,s):\n",
    "    if i==0:\n",
    "        return ((s==1||s==0) and (arr[i]==0||v==arr[i]) )?1:0 #\n",
    "    if arr[i]!=0 and v!=arr[i]:\n",
    "        return 0\n",
    "    ways=0\n",
    "    if s==0 or s==1:# [i]<=[i+1] [i-1]随便试\n",
    "        for pre in range(1,201):# i-1-->pre  pre和v的关系\n",
    "            ways+=process1(arr,i-1,pre,pre<v?0:(pre==v?1:2))\n",
    "    else:#[i]>[i+1] [i]<=max([i-1],[i+1])=[i-1] [i-1]的值>=[i]\n",
    "        for pre in range(v,201):\n",
    "            ways+=process1(arr,i-1,pre,pre<v?0:(pre==v?1:2))\n",
    "    return ways\n",
    "            \n",
    "def way1(arr):\n",
    "    N=len(arr)\n",
    "    if arr[N-1]:\n",
    "        return process1(arr,N-1,arr[N-1],2)\n",
    "    else:# arr[N-1]=0,数字丢失\n",
    "        ways=0\n",
    "        for v in range(1,201):\n",
    "            ways+=process1(arr,N-1,v,2)\n",
    "        return ways"
   ]
  },
  {
   "cell_type": "markdown",
   "metadata": {},
   "source": [
    "## $(1!+2!+....+N!)$"
   ]
  },
  {
   "cell_type": "code",
   "execution_count": 4,
   "metadata": {
    "collapsed": true
   },
   "outputs": [],
   "source": [
    "def get_N(N):\n",
    "    if N==1:\n",
    "        return 1\n",
    "    return get_N(N-1)*N"
   ]
  },
  {
   "cell_type": "code",
   "execution_count": 8,
   "metadata": {
    "collapsed": false
   },
   "outputs": [],
   "source": [
    "def sum_N(N):\n",
    "    summ=0\n",
    "    for i in range(1,N+1):\n",
    "        summ+=get_N(i)\n",
    "    return summ"
   ]
  },
  {
   "cell_type": "code",
   "execution_count": 10,
   "metadata": {
    "collapsed": false
   },
   "outputs": [
    {
     "data": {
      "text/plain": [
       "33"
      ]
     },
     "execution_count": 10,
     "metadata": {},
     "output_type": "execute_result"
    }
   ],
   "source": [
    "sum_N(4)"
   ]
  },
  {
   "cell_type": "code",
   "execution_count": null,
   "metadata": {
    "collapsed": true
   },
   "outputs": [],
   "source": []
  }
 ],
 "metadata": {
  "kernelspec": {
   "display_name": "PyCharm (get224)",
   "language": "python",
   "name": "pycharm-32bf5a86"
  },
  "language_info": {
   "codemirror_mode": {
    "name": "ipython",
    "version": 3
   },
   "file_extension": ".py",
   "mimetype": "text/x-python",
   "name": "python",
   "nbconvert_exporter": "python",
   "pygments_lexer": "ipython3",
   "version": "3.7.11"
  }
 },
 "nbformat": 4,
 "nbformat_minor": 2
}
