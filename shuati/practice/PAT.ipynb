{
 "cells": [
  {
   "cell_type": "markdown",
   "id": "a4731a44",
   "metadata": {},
   "source": [
    "## 1001 $A+B$"
   ]
  },
  {
   "cell_type": "code",
   "execution_count": 30,
   "id": "b7027471",
   "metadata": {},
   "outputs": [],
   "source": [
    "def solution():\n",
    "    inputnum=input()\n",
    "    nums=inputnum.split(' ')\n",
    "    a,b=int(nums[0]),int(nums[1])\n",
    "    re=a+b\n",
    "    print(format(re,','))"
   ]
  },
  {
   "cell_type": "code",
   "execution_count": 31,
   "id": "3e71179c",
   "metadata": {},
   "outputs": [
    {
     "name": "stdout",
     "output_type": "stream",
     "text": [
      "-1000000 9\n",
      "-999,991\n"
     ]
    }
   ],
   "source": [
    "solution()"
   ]
  },
  {
   "cell_type": "markdown",
   "id": "fcc622d9",
   "metadata": {},
   "source": [
    "## 1002 $A+B$ for Polynomials"
   ]
  },
  {
   "cell_type": "code",
   "execution_count": 43,
   "id": "dc116397",
   "metadata": {},
   "outputs": [
    {
     "name": "stdout",
     "output_type": "stream",
     "text": [
      "2 1 2.4 0 3.2\n",
      "2 2 1.5 1 0.5\n",
      "3 2 1.5 1 2.9 0 3.2"
     ]
    }
   ],
   "source": [
    "A=input().split(' ')\n",
    "Anum=int(A[0])\n",
    "cnum=[0]*1001\n",
    "for i in range(Anum):\n",
    "    ex=i*2+1\n",
    "    co=i*2+2\n",
    "    cnum[int(A[ex])]+=float(A[co])\n",
    "B=input().split(' ')\n",
    "Bnum=int(B[0])\n",
    "for i in range(Bnum):\n",
    "    ex=i*2+1\n",
    "    co=i*2+2\n",
    "    cnum[int(B[ex])]+=float(B[co])    \n",
    "count=0\n",
    "for i in range(1001):\n",
    "    if cnum[i]!=0:\n",
    "        count+=1\n",
    "print(count,end='')\n",
    "for i in range(1000,-1,-1):\n",
    "    if cnum[i]!=0.0:\n",
    "        print(' '+str(i)+' '+str(round(cnum[i],1)),end='')"
   ]
  },
  {
   "cell_type": "markdown",
   "id": "56d1a603",
   "metadata": {},
   "source": [
    "## 1003 emergency  DFS+回溯"
   ]
  },
  {
   "cell_type": "code",
   "execution_count": 51,
   "id": "5e05aeb9",
   "metadata": {},
   "outputs": [
    {
     "ename": "KeyboardInterrupt",
     "evalue": "Interrupted by user",
     "output_type": "error",
     "traceback": [
      "\u001b[0;31m---------------------------------------------------------------------------\u001b[0m",
      "\u001b[0;31mKeyboardInterrupt\u001b[0m                         Traceback (most recent call last)",
      "\u001b[0;32m/var/folders/8f/6gk48qmd6h55b90mfgnr3zfm0000gp/T/ipykernel_6456/1973988743.py\u001b[0m in \u001b[0;36m<module>\u001b[0;34m\u001b[0m\n\u001b[1;32m      5\u001b[0m \u001b[0;31m##  output\u001b[0m\u001b[0;34m\u001b[0m\u001b[0;34m\u001b[0m\u001b[0;34m\u001b[0m\u001b[0m\n\u001b[1;32m      6\u001b[0m \u001b[0;31m# C1与C2之间最短路径的方案数，可以收集的最大救援队数目\u001b[0m\u001b[0;34m\u001b[0m\u001b[0;34m\u001b[0m\u001b[0;34m\u001b[0m\u001b[0m\n\u001b[0;32m----> 7\u001b[0;31m \u001b[0minputmessages\u001b[0m\u001b[0;34m=\u001b[0m\u001b[0minput\u001b[0m\u001b[0;34m(\u001b[0m\u001b[0;34m)\u001b[0m\u001b[0;34m.\u001b[0m\u001b[0msplit\u001b[0m\u001b[0;34m(\u001b[0m\u001b[0;34m' '\u001b[0m\u001b[0;34m)\u001b[0m\u001b[0;34m\u001b[0m\u001b[0;34m\u001b[0m\u001b[0m\n\u001b[0m\u001b[1;32m      8\u001b[0m \u001b[0mN\u001b[0m\u001b[0;34m,\u001b[0m\u001b[0mM\u001b[0m\u001b[0;34m,\u001b[0m\u001b[0mC1\u001b[0m\u001b[0;34m,\u001b[0m\u001b[0mC2\u001b[0m\u001b[0;34m=\u001b[0m\u001b[0mint\u001b[0m\u001b[0;34m(\u001b[0m\u001b[0minputmessages\u001b[0m\u001b[0;34m[\u001b[0m\u001b[0;36m0\u001b[0m\u001b[0;34m]\u001b[0m\u001b[0;34m)\u001b[0m\u001b[0;34m,\u001b[0m\u001b[0mint\u001b[0m\u001b[0;34m(\u001b[0m\u001b[0minputmessages\u001b[0m\u001b[0;34m[\u001b[0m\u001b[0;36m1\u001b[0m\u001b[0;34m]\u001b[0m\u001b[0;34m)\u001b[0m\u001b[0;34m,\u001b[0m\u001b[0mint\u001b[0m\u001b[0;34m(\u001b[0m\u001b[0minputmessages\u001b[0m\u001b[0;34m[\u001b[0m\u001b[0;36m2\u001b[0m\u001b[0;34m]\u001b[0m\u001b[0;34m)\u001b[0m\u001b[0;34m,\u001b[0m\u001b[0mint\u001b[0m\u001b[0;34m(\u001b[0m\u001b[0minputmessages\u001b[0m\u001b[0;34m[\u001b[0m\u001b[0;36m3\u001b[0m\u001b[0;34m]\u001b[0m\u001b[0;34m)\u001b[0m\u001b[0;34m\u001b[0m\u001b[0;34m\u001b[0m\u001b[0m\n\u001b[1;32m      9\u001b[0m \u001b[0mrescuesinput\u001b[0m\u001b[0;34m=\u001b[0m\u001b[0minput\u001b[0m\u001b[0;34m(\u001b[0m\u001b[0;34m)\u001b[0m\u001b[0;34m\u001b[0m\u001b[0;34m\u001b[0m\u001b[0m\n",
      "\u001b[0;32m~/anaconda/envs/torch/lib/python3.7/site-packages/ipykernel/kernelbase.py\u001b[0m in \u001b[0;36mraw_input\u001b[0;34m(self, prompt)\u001b[0m\n\u001b[1;32m   1008\u001b[0m             \u001b[0mself\u001b[0m\u001b[0;34m.\u001b[0m\u001b[0m_parent_ident\u001b[0m\u001b[0;34m[\u001b[0m\u001b[0;34m\"shell\"\u001b[0m\u001b[0;34m]\u001b[0m\u001b[0;34m,\u001b[0m\u001b[0;34m\u001b[0m\u001b[0;34m\u001b[0m\u001b[0m\n\u001b[1;32m   1009\u001b[0m             \u001b[0mself\u001b[0m\u001b[0;34m.\u001b[0m\u001b[0mget_parent\u001b[0m\u001b[0;34m(\u001b[0m\u001b[0;34m\"shell\"\u001b[0m\u001b[0;34m)\u001b[0m\u001b[0;34m,\u001b[0m\u001b[0;34m\u001b[0m\u001b[0;34m\u001b[0m\u001b[0m\n\u001b[0;32m-> 1010\u001b[0;31m             \u001b[0mpassword\u001b[0m\u001b[0;34m=\u001b[0m\u001b[0;32mFalse\u001b[0m\u001b[0;34m,\u001b[0m\u001b[0;34m\u001b[0m\u001b[0;34m\u001b[0m\u001b[0m\n\u001b[0m\u001b[1;32m   1011\u001b[0m         )\n\u001b[1;32m   1012\u001b[0m \u001b[0;34m\u001b[0m\u001b[0m\n",
      "\u001b[0;32m~/anaconda/envs/torch/lib/python3.7/site-packages/ipykernel/kernelbase.py\u001b[0m in \u001b[0;36m_input_request\u001b[0;34m(self, prompt, ident, parent, password)\u001b[0m\n\u001b[1;32m   1049\u001b[0m             \u001b[0;32mexcept\u001b[0m \u001b[0mKeyboardInterrupt\u001b[0m\u001b[0;34m:\u001b[0m\u001b[0;34m\u001b[0m\u001b[0;34m\u001b[0m\u001b[0m\n\u001b[1;32m   1050\u001b[0m                 \u001b[0;31m# re-raise KeyboardInterrupt, to truncate traceback\u001b[0m\u001b[0;34m\u001b[0m\u001b[0;34m\u001b[0m\u001b[0;34m\u001b[0m\u001b[0m\n\u001b[0;32m-> 1051\u001b[0;31m                 \u001b[0;32mraise\u001b[0m \u001b[0mKeyboardInterrupt\u001b[0m\u001b[0;34m(\u001b[0m\u001b[0;34m\"Interrupted by user\"\u001b[0m\u001b[0;34m)\u001b[0m \u001b[0;32mfrom\u001b[0m \u001b[0;32mNone\u001b[0m\u001b[0;34m\u001b[0m\u001b[0;34m\u001b[0m\u001b[0m\n\u001b[0m\u001b[1;32m   1052\u001b[0m             \u001b[0;32mexcept\u001b[0m \u001b[0mException\u001b[0m\u001b[0;34m:\u001b[0m\u001b[0;34m\u001b[0m\u001b[0;34m\u001b[0m\u001b[0m\n\u001b[1;32m   1053\u001b[0m                 \u001b[0mself\u001b[0m\u001b[0;34m.\u001b[0m\u001b[0mlog\u001b[0m\u001b[0;34m.\u001b[0m\u001b[0mwarning\u001b[0m\u001b[0;34m(\u001b[0m\u001b[0;34m\"Invalid Message:\"\u001b[0m\u001b[0;34m,\u001b[0m \u001b[0mexc_info\u001b[0m\u001b[0;34m=\u001b[0m\u001b[0;32mTrue\u001b[0m\u001b[0;34m)\u001b[0m\u001b[0;34m\u001b[0m\u001b[0;34m\u001b[0m\u001b[0m\n",
      "\u001b[0;31mKeyboardInterrupt\u001b[0m: Interrupted by user"
     ]
    }
   ],
   "source": [
    "##  input\n",
    "#第一行共四个元素，第一个为城市数目N，第二个为街道数目M，c1是现在在的城市，C2为需要救援的城市\n",
    "#第二行为N个城市救援队的数目\n",
    "#接着有M个行，每个街道有3个数，表明c1、c2两座城市通过长度L相连\n",
    "##  output\n",
    "# C1与C2之间最短路径的方案数，可以收集的最大救援队数目\n",
    "inputmessages=input().split(' ')\n",
    "N,M,C1,C2=int(inputmessages[0]),int(inputmessages[1]),int(inputmessages[2]),int(inputmessages[3])\n",
    "rescuesinput=input()\n",
    "rescues=[int(i) for i in rescuesinput.split(' ')]\n",
    "dis=[[] for _ in range(N)]\n",
    "for _ in range(M):\n",
    "    a=list(map(int,input().split()))\n",
    "    dis[a[0]].append((a[1],a[2]))\n",
    "    dis[a[1]].append((a[0],a[2]))\n",
    "\n",
    "min_roads,max_recue,min_distance=0,0,99999\n",
    "temp_distance,temp_rescue=0,rescues[C1]\n",
    "vistied={C1}\n",
    "def dfs(city):\n",
    "    global temp_distance,temp_rescue,min_roads,max_recue,min_distance,vistied,C2\n",
    "    if city==C2:\n",
    "        if temp_distance < min_distance:\n",
    "            min_distance=temp_distance\n",
    "            min_roads=1\n",
    "            max_recue=temp_rescue\n",
    "        elif temp_distance == min_distance:\n",
    "            min_roads+=1\n",
    "            if temp_rescue > max_recue:\n",
    "                max_recue=temp_rescue\n",
    "        return\n",
    "    for next_city,distance in dis[city]:\n",
    "        if next_city not in vistied:\n",
    "            vistied.add(next_city)\n",
    "            temp_distance+=distance\n",
    "            temp_rescue+=rescues[next_city]\n",
    "            dfs(next_city)\n",
    "            temp_distance-=distance## 回溯\n",
    "            temp_rescue-=rescues[next_city]\n",
    "            vistied.remove(next_city)\n",
    "dfs(C1)\n",
    "print(min_roads,max_recue)"
   ]
  },
  {
   "cell_type": "markdown",
   "id": "5006a02f",
   "metadata": {},
   "source": [
    "```c++\n",
    "\n",
    "/*\n",
    "第一行共四个元素，第一个为城市数目N，第二个为街道数目M，c1是现在在的城市，C2为需要救援的城市\n",
    "第二行为N个城市救援队的数目\n",
    "接着有M个行，每个街道有3个数，表明c1、c2两座城市通过长度L相连\n",
    "output：\n",
    "c1与C2之间最短路径的方案数，可以收集的最大救援队数目\n",
    "\n",
    "w为初始点到i点的救援队数目\n",
    "num记录初始点到节点i的路径数目\n",
    "*/\n",
    "#include <iostream>\n",
    "#include <algorithm>\n",
    "using namespace std;\n",
    "int n, m, c1, c2;\n",
    "int e[510][510], weight[510], dis[510], num[510], w[510];\n",
    "bool visit[510];\n",
    "const int inf = 99999999;\n",
    "int main() {\n",
    "    cin>>n>>m>>c1>>c2;\n",
    "    for(int i = 0; i < n; i++)\n",
    "        cin>>weight[i];//救火队的数目相当于每个点的点重\n",
    "    fill(e[0], e[0] + 510 * 510, inf);//每个位置设为无穷大\n",
    "    fill(dis, dis + 510, inf);//c1点到每个点的距离为无穷大\n",
    "    int a, b, c;\n",
    "    for(int i = 0; i < m; i++) {\n",
    "        cin>>a>>b>>c;\n",
    "        e[a][b] = e[b][a] = c;\n",
    "    }\n",
    "    dis[c1] = 0;//将c1到c1设为0\n",
    "    w[c1] = weight[c1];\n",
    "    num[c1] = 1;//初始点处的路径数置1\n",
    "    //循环n次，只有在初始节点的时候进行w和num的更新，其余跳出循环  用一遍Dijkstra算法\n",
    "    for(int i = 0; i < n; i++) {\n",
    "        int u = -1, minn = inf;\n",
    "        //找到初始节点\n",
    "        for(int j = 0; j < n; j++) {\n",
    "            if(visit[j] == false && dis[j] < minn) {\n",
    "                u = j;\n",
    "                minn = dis[j];\n",
    "            }\n",
    "        }\n",
    "        if(u == -1) break;\n",
    "        visit[u] = true;\n",
    "        //记录u到v的\n",
    "        for(int v = 0; v < n; v++) {\n",
    "            if(visit[v] == false && e[u][v] != inf) {\n",
    "                //\n",
    "                if(dis[u] + e[u][v] < dis[v]) {\n",
    "                    dis[v] = dis[u] + e[u][v];\n",
    "                    num[v] = num[u];\n",
    "                    w[v] = w[u] + weight[v];\n",
    "                } else if(dis[u] + e[u][v] == dis[v]) {\n",
    "                    num[v] = num[v] + num[u];\n",
    "                    //看这两个点的是加上路径的权值大还是不加的da\n",
    "                    if(w[u] + weight[v] > w[v])\n",
    "                        w[v] = w[u] + weight[v];\n",
    "                }\n",
    "            }\n",
    "        }\n",
    "    }\n",
    "    cout<<num[c2]<<\" \"<<w[c2];\n",
    "    return 0;\n",
    "}\n",
    "```"
   ]
  },
  {
   "cell_type": "markdown",
   "id": "55afac4d",
   "metadata": {},
   "source": [
    "## 1004 counting leaves"
   ]
  },
  {
   "cell_type": "code",
   "execution_count": 52,
   "id": "7f256a96",
   "metadata": {},
   "outputs": [],
   "source": [
    "## input\n",
    "# N tree nodes ,M non-leaf nodes\n",
    "## output\n",
    "# no child for every seniority level starting from the root\n",
    "\n",
    "# 输出给定树每一层叶子节点的个数，\n",
    "# 广度优先遍历"
   ]
  },
  {
   "cell_type": "code",
   "execution_count": 53,
   "id": "c1a2cc81",
   "metadata": {},
   "outputs": [],
   "source": [
    "## 数据结构\n",
    " #members：下标为成员id ， 值是一个list 含这个成员所有的孩子的id\n",
    "# level：下标是层数，值是叶子节点的个数\n",
    "# temp_num：计算这层的叶子节点的中间变量"
   ]
  },
  {
   "cell_type": "code",
   "execution_count": 55,
   "id": "d895fae3",
   "metadata": {},
   "outputs": [
    {
     "name": "stdout",
     "output_type": "stream",
     "text": [
      "2 1\n",
      "01 1 02\n",
      "0 1\n"
     ]
    }
   ],
   "source": [
    "num_nodes,num_non_leaf=list(map(int,input().split()))\n",
    "if num_nodes==1: \n",
    "    print(1)\n",
    "else:\n",
    "    members=[[] for _ in range(num_nodes+1)]\n",
    "    for i in range(num_non_leaf):\n",
    "        a=list(map(int,input().split()))\n",
    "        members[a[0]]=a[2:]\n",
    "    level,queue=[0],[1]\n",
    "    while queue:\n",
    "        length,temp_num=len(queue),0\n",
    "        for _ in range(length):\n",
    "            father=queue.pop()# 取最后\n",
    "            for son in members[father]:\n",
    "                if not members[son]:\n",
    "                    temp_num+=1\n",
    "                else:\n",
    "                    queue.insert(0,son)\n",
    "        level.append(temp_num)\n",
    "    print(\" \".join(list(map(str,level))))\n",
    "                        "
   ]
  },
  {
   "cell_type": "code",
   "execution_count": 56,
   "id": "2d4e554e",
   "metadata": {},
   "outputs": [
    {
     "data": {
      "text/plain": [
       "[4, 1, 2]"
      ]
     },
     "execution_count": 56,
     "metadata": {},
     "output_type": "execute_result"
    }
   ],
   "source": [
    "queue=[1,2,3]\n",
    "queue.pop()\n",
    "queue.insert(0,4)\n",
    "queue"
   ]
  },
  {
   "cell_type": "markdown",
   "id": "7c0d2f53",
   "metadata": {},
   "source": [
    "```c++\n",
    "/*\n",
    "输出每一层没有孩子结点的结点个数\n",
    "2 1 --》N、M N代表一个树中的节点个数，M代表非叶子结点的数目，紧接着为M行，每一行的格式为ID K ID[1] ID[2] ... ID[K]\n",
    "ID--》给定非叶子结点的编号 K--》此结点孩子个数、紧接着为它孩子的编号\n",
    "*/\n",
    "#include<iostream>\n",
    "#include<string>\n",
    "#include<vector>\n",
    "#include<queue>\n",
    "#include<cstdio>\n",
    "#include<algorithm>\n",
    "using namespace std;\n",
    "const int maxn=100;\n",
    "struct node{\n",
    "    vector<int> child;\n",
    "}Node[maxn];//用来记录每一个节点的叶子结点\n",
    "int n,m;\n",
    "int num[maxn];//记录每层的叶子结点数\n",
    "int h[maxn];//记录节点的高度\n",
    "int max_h=0;\n",
    "void bfs(int root){\n",
    "    queue<int> q;\n",
    "    q.push(root);\n",
    "    while(!q.empty()){\n",
    "        int now=q.front();\n",
    "        q.pop();\n",
    "        max_h=max(max_h,h[now]);\n",
    "        if(Node[now].child.size()==0){\n",
    "            num[h[now]]++;//当前节点层的叶子结点数加1\n",
    "        }\n",
    "        for(int i=0;i<Node[now].child.size();i++){\n",
    "            int child=Node[now].child[i];\n",
    "            h[child]=h[now]+1;//孩子结点的高度\n",
    "            q.push(child);//将孩子接点入队\n",
    "            \n",
    "        }\n",
    "    }\n",
    "}\n",
    "int main(){\n",
    "    //对输入进行处理\n",
    "    cin>>n>>m;\n",
    "    int child;\n",
    "    int id,k;\n",
    "    for(int i=1;i<=m;i++){\n",
    "        cin>>id>>k;\n",
    "        for(int j=0;j<k;j++){\n",
    "            cin>>child;\n",
    "            Node[id].child.push_back(child);//将孩子节点放入vector\n",
    "        }\n",
    "    }\n",
    "    h[1]=1;\n",
    "    bfs(1);\n",
    "    cout<<num[1];\n",
    "    for (int i=2;i<=max_h;i++){\n",
    "        cout<<\" \"<<num[i];\n",
    "    }\n",
    "    return 0;\n",
    "}\n",
    "```"
   ]
  },
  {
   "cell_type": "markdown",
   "id": "a9756d2d",
   "metadata": {},
   "source": [
    "## 1005 spell it right"
   ]
  },
  {
   "cell_type": "code",
   "execution_count": 3,
   "id": "e7a22e14",
   "metadata": {},
   "outputs": [
    {
     "name": "stdout",
     "output_type": "stream",
     "text": [
      "234567\n",
      "two seven\n"
     ]
    }
   ],
   "source": [
    "## input\n",
    "# N\n",
    "## output\n",
    "# the sum of all digits if N\n",
    "N=input()\n",
    "digittoen=['zero','one','two','three','four','five','six','seven','eight','nine']\n",
    "summ=0\n",
    "for i in N:\n",
    "    summ+=int(i)\n",
    "summ=str(summ)\n",
    "re=[]\n",
    "for i in summ:\n",
    "    re.append(digittoen[int(i)])\n",
    "print(\" \".join(re))"
   ]
  },
  {
   "cell_type": "markdown",
   "id": "5b4f69e9",
   "metadata": {},
   "source": [
    "## 1006 Sign In and Sign Out"
   ]
  },
  {
   "cell_type": "code",
   "execution_count": 13,
   "id": "96c9e9e5",
   "metadata": {},
   "outputs": [
    {
     "name": "stdout",
     "output_type": "stream",
     "text": [
      "3\n",
      "CS301111 15:30:28 17:00:10\n",
      "SC3021234 08:00:00 11:25:25\n",
      "CS301133 21:45:00 21:58:40\n",
      "SC3021234 CS301133\n"
     ]
    }
   ],
   "source": [
    "#  the first person who signs in the computer room will unlock the door, and the last one who signs out will lock the door\n",
    "# data struct : id_matrix, start_time_matrix, end_time_matrix, \n",
    "## important : convert time to second\n",
    "M=int(input())\n",
    "early,end=90000,0\n",
    "early_name,end_name='',''\n",
    "for i in range(M):\n",
    "    record=input().split(' ')\n",
    "    signin_time=record[1].split(':')\n",
    "    signin_time=int(signin_time[0])*3600+int(signin_time[1])*60+int(signin_time[2])\n",
    "    if signin_time < early:\n",
    "        early=signin_time\n",
    "        early_name=record[0]\n",
    "    signout_time=record[2].split(':')\n",
    "    signout_time=int(signout_time[0])*3600+int(signout_time[1])*60+int(signout_time[2])\n",
    "    if signout_time > end:\n",
    "        end=signout_time\n",
    "        end_name=record[0]\n",
    "print(early_name+' '+end_name)\n"
   ]
  },
  {
   "cell_type": "markdown",
   "id": "eb7dc4ce",
   "metadata": {},
   "source": [
    "## Maximum Subsequence Sum"
   ]
  },
  {
   "cell_type": "code",
   "execution_count": 29,
   "id": "940cdcfb",
   "metadata": {},
   "outputs": [
    {
     "name": "stdout",
     "output_type": "stream",
     "text": [
      "3\n",
      "-1 -2 -3\n",
      "0 -1 -3\n"
     ]
    }
   ],
   "source": [
    "M=int(input())\n",
    "nums=list(map(int,input().split()))\n",
    "front,end,largest=0,M-1,-1\n",
    "temp,temp_front=0,0## 记录过程值\n",
    "for i,num in enumerate(nums):\n",
    "    temp+=num\n",
    "    if temp<0:\n",
    "        temp=0\n",
    "        temp_front=i+1\n",
    "    elif temp >largest:\n",
    "        largest=temp\n",
    "        front=temp_front\n",
    "        end=i\n",
    "if largest==-1:\n",
    "    largest=0\n",
    "print(largest,nums[front],nums[end])"
   ]
  },
  {
   "cell_type": "code",
   "execution_count": 40,
   "id": "3300a4d2",
   "metadata": {},
   "outputs": [
    {
     "name": "stdout",
     "output_type": "stream",
     "text": [
      "-10 1 2 3 4 -5 -23 3 7 -21\n",
      "[-10, 1, 3, 6, 10, 5, -18, 3, 10, -11] 7 9\n"
     ]
    }
   ],
   "source": [
    "a=list(map(int,input().split()))#[-1,-2,-3,5]\n",
    "dp=[0]*len(a)\n",
    "dp[0]=a[0]\n",
    "start,end=0,0\n",
    "for ind,num in enumerate(a):\n",
    "    if ind==0:\n",
    "        dp[ind]=num\n",
    "    else:\n",
    "        if dp[ind-1]+num > num:\n",
    "            end=ind\n",
    "            #dp[ind]=dp[ind-1]+num\n",
    "        else:\n",
    "            start=ind          \n",
    "        dp[ind]=max(dp[ind-1]+num,num)\n",
    "print(dp,start,end)"
   ]
  },
  {
   "cell_type": "markdown",
   "id": "c9aab2ff",
   "metadata": {},
   "source": [
    "## 1008 Elevator"
   ]
  },
  {
   "cell_type": "code",
   "execution_count": 33,
   "id": "26ff7e66",
   "metadata": {},
   "outputs": [
    {
     "name": "stdout",
     "output_type": "stream",
     "text": [
      "3 2 3 1\n",
      "41\n"
     ]
    }
   ],
   "source": [
    "## input\n",
    "# a positive integer N\n",
    "# up one floor: 6. down : 4. stop: 5\n",
    "## output \n",
    "# total time\n",
    "nums=list(map(int,input().split()[1:]))\n",
    "now,time=0,0\n",
    "for i in nums:\n",
    "    if i>now:\n",
    "        time+=(i-now)*6+5\n",
    "    elif i< now:\n",
    "        time+=(now-i)*4+5\n",
    "    else:\n",
    "        time+=5\n",
    "    now=i\n",
    "print(time)"
   ]
  },
  {
   "cell_type": "markdown",
   "id": "1397a790",
   "metadata": {},
   "source": [
    "## 1100 Mars Numbers"
   ]
  },
  {
   "cell_type": "code",
   "execution_count": 12,
   "id": "6a7defc4",
   "metadata": {},
   "outputs": [
    {
     "name": "stdout",
     "output_type": "stream",
     "text": [
      "2\n",
      "may\n",
      "5\n",
      "1\n",
      "jan\n"
     ]
    }
   ],
   "source": [
    "# 找对应\n",
    "## 进制转化\n",
    "N=int(input())\n",
    "to_mars_ones=['tret','jan','feb','mar','apr','may','jun','jly','aug','sep','oct','nov','dec']# 个位数\n",
    "to_mars_tens=['tret','tam','hel','maa','huh','tou','kes','hei','elo','syy','lok','mer','jou']# 十位数\n",
    "for i in range(N):\n",
    "    now=input()\n",
    "    if now.isdigit():\n",
    "        num=int(now)\n",
    "        ans=[]\n",
    "        if num!=0:\n",
    "            while num!=0:\n",
    "                ans=[num%13]+ans# 在头新加入\n",
    "                num//=131\n",
    "            if len(ans)==2:\n",
    "                ans[0]=to_mars_tens[ans[0]]\n",
    "                if ans[1]!=0:\n",
    "                    ans[1]=to_mars_ones[ans[1]]\n",
    "                else:\n",
    "                    ans.pop()\n",
    "            else:\n",
    "                ans[0]=to_mars_ones[ans[0]]\n",
    "        else:\n",
    "            ans=['tret']\n",
    "        #print(ans)\n",
    "        print(\" \".join(ans))\n",
    "    else:\n",
    "        strs=now.split()\n",
    "        if len(strs)==2:\n",
    "            strs[0]=to_mars_tens.index(strs[0])\n",
    "            strs[1]=to_mars_ones.index(strs[1])\n",
    "            print(strs[0]*13+strs[1])\n",
    "        else:\n",
    "            if strs[0] in to_mars_tens:\n",
    "                strs[0]=to_mars_tens.index(strs[0])\n",
    "                print(strs[0]*13)\n",
    "            else:\n",
    "                strs[0]=to_mars_ones.index(strs[0])\n",
    "                print(strs[0])\n"
   ]
  },
  {
   "cell_type": "code",
   "execution_count": 13,
   "id": "581a57cc",
   "metadata": {},
   "outputs": [],
   "source": [
    "ans=[]\n",
    "ans=[1%13]+ans"
   ]
  },
  {
   "cell_type": "code",
   "execution_count": 16,
   "id": "5e342ad9",
   "metadata": {},
   "outputs": [
    {
     "data": {
      "text/plain": [
       "[6, 5, 5, 1]"
      ]
     },
     "execution_count": 16,
     "metadata": {},
     "output_type": "execute_result"
    }
   ],
   "source": [
    "\n",
    "ans=[5%13]+ans\n",
    "ans.insert(0,6)\n",
    "ans"
   ]
  },
  {
   "cell_type": "markdown",
   "id": "1b4583a7",
   "metadata": {},
   "source": [
    "## 1101 quick sort"
   ]
  },
  {
   "cell_type": "code",
   "execution_count": 24,
   "id": "2dacd7fa",
   "metadata": {},
   "outputs": [
    {
     "name": "stdout",
     "output_type": "stream",
     "text": [
      "1\n",
      "1\n",
      "1\n",
      "1\n"
     ]
    }
   ],
   "source": [
    "# time out pivot 必须在排好序的位置上\n",
    "N=int(input())\n",
    "nums=list(map(int,input().split()))\n",
    "pivot_can=[]\n",
    "for ind,num in enumerate(nums):\n",
    "    left=0\n",
    "    right=N-1\n",
    "    while left<=right and nums[right]>num:\n",
    "        right-=1\n",
    "    while left<=right and nums[left]<num:\n",
    "        left+=1\n",
    "    #print(ind,left,right)\n",
    "    if left==ind and right==ind:\n",
    "        pivot_can.append(num)\n",
    "print(len(pivot_can))\n",
    "print(\" \".join(map(str,pivot_can)))"
   ]
  },
  {
   "cell_type": "code",
   "execution_count": null,
   "id": "6b3cf16e",
   "metadata": {},
   "outputs": [],
   "source": [
    "## 线性扫描\n",
    "N=int(input())\n",
    "nums=list(map(int,input().split()))\n",
    "# 找到没个数左边的最大值\n",
    "left=[nums[0] for _ in range(N)]\n",
    "for i in range(1,N):\n",
    "    left[i]=nums[i] if nums[i]>left[i-1] else left[i-1]\n",
    "# 找到每个数右边的最小值\n",
    "right=[nums[-1] for _ in range(N)]\n",
    "for i in range(N-2,-1,-1):\n",
    "    right[i]=nums[i] if nums[i]<right[i+1] else right[i+1]\n",
    "count=[j for i,j in enumerate(nums) if left[i]<=j<=right[i]]\n",
    "print(len(count))\n",
    "print(\" \".join(list(map(str, count))))"
   ]
  },
  {
   "cell_type": "markdown",
   "id": "043a2aaa",
   "metadata": {},
   "source": [
    "## 1102 Invert a binary Tree"
   ]
  },
  {
   "cell_type": "code",
   "execution_count": 26,
   "id": "bba34f71",
   "metadata": {},
   "outputs": [
    {
     "name": "stdout",
     "output_type": "stream",
     "text": [
      "8\n",
      "1 -\n",
      "- -\n",
      "0 -\n",
      "2 7\n",
      "- -\n",
      "- -\n",
      "5 -\n",
      "4 6\n",
      "3 7 2 6 4 0 5 1\n",
      "6 5 7 4 3 2 0 1\n"
     ]
    }
   ],
   "source": [
    "class node:\n",
    "    def __init__(self,val):\n",
    "        self.val=val\n",
    "        self.father=None\n",
    "        self.left=None\n",
    "        self.right=None\n",
    "N=int(input())\n",
    "tree=[node(i) for i in range(N)]\n",
    "for i in range(N):\n",
    "    right,left=input().split(' ')\n",
    "    if left!='-':\n",
    "        tree[i].left=tree[int(left)]\n",
    "        tree[i].left.father=tree[i]\n",
    "    if right!='-':\n",
    "        tree[i].right=tree[int(right)]\n",
    "        tree[i].right.father=tree[i]\n",
    "# find root node\n",
    "root=tree[0]\n",
    "while root.father is not None:\n",
    "    root=root.father\n",
    "ans=[]\n",
    "def levelorder(root):\n",
    "    queue=[]\n",
    "    queue.append(root)\n",
    "    ans.append(root.val)\n",
    "    while queue:\n",
    "        nownode=queue.pop(0)\n",
    "        if nownode.left:\n",
    "            queue.append(nownode.left)\n",
    "            ans.append(nownode.left.val)\n",
    "        if nownode.right:\n",
    "            queue.append(nownode.right)\n",
    "            ans.append(nownode.right.val)\n",
    "levelorder(root)\n",
    "print(\" \".join(map(str,ans)))\n",
    "\n",
    "def inorder(root):\n",
    "    if root.left:\n",
    "        inorder(root.left)\n",
    "    ans.append(root.val)\n",
    "    if root.right:\n",
    "        inorder(root.right)\n",
    "ans.clear()\n",
    "inorder(root)\n",
    "print(\" \".join(map(str,ans)))"
   ]
  },
  {
   "cell_type": "markdown",
   "id": "5f32c03d",
   "metadata": {},
   "source": [
    "## 1103 integer factorization"
   ]
  },
  {
   "cell_type": "markdown",
   "id": "0ac9a023",
   "metadata": {},
   "source": [
    "#### data structure\n",
    "ans 最佳底数们，是一个列表\n",
    "\n",
    "maxFacsum 目前最佳底数们的底数和\n",
    "\n",
    "sums目前计算中的指数和\n",
    "\n",
    "facsums 目前计算中的底数和\n",
    "\n",
    "now 目前计算中的底数们，是一个列表\n"
   ]
  },
  {
   "cell_type": "markdown",
   "id": "efbeee9c",
   "metadata": {},
   "source": [
    "##### algorithm\n",
    "1.从最佳潜在底数开始\n",
    "    更新sums、facsums和now\n",
    "    继续dfs这个函数--底数可以重复选择\n",
    "    回溯sums、facsums和now\n",
    "    dfs上一个函数\n",
    "    \n",
    "2.当DFS 到sums>N or len(now)>K or index=0\n",
    "    及时剪枝\n",
    "    \n",
    "3.当DFS 到sums=N or len(now)=K\n",
    "    比较最佳解和目前解的底数和，判断是否更新\n",
    "    \n",
    "输出即可"
   ]
  },
  {
   "cell_type": "code",
   "execution_count": 30,
   "id": "1cc94959",
   "metadata": {},
   "outputs": [
    {
     "name": "stdout",
     "output_type": "stream",
     "text": [
      "169 5 2\n",
      "169 = 6^2 + 6^2 + 6^2 + 6^2 + 5^2\n"
     ]
    }
   ],
   "source": [
    "# N = n[1]^P + ... n[K]^P\n",
    "N,K,P=list(map(int,input().split()))\n",
    "ans=[]\n",
    "maxFacsum=0\n",
    "sums,facsums,now=0,0,[]\n",
    "def dfs(index):\n",
    "    global maxFacsum,ans,sums,facsums,now,N,K,P\n",
    "    if sums>N or len(now)>K or index==0:\n",
    "        return\n",
    "    if sums==N and  len(now)==K and facsums > maxFacsum:\n",
    "        maxFacsum=facsums\n",
    "        ans=now.copy()\n",
    "        return\n",
    "    now.append(index)\n",
    "    sums+=pow(index,P)\n",
    "    facsums+=index\n",
    "    dfs(index)\n",
    "    now.pop()\n",
    "    sums-=pow(index,P)\n",
    "    facsums-=index\n",
    "    dfs(index-1)\n",
    "dfs(int(pow(N,1/P)))\n",
    "if ans:\n",
    "    ans = list(map(lambda x: str(x) + \"^\" + str(P), ans))\n",
    "    ans=' + '.join(ans)\n",
    "    print(N,'=',ans)\n",
    "else:\n",
    "    print(\"Impossible\")"
   ]
  },
  {
   "cell_type": "markdown",
   "id": "46f64d9e",
   "metadata": {},
   "source": [
    "## 1104 Sum of Number Segments"
   ]
  },
  {
   "cell_type": "code",
   "execution_count": 15,
   "id": "c87edcf6",
   "metadata": {},
   "outputs": [
    {
     "name": "stdout",
     "output_type": "stream",
     "text": [
      "0\n",
      "\n",
      "0.00\n"
     ]
    },
    {
     "ename": "IndexError",
     "evalue": "list index out of range",
     "output_type": "error",
     "traceback": [
      "\u001b[0;31m---------------------------------------------------------------------------\u001b[0m",
      "\u001b[0;31mIndexError\u001b[0m                                Traceback (most recent call last)",
      "\u001b[0;32m/var/folders/8f/6gk48qmd6h55b90mfgnr3zfm0000gp/T/ipykernel_24345/3621743358.py\u001b[0m in \u001b[0;36m<module>\u001b[0;34m\u001b[0m\n\u001b[1;32m      4\u001b[0m     \u001b[0mprint\u001b[0m\u001b[0;34m(\u001b[0m\u001b[0;34m'%.2f'\u001b[0m\u001b[0;34m%\u001b[0m\u001b[0;36m0\u001b[0m\u001b[0;34m)\u001b[0m\u001b[0;34m\u001b[0m\u001b[0;34m\u001b[0m\u001b[0m\n\u001b[1;32m      5\u001b[0m \u001b[0;31m#resum=nums[0]\u001b[0m\u001b[0;34m\u001b[0m\u001b[0;34m\u001b[0m\u001b[0;34m\u001b[0m\u001b[0m\n\u001b[0;32m----> 6\u001b[0;31m \u001b[0mpre\u001b[0m\u001b[0;34m=\u001b[0m\u001b[0mnums\u001b[0m\u001b[0;34m[\u001b[0m\u001b[0;36m0\u001b[0m\u001b[0;34m]\u001b[0m\u001b[0;34m\u001b[0m\u001b[0;34m\u001b[0m\u001b[0m\n\u001b[0m\u001b[1;32m      7\u001b[0m \u001b[0mre\u001b[0m\u001b[0;34m=\u001b[0m\u001b[0;34m[\u001b[0m\u001b[0mnums\u001b[0m\u001b[0;34m[\u001b[0m\u001b[0;36m0\u001b[0m\u001b[0;34m]\u001b[0m\u001b[0;34m]\u001b[0m\u001b[0;34m\u001b[0m\u001b[0;34m\u001b[0m\u001b[0m\n\u001b[1;32m      8\u001b[0m \u001b[0;32mfor\u001b[0m \u001b[0mind\u001b[0m \u001b[0;32min\u001b[0m \u001b[0mrange\u001b[0m\u001b[0;34m(\u001b[0m\u001b[0;36m1\u001b[0m\u001b[0;34m,\u001b[0m\u001b[0mN\u001b[0m\u001b[0;34m)\u001b[0m\u001b[0;34m:\u001b[0m\u001b[0;34m\u001b[0m\u001b[0;34m\u001b[0m\u001b[0m\n",
      "\u001b[0;31mIndexError\u001b[0m: list index out of range"
     ]
    }
   ],
   "source": [
    "N=int(input())\n",
    "nums=list(map(float,input().split()))\n",
    "if N==0:\n",
    "    print('%.2f'%0)\n",
    "#resum=nums[0]\n",
    "pre=nums[0]\n",
    "re=[nums[0]]\n",
    "for ind in range(1,N):\n",
    "    pre+=nums[ind]*(ind+1)\n",
    "    re.append(pre)\n",
    "print(re)\n",
    "print('%.2f'%sum(re))    "
   ]
  },
  {
   "cell_type": "code",
   "execution_count": null,
   "id": "5db759fe",
   "metadata": {},
   "outputs": [],
   "source": [
    "vN=int(input())\n",
    "nums=list(map(float,input().split()))\n",
    "resum=0\n",
    "\n",
    "for ind in range(N-1):\n",
    "    resum+=nums[ind]\n",
    "    pre=nums[ind]\n",
    "    for j in range(ind+1,N):\n",
    "        pre+=nums[j]\n",
    "        resum+=pre\n",
    "resum+=nums[N-1]\n",
    "print('%0.2f'%resum)   "
   ]
  },
  {
   "cell_type": "markdown",
   "id": "c165d8e0",
   "metadata": {},
   "source": [
    "## 1107 Social Clusters"
   ]
  },
  {
   "cell_type": "code",
   "execution_count": 5,
   "id": "d1eb44a3",
   "metadata": {},
   "outputs": [
    {
     "name": "stdout",
     "output_type": "stream",
     "text": [
      "8\n",
      "3: 2 7 10\n",
      "1: 4\n",
      "2: 5 3\n",
      "1: 4\n",
      "1: 3\n",
      "1: 4\n",
      "4: 6 8 15\n",
      "1: 4\n",
      "[0, 1, 2, 3, 2, 3, 2, 7, 2]\n"
     ]
    },
    {
     "ename": "TypeError",
     "evalue": "'function' object is not subscriptable",
     "output_type": "error",
     "traceback": [
      "\u001b[0;31m---------------------------------------------------------------------------\u001b[0m",
      "\u001b[0;31mTypeError\u001b[0m                                 Traceback (most recent call last)",
      "\u001b[0;32m/var/folders/8f/6gk48qmd6h55b90mfgnr3zfm0000gp/T/ipykernel_75987/3453419670.py\u001b[0m in \u001b[0;36m<module>\u001b[0;34m\u001b[0m\n\u001b[1;32m     17\u001b[0m \u001b[0mprint\u001b[0m\u001b[0;34m(\u001b[0m\u001b[0mfather\u001b[0m\u001b[0;34m)\u001b[0m\u001b[0;34m\u001b[0m\u001b[0;34m\u001b[0m\u001b[0m\n\u001b[1;32m     18\u001b[0m \u001b[0;32mfor\u001b[0m \u001b[0mi\u001b[0m \u001b[0;32min\u001b[0m \u001b[0mrange\u001b[0m\u001b[0;34m(\u001b[0m\u001b[0mn\u001b[0m\u001b[0;34m)\u001b[0m\u001b[0;34m:\u001b[0m\u001b[0;34m\u001b[0m\u001b[0;34m\u001b[0m\u001b[0m\n\u001b[0;32m---> 19\u001b[0;31m     \u001b[0misroot\u001b[0m\u001b[0;34m[\u001b[0m\u001b[0mfindFather\u001b[0m\u001b[0;34m[\u001b[0m\u001b[0mi\u001b[0m\u001b[0;34m+\u001b[0m\u001b[0;36m1\u001b[0m\u001b[0;34m]\u001b[0m\u001b[0;34m]\u001b[0m\u001b[0;34m+=\u001b[0m\u001b[0;36m1\u001b[0m \u001b[0;31m## 是老大的位置加1\u001b[0m\u001b[0;34m\u001b[0m\u001b[0;34m\u001b[0m\u001b[0m\n\u001b[0m\u001b[1;32m     20\u001b[0m \u001b[0mans\u001b[0m\u001b[0;34m=\u001b[0m\u001b[0;34m[\u001b[0m\u001b[0;34m]\u001b[0m\u001b[0;34m\u001b[0m\u001b[0;34m\u001b[0m\u001b[0m\n\u001b[1;32m     21\u001b[0m \u001b[0;32mfor\u001b[0m \u001b[0mi\u001b[0m \u001b[0;32min\u001b[0m \u001b[0misroot\u001b[0m\u001b[0;34m:\u001b[0m\u001b[0;34m\u001b[0m\u001b[0;34m\u001b[0m\u001b[0m\n",
      "\u001b[0;31mTypeError\u001b[0m: 'function' object is not subscriptable"
     ]
    }
   ],
   "source": [
    "hobby=[0 for i in range(1001)]\n",
    "n=int(input())\n",
    "father=[i for i in range(n+1)]# 并查集\n",
    "isroot=[0 for i in range(n+1)]\n",
    "def findFather(son): \n",
    "    if son != father[son]:\n",
    "        father[son]=findFather(father[son])\n",
    "    return father[son]\n",
    "for i in range(n):\n",
    "    hobbies=list(map(int,input().split()[1:]))\n",
    "    for j in hobbies:\n",
    "        if hobby[j]==0:\n",
    "            hobby[j]=i+1\n",
    "        else:\n",
    "            # i+1 表示目前这个人,更新这个人最顶部的father\n",
    "            father[findFather(i+1)]=findFather(hobby[j])#\n",
    "#print(father)\n",
    "for i in range(n):\n",
    "    isroot[findFather(i+1)]+=1 ## 是老大的位置加1\n",
    "ans=[]\n",
    "for i in isroot:\n",
    "    if i !=0:\n",
    "        ans.append(i)\n",
    "print(len(ans))\n",
    "print(''.join(map(str,sorted(ans,reverse=True))))\n",
    "\n"
   ]
  },
  {
   "cell_type": "code",
   "execution_count": null,
   "id": "9be3d165",
   "metadata": {},
   "outputs": [],
   "source": []
  }
 ],
 "metadata": {
  "kernelspec": {
   "display_name": "Python 3 (ipykernel)",
   "language": "python",
   "name": "python3"
  },
  "language_info": {
   "codemirror_mode": {
    "name": "ipython",
    "version": 3
   },
   "file_extension": ".py",
   "mimetype": "text/x-python",
   "name": "python",
   "nbconvert_exporter": "python",
   "pygments_lexer": "ipython3",
   "version": "3.7.11"
  }
 },
 "nbformat": 4,
 "nbformat_minor": 5
}
