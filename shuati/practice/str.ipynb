{
 "cells": [
  {
   "cell_type": "code",
   "execution_count": 9,
   "metadata": {},
   "outputs": [],
   "source": [
    " def setZeroes(matrix):\n",
    "        \"\"\"\n",
    "        Do not return anything, modify matrix in-place instead.\n",
    "        \"\"\"\n",
    "        m,n=len(matrix),len(matrix[0])\n",
    "        index=[]\n",
    "        for i in range(m):\n",
    "            for j in range(n):\n",
    "                \n",
    "                if matrix[i][j]==0:\n",
    "                    index.append([i,j])\n",
    "        print(index)\n",
    "        for ind in index:\n",
    "            matrix[ind[0]]=[0]*n\n",
    "            for i in range(m):\n",
    "                matrix[i][ind[1]]=0 \n",
    "            #matrix=[for i in m]\n",
    "        return matrix"
   ]
  },
  {
   "cell_type": "code",
   "execution_count": 12,
   "metadata": {},
   "outputs": [
    {
     "name": "stdout",
     "output_type": "stream",
     "text": [
      "[[0, 0], [0, 3]]\n"
     ]
    },
    {
     "data": {
      "text/plain": [
       "[[0, 0, 0, 0], [0, 4, 5, 0], [0, 3, 1, 0]]"
      ]
     },
     "execution_count": 12,
     "metadata": {},
     "output_type": "execute_result"
    }
   ],
   "source": [
    "setZeroes([[0,1,2,0],[3,4,5,2],[1,3,1,5]])"
   ]
  },
  {
   "cell_type": "markdown",
   "metadata": {},
   "source": [
    "## 字母异位词分组"
   ]
  },
  {
   "cell_type": "code",
   "execution_count": 43,
   "metadata": {
    "collapsed": true
   },
   "outputs": [],
   "source": [
    "def groupAnagrams(strs):\n",
    "    '''\n",
    "    strs: List[str]\n",
    "    '''\n",
    "    n=len(strs)\n",
    "    re=[]\n",
    "    if n<=1:\n",
    "        re.append(strs)\n",
    "        return re\n",
    "    dirr={}\n",
    "    for s in strs:\n",
    "        t=s\n",
    "        t=str(sorted(t))\n",
    "        if t in dirr.keys():\n",
    "            dirr[t].append(s)\n",
    "        else:\n",
    "            dirr[t]=[]\n",
    "            dirr[t].append(s)\n",
    "            \n",
    "    for x in dirr.keys():\n",
    "        re.append(dirr[x])\n",
    "    return re"
   ]
  },
  {
   "cell_type": "code",
   "execution_count": 44,
   "metadata": {},
   "outputs": [
    {
     "data": {
      "text/plain": [
       "[['eat', 'tea', 'ate'], ['tan', 'nat'], ['bat']]"
      ]
     },
     "execution_count": 44,
     "metadata": {},
     "output_type": "execute_result"
    }
   ],
   "source": [
    "groupAnagrams([\"eat\", \"tea\", \"tan\", \"ate\", \"nat\", \"bat\"])"
   ]
  },
  {
   "cell_type": "markdown",
   "metadata": {},
   "source": [
    "## 无重复字符的最长子串"
   ]
  },
  {
   "cell_type": "code",
   "execution_count": null,
   "metadata": {
    "collapsed": true
   },
   "outputs": [],
   "source": [
    "def lengthOfLongestSubstring( s):\n",
    "    n=len(s)\n",
    "    if n<=1:\n",
    "        return n\n",
    "    queue=[]\n",
    "    maxx=0\n",
    "    for c in s:\n",
    "        # 重复出队，直到c不在队列里\n",
    "        while c in queue:\n",
    "            queue.pop(0)\n",
    "        queue.append(c)\n",
    "        maxx=max(maxx,len(queue))\n",
    "\n",
    "    return maxx"
   ]
  },
  {
   "cell_type": "code",
   "execution_count": 65,
   "metadata": {},
   "outputs": [
    {
     "data": {
      "text/plain": [
       "3"
      ]
     },
     "execution_count": 65,
     "metadata": {},
     "output_type": "execute_result"
    }
   ],
   "source": [
    "lengthOfLongestSubstring('dvdf')"
   ]
  },
  {
   "cell_type": "markdown",
   "metadata": {},
   "source": [
    "## 最长回文子串"
   ]
  },
  {
   "cell_type": "code",
   "execution_count": 83,
   "metadata": {
    "collapsed": true
   },
   "outputs": [],
   "source": [
    "'''\n",
    "中心扩散法\n",
    "'''\n",
    "def longestPalindrome(s):\n",
    "    n=len(s)\n",
    "    if n==1:\n",
    "        return s\n",
    "    start=0\n",
    "    maxlen=0\n",
    "    for i in range(n):\n",
    "        #如果剩余子串长度小于目前查找到的最长回文子串的长度，直接终止循环\n",
    "        if n-i<=maxlen/2:\n",
    "            break\n",
    "        left=i\n",
    "        right=i \n",
    "        while right<n-1 and s[right+1]==s[right]:\n",
    "            right+=1#过滤掉重复的\n",
    "        i=right+1#下次在判断的时候从重复的下一个字符开始判断\n",
    "        #然后往两边扩散，找出回文子串的长度\n",
    "        while right<n-1 and left>0 and s[left-1]==s[right+1]:\n",
    "            right+=1\n",
    "            left-=1\n",
    "        if right-left+1>maxlen:\n",
    "            start=left\n",
    "            maxlen=right-left+1\n",
    "    return s[start:start+maxlen]"
   ]
  },
  {
   "cell_type": "code",
   "execution_count": 84,
   "metadata": {},
   "outputs": [
    {
     "data": {
      "text/plain": [
       "'bb'"
      ]
     },
     "execution_count": 84,
     "metadata": {},
     "output_type": "execute_result"
    }
   ],
   "source": [
    "longestPalindrome('abbc')"
   ]
  },
  {
   "cell_type": "markdown",
   "metadata": {},
   "source": [
    "## 回文串个数"
   ]
  },
  {
   "cell_type": "code",
   "execution_count": 4,
   "metadata": {},
   "outputs": [],
   "source": [
    "def countSubstrings(s):## 暴力法\n",
    "    nums=0\n",
    "    def ishuiwen(i,j):\n",
    "        while i<j:\n",
    "            if s[i]==s[j]:\n",
    "                i+=1\n",
    "                j-=1\n",
    "            else:\n",
    "                return False\n",
    "        return True\n",
    "    \n",
    "    n=len(s)\n",
    "    for i in range(n):\n",
    "        for j in range(i,n):\n",
    "            if ishuiwen(i,j):\n",
    "                nums+=1\n",
    "    return nums"
   ]
  },
  {
   "cell_type": "markdown",
   "metadata": {},
   "source": [
    "### 动态规划"
   ]
  },
  {
   "cell_type": "code",
   "execution_count": 17,
   "metadata": {},
   "outputs": [],
   "source": [
    "def countSubstrings(s):## 快很多\n",
    "    nums=0\n",
    "    n=len(s)\n",
    "    dp=[[False]*n for _ in range(n)]\n",
    "    for j in range(n):\n",
    "        for i in range(0,j+1):\n",
    "            if s[i]==s[j] and (j-i<=1 or dp[i+1][j-1]):## j-i<=1-->'aa'\n",
    "                dp[i][j]=True\n",
    "                nums+=1\n",
    "    #print(dp)\n",
    "    return nums"
   ]
  },
  {
   "cell_type": "code",
   "execution_count": 18,
   "metadata": {},
   "outputs": [
    {
     "data": {
      "text/plain": [
       "3"
      ]
     },
     "execution_count": 18,
     "metadata": {},
     "output_type": "execute_result"
    }
   ],
   "source": [
    "countSubstrings('abc')"
   ]
  },
  {
   "cell_type": "markdown",
   "metadata": {},
   "source": [
    "### Manacher算法：线性时间内求解最长回文子串的算法\n",
    "$f[i]$来表示以 $s$ 的第 $i$ 位为回文中心，可以拓展出的最大回文半径，那么 $f(i) - 1$ 就是以 $i$ 为中心的最大回文串长度"
   ]
  },
  {
   "cell_type": "code",
   "execution_count": null,
   "metadata": {},
   "outputs": [],
   "source": [
    "def countSubstrings(s):\n",
    "    n=len(s)\n",
    "    t='$#'\n",
    "    for ch in s:\n",
    "        t+=c \n",
    "        t+='#'\n",
    "    n=len(t)\n",
    "    t+='!'\n",
    "    f=[0]*n\n",
    "    imax,rmax,ans=0,0,0\n",
    "    for i in range(1,n):\n",
    "        # 初始化f[i]\n",
    "        if i<=rmax:\n",
    "            f[i]=min(rmax-i+1,f[2*imax-i])\n",
    "        else:\n",
    "            f[i]=1\n",
    "        # 中心扩展   \n",
    "        while t[i+f[i]]==t[i-f[i]]:\n",
    "            f[i]+=1\n",
    "        # 维护imax,rmax\n",
    "        if i+f[i]-1>rmax:\n",
    "            imax=i\n",
    "            rmax=i+f[i]-1\n",
    "        ans+=(f[i]/2)\n",
    "    return ans"
   ]
  },
  {
   "cell_type": "markdown",
   "metadata": {},
   "source": [
    "## 递增的三元组序列"
   ]
  },
  {
   "cell_type": "code",
   "execution_count": 76,
   "metadata": {
    "collapsed": true
   },
   "outputs": [],
   "source": [
    "def increasingTriplet(nums):\n",
    "    small=nums[0]\n",
    "    mid=2**31-1# 第二小的值\n",
    "    for i in range(1,len(nums)):\n",
    "        if nums[i]<=small:\n",
    "            small=nums[i]\n",
    "        elif nums[i]<=mid:#记录比small大的最小值，也就是mid的值\n",
    "            mid=nums[i]\n",
    "        else:\n",
    "            return True\n",
    "    return False\n",
    "            "
   ]
  },
  {
   "cell_type": "code",
   "execution_count": 80,
   "metadata": {},
   "outputs": [
    {
     "data": {
      "text/plain": [
       "False"
      ]
     },
     "execution_count": 80,
     "metadata": {},
     "output_type": "execute_result"
    }
   ],
   "source": [
    "increasingTriplet([5,4,3,2,1])"
   ]
  },
  {
   "cell_type": "code",
   "execution_count": 10,
   "metadata": {},
   "outputs": [],
   "source": [
    "a=[1,2,3,4]"
   ]
  },
  {
   "cell_type": "code",
   "execution_count": 11,
   "metadata": {},
   "outputs": [
    {
     "data": {
      "text/plain": [
       "[1, 2, 4]"
      ]
     },
     "execution_count": 11,
     "metadata": {},
     "output_type": "execute_result"
    }
   ],
   "source": [
    "a.pop(2)\n",
    "a"
   ]
  },
  {
   "cell_type": "code",
   "execution_count": 9,
   "metadata": {},
   "outputs": [
    {
     "data": {
      "text/plain": [
       "4"
      ]
     },
     "execution_count": 9,
     "metadata": {},
     "output_type": "execute_result"
    }
   ],
   "source": [
    "a.pop(2)"
   ]
  },
  {
   "cell_type": "code",
   "execution_count": 28,
   "metadata": {},
   "outputs": [],
   "source": [
    "import random"
   ]
  },
  {
   "cell_type": "code",
   "execution_count": 39,
   "metadata": {},
   "outputs": [],
   "source": [
    "class RandomizedSet:\n",
    "\n",
    "    def __init__(self):\n",
    "        self.arr=[]\n",
    "        self.idx_map={}\n",
    "\n",
    "    def insert(self, val: int) -> bool:\n",
    "        if val not in self.idx_map:    \n",
    "            self.idx_map[val]=len(self.arr)\n",
    "            self.arr.append(val)\n",
    "            return True \n",
    "        else:\n",
    "            return False\n",
    "\n",
    "\n",
    "    def remove(self, val: int) -> bool:\n",
    "        if val in self.idx_map:\n",
    "            swap,idx=self.arr[-1],self.idx_map[val]\n",
    "            self.arr[idx]=swap\n",
    "            self.idx_map[swap]=idx\n",
    "            del self.idx_map[val]\n",
    "            self.arr.pop()\n",
    "            return True  \n",
    "        else:\n",
    "            return False\n",
    "    def getRandom(self) -> int:\n",
    "        return self.arr[random.randint(0,len(self.arr)-1)]\n"
   ]
  },
  {
   "cell_type": "code",
   "execution_count": 40,
   "metadata": {},
   "outputs": [
    {
     "name": "stdout",
     "output_type": "stream",
     "text": [
      "[1, 2]\n"
     ]
    },
    {
     "data": {
      "text/plain": [
       "[1]"
      ]
     },
     "execution_count": 40,
     "metadata": {},
     "output_type": "execute_result"
    }
   ],
   "source": [
    "obj = RandomizedSet()\n",
    "obj.insert(0)\n",
    "obj.insert(1)\n",
    "obj.remove(0)\n",
    "\n",
    "obj.insert(2)\n",
    "print(obj.arr)\n",
    "obj.remove(1)\n",
    "\n",
    "\n",
    "obj.arr"
   ]
  },
  {
   "cell_type": "code",
   "execution_count": 31,
   "metadata": {},
   "outputs": [
    {
     "data": {
      "text/plain": [
       "True"
      ]
     },
     "execution_count": 31,
     "metadata": {},
     "output_type": "execute_result"
    }
   ],
   "source": [
    "obj.remove(1)"
   ]
  },
  {
   "cell_type": "code",
   "execution_count": 32,
   "metadata": {},
   "outputs": [
    {
     "data": {
      "text/plain": [
       "[2]"
      ]
     },
     "execution_count": 32,
     "metadata": {},
     "output_type": "execute_result"
    }
   ],
   "source": [
    "obj.arr"
   ]
  },
  {
   "cell_type": "code",
   "execution_count": 33,
   "metadata": {},
   "outputs": [
    {
     "data": {
      "text/plain": [
       "2"
      ]
     },
     "execution_count": 33,
     "metadata": {},
     "output_type": "execute_result"
    }
   ],
   "source": [
    "obj.getRandom()"
   ]
  },
  {
   "cell_type": "code",
   "execution_count": 34,
   "metadata": {},
   "outputs": [
    {
     "data": {
      "text/plain": [
       "1"
      ]
     },
     "execution_count": 34,
     "metadata": {},
     "output_type": "execute_result"
    }
   ],
   "source": [
    "random.randint(0,1)"
   ]
  },
  {
   "cell_type": "code",
   "execution_count": null,
   "metadata": {},
   "outputs": [],
   "source": []
  }
 ],
 "metadata": {
  "kernelspec": {
   "display_name": "Python 3 (ipykernel)",
   "language": "python",
   "name": "python3"
  },
  "language_info": {
   "codemirror_mode": {
    "name": "ipython",
    "version": 3
   },
   "file_extension": ".py",
   "mimetype": "text/x-python",
   "name": "python",
   "nbconvert_exporter": "python",
   "pygments_lexer": "ipython3",
   "version": "3.7.11"
  }
 },
 "nbformat": 4,
 "nbformat_minor": 2
}
