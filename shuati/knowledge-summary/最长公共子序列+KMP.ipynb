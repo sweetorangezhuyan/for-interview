{
 "cells": [
  {
   "cell_type": "markdown",
   "id": "cda363bd",
   "metadata": {},
   "source": [
    "## 典型的动态规划"
   ]
  },
  {
   "cell_type": "code",
   "execution_count": null,
   "id": "cf74ba75",
   "metadata": {},
   "outputs": [],
   "source": [
    "## 构建二维数组dp[m+1][n+1],dp[i][j]表示text1[0:i]和text2[0:j]的最长公共子序列的长度\n",
    "### i=0,dp[0][:]=0; j=0,dp[:][0]=0\n",
    "### 状态转移方程：相等，则考虑前面字符串的匹配情况，不想等，则选择最大的匹配情况"
   ]
  },
  {
   "cell_type": "code",
   "execution_count": 7,
   "id": "a0a18b87",
   "metadata": {},
   "outputs": [],
   "source": [
    "def longestCommonSubsequence( text1, text2):\n",
    "    m,n=len(text1),len(text2)\n",
    "    #dp=[[0] for _ in range(n+1)]*(m+1)\n",
    "    dp = [[0] * (n + 1) for _ in range(m + 1)]\n",
    "    for i in range(1,m+1):\n",
    "        for j in range(1,n+1):\n",
    "            if text1[i-1]==text2[j-1]:\n",
    "                dp[i][j]=dp[i-1][j-1]+1\n",
    "            else:\n",
    "                dp[i][j]=max(dp[i-1][j],dp[i][j-1])\n",
    "    return dp[m][n]"
   ]
  },
  {
   "cell_type": "code",
   "execution_count": 8,
   "id": "3ce76dd1",
   "metadata": {},
   "outputs": [
    {
     "data": {
      "text/plain": [
       "2"
      ]
     },
     "execution_count": 8,
     "metadata": {},
     "output_type": "execute_result"
    }
   ],
   "source": [
    "longestCommonSubsequence('abcde','ab')"
   ]
  },
  {
   "cell_type": "markdown",
   "id": "fde87370",
   "metadata": {},
   "source": [
    "## KMP"
   ]
  },
  {
   "cell_type": "code",
   "execution_count": null,
   "id": "6a0e3cf1",
   "metadata": {},
   "outputs": [],
   "source": [
    "##url:https://zhuanlan.zhihu.com/p/105629613\n",
    "## PMT（Partial Match Table，部分匹配表） pmt[i]就是，从p[0]往后数、同时从p[i]往前数相同的位数,\n",
    "## 是真前缀与真后缀的集合之交集中，最长元素的长度\n",
    "### ABA 1\n",
    "### ABCDABC 3\n"
   ]
  },
  {
   "cell_type": "code",
   "execution_count": 25,
   "id": "f077dd08",
   "metadata": {},
   "outputs": [],
   "source": [
    "def get_pmt(s):\n",
    "    m=len(s)\n",
    "    j=0\n",
    "    pmt=[0]*m\n",
    "    for i in range(1,m):\n",
    "        while j and s[i]!=s[j]:## 目前不匹配，j往左退回，退回的程度是（i-1）的最长子串\n",
    "            j=pmt[j-1]\n",
    "        if s[i]==s[j]:## 相同，j向右移一位\n",
    "            j+=1\n",
    "        pmt[i]=j## \n",
    "    return pmt\n",
    "def kmp(s1,s2,pmt):\n",
    "    n,m=len(s1),len(s2)\n",
    "    j=0\n",
    "    count=0\n",
    "    for i in range(n):\n",
    "        while j and s1[i]!=s2[j]:\n",
    "            j=pmt[j-1]\n",
    "        if s1[i]==s2[j]:\n",
    "            j+=1\n",
    "        if j==m:## s2子串已匹配完成\n",
    "            count+=1\n",
    "            j=pmt[j-1]"
   ]
  },
  {
   "cell_type": "code",
   "execution_count": 26,
   "id": "5cfea8ac",
   "metadata": {},
   "outputs": [
    {
     "data": {
      "text/plain": [
       "[0, 0, 1, 2, 0, 1, 2, 3, 1]"
      ]
     },
     "execution_count": 26,
     "metadata": {},
     "output_type": "execute_result"
    }
   ],
   "source": [
    "get_pmt('ababcabaa')"
   ]
  },
  {
   "cell_type": "code",
   "execution_count": 22,
   "id": "5c212c66",
   "metadata": {},
   "outputs": [],
   "source": [
    "def maxRepeating(sequence,word):\n",
    "    n,m=len(sequence),len(word)\n",
    "    if n<m:\n",
    "        return 0\n",
    "    fail=[-1]*m\n",
    "    for i in range(1,m):\n",
    "        j=fail[i-1]\n",
    "        while j!=-1 and word[j+1]!=word[i]:\n",
    "            j=fail[i]\n",
    "        if word[j+1]==word[i]:## 前面字符和目前字符一致\n",
    "            fail[i]=j+1\n",
    "    #print(fail)\n",
    "    f=[0]*n\n",
    "    j=-1\n",
    "    for i in range(n):\n",
    "        #print(j+1,i)\n",
    "        while j!=-1 and word[j+1]!=sequence[i]:## j+1 当前\n",
    "            j=fail[j]\n",
    "        \n",
    "        if word[j+1]==sequence[i]:\n",
    "            j=j+1\n",
    "            if j==m-1:\n",
    "                f[i]=(0 if i==m-1 else f[i-m])+1## 更新\n",
    "                j=fail[j]\n",
    "        \n",
    "    #print(f)\n",
    "    return max(f)\n",
    "         "
   ]
  },
  {
   "cell_type": "code",
   "execution_count": 23,
   "id": "9a525824",
   "metadata": {},
   "outputs": [
    {
     "name": "stdout",
     "output_type": "stream",
     "text": [
      "[-1, -1]\n",
      "0 0\n",
      "0 1\n",
      "1 2\n",
      "0 3\n",
      "1 4\n",
      "[0, 0, 1, 0, 0]\n"
     ]
    },
    {
     "data": {
      "text/plain": [
       "1"
      ]
     },
     "execution_count": 23,
     "metadata": {},
     "output_type": "execute_result"
    }
   ],
   "source": [
    "maxRepeating('ababc','ba')"
   ]
  },
  {
   "cell_type": "code",
   "execution_count": null,
   "id": "8666879b",
   "metadata": {},
   "outputs": [],
   "source": []
  }
 ],
 "metadata": {
  "kernelspec": {
   "display_name": "Python 3 (ipykernel)",
   "language": "python",
   "name": "python3"
  },
  "language_info": {
   "codemirror_mode": {
    "name": "ipython",
    "version": 3
   },
   "file_extension": ".py",
   "mimetype": "text/x-python",
   "name": "python",
   "nbconvert_exporter": "python",
   "pygments_lexer": "ipython3",
   "version": "3.7.11"
  }
 },
 "nbformat": 4,
 "nbformat_minor": 5
}
