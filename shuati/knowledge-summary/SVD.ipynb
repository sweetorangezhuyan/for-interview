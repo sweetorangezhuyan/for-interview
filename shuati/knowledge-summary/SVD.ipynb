{
 "cells": [
  {
   "cell_type": "code",
   "execution_count": 1,
   "id": "d76f6a3f",
   "metadata": {},
   "outputs": [],
   "source": [
    "import numpy as np"
   ]
  },
  {
   "cell_type": "markdown",
   "id": "178c2094",
   "metadata": {},
   "source": [
    "1.$A=UΣV^T$ U是m阶正交矩阵，V是n阶正交矩阵，Σ是m×n矩形对角矩阵。\n",
    "\n",
    "2.任意给定一个实矩阵，其奇异值分解一定存在，且不唯一\n",
    "\n",
    "3.奇异值分解包括紧奇异值分解和截断奇异值分解。紧奇异值分解是与原始矩阵等秩的奇异值分解，截断奇异值分解是比原始矩阵低秩的奇异值分解。\n",
    "\n",
    "4.奇异值分解对应三个连续的线性变换：一个旋转变换，一个缩放变换和另一个旋转变换第一个和第三个旋转变换分别基于空间的标准正交基进行。\n",
    "\n",
    "5.奇异值分解可以看作是矩阵数据压缩的一种方法，即用因子分解的方式近似地表示原始矩阵，这种近似是在平方损失意义下的最优近似。\n"
   ]
  },
  {
   "cell_type": "code",
   "execution_count": 16,
   "id": "46be55bc",
   "metadata": {},
   "outputs": [],
   "source": [
    "def rebuildMatrix(U,sigma,V):\n",
    "    a=np.dot(U,sigma)\n",
    "    a=np.dot(a,np.transpose(V))\n",
    "    return a\n",
    "def sortByEigenValue(EigenValue,EigenVector):\n",
    "    index=np.argsort(-1*EigenValue)## 从大到小排\n",
    "    EigenValue=EigenValue[index]\n",
    "    EigenVector=EigenVector[:,index]\n",
    "    return EigenValue,EigenVector\n",
    "def SVD(matrixA,NumofLeft=None):\n",
    "    ##matrixA m*n\n",
    "    matrixAT_matrixA=np.dot(np.transpose(matrixA),A)\n",
    "    lambda_V,X_V=np.linalg.eig(matrixAT_matrixA)## 计算\n",
    "    lambda_V,X_V=sortByEigenValue(lambda_V,X_V)\n",
    "    \n",
    "    sigma=lambda_V\n",
    "    sigma=list(map(lambda x:np.sqrt(x) if x>0 else 0,sigma))\n",
    "    sigma=np.array(sigma)\n",
    "    sigmaMatrix=np.diag(sigma)## 对角矩阵\n",
    "    \n",
    "    if NumofLeft==None:\n",
    "        rankOfSigmaMatrix=len(list(filter(lambda x:x>0,sigma)))## 大于0的特征值的个数\n",
    "    else:\n",
    "        rankOfSigmaMatrix=NumofLeft\n",
    "    sigmaMatrix=sigmaMatrix[0:rankOfSigmaMatrix,:]## 选择前特征值\n",
    "    \n",
    "    ## 计算右奇异值\n",
    "    X_U=np.zeros((matrixA.shape[0],rankOfSigmaMatrix))\n",
    "    for i in range(rankOfSigmaMatrix):\n",
    "        #print((np.dot(matrixA,X_V[:,i])/sigma[i]).shape)\n",
    "        X_U[:,i]=np.transpose(np.dot(matrixA,X_V[:,i])/sigma[i])\n",
    "        \n",
    "    ## 对左奇异值和右奇异值进行裁剪\n",
    "    X_V=X_V[:,0:NumofLeft]\n",
    "    sigmaMatrix=sigmaMatrix[0:rankOfSigmaMatrix,0:rankOfSigmaMatrix]\n",
    "    \n",
    "    return X_U,sigmaMatrix,X_V\n",
    "    \n",
    "    "
   ]
  },
  {
   "cell_type": "code",
   "execution_count": 17,
   "id": "aa22257f",
   "metadata": {},
   "outputs": [
    {
     "data": {
      "text/plain": [
       "array([[1, 1, 1, 2, 2],\n",
       "       [0, 0, 0, 3, 3],\n",
       "       [0, 0, 0, 1, 1],\n",
       "       [1, 1, 1, 0, 0],\n",
       "       [2, 2, 2, 0, 0],\n",
       "       [5, 5, 5, 0, 0],\n",
       "       [1, 1, 1, 0, 0]])"
      ]
     },
     "execution_count": 17,
     "metadata": {},
     "output_type": "execute_result"
    }
   ],
   "source": [
    "\n",
    "A = np.array([[1, 1, 1, 2, 2], [0, 0, 0, 3, 3], [0, 0, 0, 1, 1], [1, 1, 1, 0, 0],\n",
    "              [2, 2, 2, 0, 0], [5, 5, 5, 0, 0], [1, 1, 1, 0, 0]])\n",
    "A"
   ]
  },
  {
   "cell_type": "code",
   "execution_count": 18,
   "id": "d68b2be4",
   "metadata": {},
   "outputs": [
    {
     "name": "stdout",
     "output_type": "stream",
     "text": [
      "(7,)\n",
      "(7,)\n",
      "(7,)\n"
     ]
    }
   ],
   "source": [
    "U,sigma,V=SVD(A,NumofLeft=3)"
   ]
  },
  {
   "cell_type": "code",
   "execution_count": 29,
   "id": "ad91ddb0",
   "metadata": {},
   "outputs": [
    {
     "data": {
      "text/plain": [
       "array([[ 1.00000000e+00, -5.45586904e-19, -1.65427991e-16],\n",
       "       [-5.45586904e-19,  1.00000000e+00, -5.35874657e-17],\n",
       "       [-1.65427991e-16, -5.35874657e-17,  1.00000000e+00]])"
      ]
     },
     "execution_count": 29,
     "metadata": {},
     "output_type": "execute_result"
    }
   ],
   "source": [
    "np.dot(np.transpose(V),V)"
   ]
  },
  {
   "cell_type": "code",
   "execution_count": 27,
   "id": "e9e5dfeb",
   "metadata": {},
   "outputs": [
    {
     "data": {
      "text/plain": [
       "array([[1., 0., 0.],\n",
       "       [0., 1., 0.],\n",
       "       [0., 0., 1.]])"
      ]
     },
     "execution_count": 27,
     "metadata": {},
     "output_type": "execute_result"
    }
   ],
   "source": [
    "np.eye(3)"
   ]
  },
  {
   "cell_type": "code",
   "execution_count": 12,
   "id": "fa248122",
   "metadata": {},
   "outputs": [
    {
     "data": {
      "text/plain": [
       "array([[ 1.00000000e+00,  1.00000000e+00,  1.00000000e+00,\n",
       "         2.00000000e+00,  2.00000000e+00],\n",
       "       [ 1.13027077e-16,  4.79271673e-16, -6.95284616e-16,\n",
       "         3.00000000e+00,  3.00000000e+00],\n",
       "       [ 4.53565824e-17,  1.72064044e-16, -2.19454720e-16,\n",
       "         1.00000000e+00,  1.00000000e+00],\n",
       "       [ 1.00000000e+00,  1.00000000e+00,  1.00000000e+00,\n",
       "        -1.68092791e-17, -1.68092791e-17],\n",
       "       [ 2.00000000e+00,  2.00000000e+00,  2.00000000e+00,\n",
       "        -3.36185582e-17, -3.36185582e-17],\n",
       "       [ 5.00000000e+00,  5.00000000e+00,  5.00000000e+00,\n",
       "        -1.46864029e-16, -1.46864029e-16],\n",
       "       [ 1.00000000e+00,  1.00000000e+00,  1.00000000e+00,\n",
       "        -1.38777878e-17, -1.38777878e-17]])"
      ]
     },
     "execution_count": 12,
     "metadata": {},
     "output_type": "execute_result"
    }
   ],
   "source": [
    "rebuildMatrix(U,sigma,V)"
   ]
  },
  {
   "cell_type": "code",
   "execution_count": null,
   "id": "d014c487",
   "metadata": {},
   "outputs": [],
   "source": []
  }
 ],
 "metadata": {
  "kernelspec": {
   "display_name": "Python 3 (ipykernel)",
   "language": "python",
   "name": "python3"
  },
  "language_info": {
   "codemirror_mode": {
    "name": "ipython",
    "version": 3
   },
   "file_extension": ".py",
   "mimetype": "text/x-python",
   "name": "python",
   "nbconvert_exporter": "python",
   "pygments_lexer": "ipython3",
   "version": "3.7.11"
  }
 },
 "nbformat": 4,
 "nbformat_minor": 5
}
