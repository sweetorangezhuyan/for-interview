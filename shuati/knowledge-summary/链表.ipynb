{
 "cells": [
  {
   "cell_type": "code",
   "execution_count": 2,
   "metadata": {
    "collapsed": true
   },
   "outputs": [],
   "source": [
    "#定义链表结构体\n",
    "class ListNode(object):\n",
    "    def __init__(self,val=0,next_n=None):\n",
    "        self.val=val\n",
    "        self.next=next_n\n",
    "    "
   ]
  },
  {
   "cell_type": "code",
   "execution_count": 25,
   "metadata": {
    "collapsed": true
   },
   "outputs": [],
   "source": [
    "class Solution:\n",
    "    def removeElements(self, head: ListNode, val: int) -> ListNode:\n",
    "        h_node=ListNode()#头节点\n",
    "        h_node.next=head\n",
    "        now_node=ListNode()#记录当前节点内容的节点\n",
    "        now_node=h_node\n",
    "        if h_node.next ==None:\n",
    "            return head\n",
    "        while now_node.next !=None:\n",
    "            if now_node.next.val==val:\n",
    "                now_node.next=now_node.next.next\n",
    "            else:\n",
    "                now_node=now_node.next\n",
    "        return h_node.next\n",
    "            "
   ]
  },
  {
   "cell_type": "code",
   "execution_count": 26,
   "metadata": {
    "collapsed": true
   },
   "outputs": [],
   "source": [
    "def bulid_listnode(list_var):\n",
    "    if len(list_var)==0:\n",
    "        return None\n",
    "    head=ListNode(val=list_var[0])\n",
    "    if len(list_var)==1:\n",
    "        return head\n",
    "    now_node=ListNode()\n",
    "    now_node=head\n",
    "    for i in range(1,len(list_var)):\n",
    "        node=ListNode(val=list_var[i])\n",
    "        now_node.next=node\n",
    "        now_node=node\n",
    "    return head"
   ]
  },
  {
   "cell_type": "code",
   "execution_count": 27,
   "metadata": {
    "collapsed": true
   },
   "outputs": [],
   "source": [
    "head1=bulid_listnode([7,7,6])"
   ]
  },
  {
   "cell_type": "code",
   "execution_count": 28,
   "metadata": {
    "collapsed": false
   },
   "outputs": [],
   "source": [
    "\n",
    "so=Solution()\n",
    "end_node=so.removeElements(head1,7)\n",
    "while end_node.next !=None:\n",
    "    print(end_node.val)\n",
    "    end_node=end_node.next"
   ]
  },
  {
   "cell_type": "code",
   "execution_count": null,
   "metadata": {
    "collapsed": true
   },
   "outputs": [],
   "source": []
  }
 ],
 "metadata": {
  "kernelspec": {
   "display_name": "PyCharm (get224)",
   "language": "python",
   "name": "pycharm-32bf5a86"
  },
  "language_info": {
   "codemirror_mode": {
    "name": "ipython",
    "version": 3
   },
   "file_extension": ".py",
   "mimetype": "text/x-python",
   "name": "python",
   "nbconvert_exporter": "python",
   "pygments_lexer": "ipython3",
   "version": "3.7.11"
  }
 },
 "nbformat": 4,
 "nbformat_minor": 2
}
