{
 "cells": [
  {
   "cell_type": "markdown",
   "id": "6645b4fe",
   "metadata": {},
   "source": [
    "## 课程表-- 图\n",
    " 有向无环图、拓扑排序"
   ]
  },
  {
   "cell_type": "code",
   "execution_count": null,
   "id": "3c59dbd9",
   "metadata": {},
   "outputs": [],
   "source": [
    "def canFinish(numCourses, prerequisites):\n",
    "    #课程安排图是否是 有向无环图(DAG)。即课程间规定了前置条件，但不能构成任何环路，否则课程前置条件将不成立。\n",
    "    # BFS,借助queue\n",
    "    indegrees=[0]*numCourses## 记录节点入度\n",
    "    adjacency=[[] for _ in range(numCourses)]## 节点的临界表，记录其后缀节点\n",
    "    queue=[]# 队列\n",
    "    ## update indegree and adjacency\n",
    "    for cur,pre in prerequisites:\n",
    "        indegrees[cur]+=1\n",
    "        adjacency[pre].append(cur)\n",
    "    ## get all courses with indegree of 0\n",
    "    for i in range(numCourses):\n",
    "        if indegrees[i]==0:\n",
    "            queue.append(i)\n",
    "    # bfs\n",
    "    while queue:\n",
    "        pre=queue.pop(0)\n",
    "        numCourses-=1\n",
    "        for cur in adjacency[pre]:\n",
    "            indegrees[cur]-=1\n",
    "            if indegrees[cur]==0:\n",
    "                queue.append(cur)\n",
    "    return not numCourses"
   ]
  },
  {
   "cell_type": "code",
   "execution_count": null,
   "id": "f6de29d3",
   "metadata": {},
   "outputs": [],
   "source": [
    "def canFinish_DFS(numCourses, prerequisites):\n",
    "    def dfs(i,adjacency,flags):\n",
    "        if flags[i]==-1:## 当前节点已被其他节点启动，无需再重复搜索\n",
    "            return True\n",
    "        if flags[i]==1:## 本轮的dfs搜索中节点i被第二次访问，有环\n",
    "            return False\n",
    "        flags[i]=1## 未被访问的节点 设为1 ，表示被访问\n",
    "        for j in adjacency[i]:\n",
    "            if not dfs(j,adjacency,flags):\n",
    "                return False\n",
    "        flags[i]=-1\n",
    "        return True\n",
    "    adjacency=[[] for _ in range(numCourses)]\n",
    "    flags=[0]*numCourses\n",
    "    for cur,pre in prerequisites:\n",
    "        adjacency[pre].append(cur)\n",
    "    for i in range(numCourses):\n",
    "        if not dfs(i,adjacency,flags):\n",
    "            return False\n",
    "    return True"
   ]
  },
  {
   "cell_type": "markdown",
   "id": "ec8bbe6f",
   "metadata": {},
   "source": [
    "## 课程表2\n",
    "返回你为了学完所有课程所安排的学习顺序。可能会有多个正确的顺序，你只要返回 任意一种 就可以了。如果不可能完成所有课程，返回 一个空数组 "
   ]
  },
  {
   "cell_type": "code",
   "execution_count": 4,
   "id": "0b5a4e6f",
   "metadata": {},
   "outputs": [],
   "source": [
    "def canFinish_BFS(numCourses, prerequisites):\n",
    "    indegrees=[0]*numCourses\n",
    "    adjacency=[[] for _ in range(numCourses)]\n",
    "    queue=[]\n",
    "    re=[]\n",
    "    for cur,pre in prerequisites:\n",
    "        indegrees[cur]+=1\n",
    "        adjacency[pre].append(cur)\n",
    "    for i in range(numCourses):\n",
    "        if indegrees[i]==0:\n",
    "            queue.append(i)\n",
    "    while queue:\n",
    "        cour=queue.pop(0)\n",
    "        numCourses-=1\n",
    "        re.append(cour)\n",
    "        for cur in adjacency[cour]:\n",
    "            indegrees[cur]-=1\n",
    "            if not indegrees[cur]:\n",
    "                queue.append(cur)\n",
    "    if not numCourses:\n",
    "        return re\n",
    "    else:\n",
    "        return[]"
   ]
  },
  {
   "cell_type": "code",
   "execution_count": 10,
   "id": "d81a2f82",
   "metadata": {},
   "outputs": [
    {
     "data": {
      "text/plain": [
       "[0, 1, 2, 3]"
      ]
     },
     "execution_count": 10,
     "metadata": {},
     "output_type": "execute_result"
    }
   ],
   "source": [
    "canFinish_BFS(4,[])"
   ]
  },
  {
   "cell_type": "code",
   "execution_count": null,
   "id": "41b75522",
   "metadata": {},
   "outputs": [],
   "source": []
  }
 ],
 "metadata": {
  "kernelspec": {
   "display_name": "Python 3 (ipykernel)",
   "language": "python",
   "name": "python3"
  },
  "language_info": {
   "codemirror_mode": {
    "name": "ipython",
    "version": 3
   },
   "file_extension": ".py",
   "mimetype": "text/x-python",
   "name": "python",
   "nbconvert_exporter": "python",
   "pygments_lexer": "ipython3",
   "version": "3.7.11"
  }
 },
 "nbformat": 4,
 "nbformat_minor": 5
}
