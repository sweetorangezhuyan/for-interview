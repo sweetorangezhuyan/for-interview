{
 "cells": [
  {
   "cell_type": "markdown",
   "metadata": {},
   "source": [
    "# 用python实现k-means算法"
   ]
  },
  {
   "cell_type": "markdown",
   "metadata": {},
   "source": [
    "## 1.为待聚类的点随机寻找聚类中心\n",
    "## 2.计算每个点到聚类中心的距离，将各个点归类到离该点最近的聚类中心去\n",
    "## 3.计算每个聚类中所有点的平均值，并将这个平均值作为新的聚类中心\n",
    "## 重复2-3，直到聚类中心不再进行大范围移动或者聚类次数达到迭代要求"
   ]
  },
  {
   "cell_type": "code",
   "execution_count": 2,
   "metadata": {
    "collapsed": true
   },
   "outputs": [],
   "source": [
    "import numpy as np\n",
    "from matplotlib import pyplot"
   ]
  },
  {
   "cell_type": "code",
   "execution_count": 7,
   "metadata": {
    "collapsed": true
   },
   "outputs": [],
   "source": [
    "class K_Means(object):\n",
    "    # k为簇的个数，tolerance‘中心误差点’，max_iter迭代次数\n",
    "    def __init__(self,k=2,tolerance=0.0001,max_iter=300):\n",
    "        self.k_=k\n",
    "        self.tolerance_=tolerance\n",
    "        self.max_iter_=max_iter\n",
    "    def fit(self,data):\n",
    "        self.centers_={}\n",
    "        #初始化聚类中心\n",
    "        for i in range(self.k_):\n",
    "            self.centers_[i]=data[i]\n",
    "        #进行迭代\n",
    "        for i in range(self.max_iter_):\n",
    "            self.cls_={}\n",
    "            for i in range(self.k_):\n",
    "                self.cls_[i]=[]\n",
    "            for feature in data:\n",
    "                distances=[]\n",
    "                for center in self.centers_:\n",
    "                    #欧式距离\n",
    "                    distances.append(np.linalg.norm(feature-self.centers_[center]))\n",
    "                classfication=distances.index(min(distances))#分类结果\n",
    "                self.cls_[classfication].append(feature)\n",
    "            # 更新聚类中心\n",
    "            prev_centers=dict(self.centers_)\n",
    "            for c in self.cls_:\n",
    "                self.centers_[c]=np.average(self.cls_[c],axis=0)\n",
    "            # '中心点'是否在误差范围\n",
    "            optimized=True\n",
    "            for center in self.centers_:\n",
    "                org_center=prev_centers[center]\n",
    "                cur_center=self.centers_[center]\n",
    "                if np.sum((cur_center-org_center)/cur_center*100)>self.tolerance_:\n",
    "                    optimized=False\n",
    "            #聚类中心不再进行大范围移动\n",
    "            if optimized:\n",
    "                break\n",
    "    def predict(self,p_data):\n",
    "        distances=[np.linalg.norm(p_data-self.centers_[center]) for center in self.centers_]\n",
    "        index=distances.index(min(distances))\n",
    "        return index"
   ]
  },
  {
   "cell_type": "code",
   "execution_count": 8,
   "metadata": {
    "collapsed": false
   },
   "outputs": [
    {
     "name": "stdout",
     "output_type": "stream",
     "text": [
      "{0: array([1.16666667, 1.46666667]), 1: array([7.33333333, 9.        ])}\n"
     ]
    },
    {
     "data": {
      "image/png": "[encoded data removed]",
      "text/plain": [
       "<Figure size 432x288 with 1 Axes>"
      ]
     },
     "metadata": {
      "needs_background": "light"
     },
     "output_type": "display_data"
    }
   ],
   "source": [
    "x = np.array([[1, 2], [1.5, 1.8], [5, 8], [8, 8], [1, 0.6], [9, 11]])\n",
    "k_means = K_Means(k=2)\n",
    "k_means.fit(x)\n",
    "print(k_means.centers_)\n",
    "for center in k_means.centers_:\n",
    "    pyplot.scatter(k_means.centers_[center][0], k_means.centers_[center][1], marker='*', s=150)\n",
    "for cat in k_means.cls_:\n",
    "    for point in k_means.cls_[cat]:\n",
    "        pyplot.scatter(point[0],point[1],c=('r' if cat==0 else 'b'))\n",
    "predicts=[[2,2],[6,9]]\n",
    "for feature in predicts:\n",
    "    cat=k_means.predict(feature)# 预测的类别\n",
    "    pyplot.scatter(feature[0],feature[1],c=('r' if cat==0 else 'b'),marker='x')"
   ]
  },
  {
   "cell_type": "markdown",
   "metadata": {},
   "source": [
    "## Masked attention\n",
    "## 对于第$i$个token，只与$0...i$个token有关，不考虑$i$后面的token"
   ]
  },
  {
   "cell_type": "code",
   "execution_count": 9,
   "metadata": {
    "collapsed": true
   },
   "outputs": [],
   "source": [
    "import torch "
   ]
  },
  {
   "cell_type": "code",
   "execution_count": 10,
   "metadata": {
    "collapsed": true
   },
   "outputs": [],
   "source": [
    "X=torch.randn((4,10))\n",
    "W_Q=torch.randn((10,20))\n",
    "W_K=torch.randn((10,20))\n",
    "W_V=torch.randn((10,20))\n"
   ]
  },
  {
   "cell_type": "code",
   "execution_count": 13,
   "metadata": {
    "collapsed": true
   },
   "outputs": [],
   "source": [
    "Q=torch.mm(X,W_Q)\n",
    "K=torch.mm(X,W_K)\n",
    "V=torch.mm(X,W_V)"
   ]
  },
  {
   "cell_type": "code",
   "execution_count": 30,
   "metadata": {
    "collapsed": false
   },
   "outputs": [
    {
     "data": {
      "text/plain": [
       "torch.Size([4, 4])"
      ]
     },
     "execution_count": 30,
     "metadata": {},
     "output_type": "execute_result"
    }
   ],
   "source": [
    "weight=torch.mm(Q,torch.transpose(K,1,0))\n",
    "weight.shape"
   ]
  },
  {
   "cell_type": "code",
   "execution_count": 31,
   "metadata": {
    "collapsed": false
   },
   "outputs": [
    {
     "data": {
      "text/plain": [
       "tensor([[1., -inf, -inf, -inf],\n",
       "        [1., 1., -inf, -inf],\n",
       "        [1., 1., 1., -inf],\n",
       "        [1., 1., 1., 1.]])"
      ]
     },
     "execution_count": 31,
     "metadata": {},
     "output_type": "execute_result"
    }
   ],
   "source": [
    "M=torch.ones((4,4))\n",
    "for i in range(0,len(M)):\n",
    "    for j in range(0,len(M[0])):\n",
    "        if i<j:\n",
    "            M[i,j]=float(\"-inf\")\n",
    "M"
   ]
  },
  {
   "cell_type": "code",
   "execution_count": 39,
   "metadata": {
    "collapsed": false
   },
   "outputs": [
    {
     "data": {
      "text/plain": [
       "tensor([[3.6945e-19, 8.6817e-05, 1.4013e-45, 9.9991e-01],\n",
       "        [2.5924e-21, 1.0000e+00, 5.0276e-38, 1.6760e-17],\n",
       "        [9.0568e-31, 8.9451e-39, 1.0000e+00, 1.0489e-38],\n",
       "        [5.0348e-21, 1.0000e+00, 1.8555e-35, 1.0188e-08]])"
      ]
     },
     "execution_count": 39,
     "metadata": {},
     "output_type": "execute_result"
    }
   ],
   "source": [
    "weight=torch.softmax(weight,dim=1)\n",
    "weight\n"
   ]
  },
  {
   "cell_type": "code",
   "execution_count": 40,
   "metadata": {
    "collapsed": false
   },
   "outputs": [
    {
     "data": {
      "text/plain": [
       "tensor([[3.6945e-19,       -inf,       -inf,       -inf],\n",
       "        [2.5924e-21, 1.0000e+00,       -inf,       -inf],\n",
       "        [9.0568e-31, 8.9451e-39, 1.0000e+00,       -inf],\n",
       "        [5.0348e-21, 1.0000e+00, 1.8555e-35, 1.0188e-08]])"
      ]
     },
     "execution_count": 40,
     "metadata": {},
     "output_type": "execute_result"
    }
   ],
   "source": [
    "weight_fi=weight*M \n",
    "weight_fi"
   ]
  },
  {
   "cell_type": "code",
   "execution_count": 41,
   "metadata": {
    "collapsed": false
   },
   "outputs": [
    {
     "data": {
      "text/plain": [
       "tensor([[1.0000, 0.0000, 0.0000, 0.0000],\n",
       "        [0.2689, 0.7311, 0.0000, 0.0000],\n",
       "        [0.2119, 0.2119, 0.5761, 0.0000],\n",
       "        [0.1749, 0.4754, 0.1749, 0.1749]])"
      ]
     },
     "execution_count": 41,
     "metadata": {},
     "output_type": "execute_result"
    }
   ],
   "source": [
    "weight_fi=torch.softmax(weight_fi,dim=1)\n",
    "weight_fi"
   ]
  },
  {
   "cell_type": "code",
   "execution_count": 43,
   "metadata": {
    "collapsed": false
   },
   "outputs": [
    {
     "data": {
      "text/plain": [
       "tensor([[-8.3653e-01, -1.7534e-01, -1.1007e+00,  1.1704e+00,  4.5017e+00,\n",
       "         -4.2089e+00,  2.2445e+00,  1.4882e+00,  1.0894e+00,  5.8876e-01,\n",
       "         -3.1278e-03,  2.3819e+00,  7.5268e-01, -4.2440e-01, -2.0751e+00,\n",
       "          1.0800e+00, -3.7827e+00,  2.5643e+00, -1.2950e+00, -4.2986e+00],\n",
       "        [ 1.7368e+00,  1.1286e+00,  7.9239e-01, -1.4574e+00,  1.0840e+00,\n",
       "          7.7133e-01, -2.2065e+00, -2.3728e+00,  6.1001e-01,  3.4452e+00,\n",
       "          1.2808e+00, -1.5998e+00,  5.7868e+00,  7.9472e-01,  1.3784e+00,\n",
       "          1.8769e+00,  2.5356e+00, -5.2290e-01,  3.9733e+00, -1.0739e+00],\n",
       "        [-1.7081e+00, -1.2981e+00, -4.7731e+00, -3.8299e+00, -2.9048e+00,\n",
       "         -4.5694e+00, -2.7163e+00, -4.3415e+00,  4.8237e-01,  1.7230e-01,\n",
       "         -1.0619e+00, -7.4238e-01,  5.9505e+00, -2.7890e+00, -2.6351e+00,\n",
       "          3.9709e+00,  1.1203e+00,  4.5517e+00,  6.4603e+00,  1.0005e+00],\n",
       "        [ 1.1911e+00, -1.5734e+00,  7.4137e-02, -1.6040e+00,  1.7254e+00,\n",
       "         -2.3717e+00,  1.5402e+00,  1.4788e+00,  1.8063e+00,  1.2991e+00,\n",
       "          5.0440e-02,  1.4540e+00,  2.7598e+00, -3.3111e-01, -1.1368e+00,\n",
       "          3.1434e+00, -3.6469e+00, -1.2104e-01, -1.9842e-01, -1.3728e+00]])"
      ]
     },
     "execution_count": 43,
     "metadata": {},
     "output_type": "execute_result"
    }
   ],
   "source": [
    "V"
   ]
  },
  {
   "cell_type": "code",
   "execution_count": 42,
   "metadata": {
    "collapsed": false
   },
   "outputs": [
    {
     "data": {
      "text/plain": [
       "tensor([[-8.3653e-01, -1.7534e-01, -1.1007e+00,  1.1704e+00,  4.5017e+00,\n",
       "         -4.2089e+00,  2.2445e+00,  1.4882e+00,  1.0894e+00,  5.8876e-01,\n",
       "         -3.1278e-03,  2.3819e+00,  7.5268e-01, -4.2440e-01, -2.0751e+00,\n",
       "          1.0800e+00, -3.7827e+00,  2.5643e+00, -1.2950e+00, -4.2986e+00],\n",
       "        [ 1.0447e+00,  7.7795e-01,  2.8327e-01, -7.5067e-01,  2.0032e+00,\n",
       "         -5.6805e-01, -1.0094e+00, -1.3344e+00,  7.3892e-01,  2.6770e+00,\n",
       "          9.3552e-01, -5.2895e-01,  4.4329e+00,  4.6685e-01,  4.4963e-01,\n",
       "          1.6626e+00,  8.3635e-01,  3.0738e-01,  2.5564e+00, -1.9411e+00],\n",
       "        [-7.9328e-01, -5.4583e-01, -2.8152e+00, -2.2673e+00, -4.8965e-01,\n",
       "         -3.3611e+00, -1.5568e+00, -2.6887e+00,  6.3807e-01,  9.5423e-01,\n",
       "         -3.4100e-01, -2.6193e-01,  4.8142e+00, -1.5283e+00, -1.6658e+00,\n",
       "          2.9144e+00,  3.8110e-01,  3.0550e+00,  4.2895e+00, -5.6223e-01],\n",
       "        [ 5.8890e-01,  3.6830e-03, -6.3755e-01, -1.4384e+00,  1.0963e+00,\n",
       "         -1.5832e+00, -8.6205e-01, -1.3683e+00,  8.8072e-01,  1.9980e+00,\n",
       "          4.3143e-01, -2.1950e-01,  4.4057e+00, -2.4207e-01, -3.6725e-01,\n",
       "          2.3252e+00,  1.0199e-01,  9.7469e-01,  2.7574e+00, -1.3273e+00]])"
      ]
     },
     "execution_count": 42,
     "metadata": {},
     "output_type": "execute_result"
    }
   ],
   "source": [
    "att_V=torch.mm(weight_fi,V)\n",
    "att_V"
   ]
  },
  {
   "cell_type": "markdown",
   "metadata": {},
   "source": [
    "## cross-attention "
   ]
  },
  {
   "cell_type": "code",
   "execution_count": null,
   "metadata": {
    "collapsed": true
   },
   "outputs": [],
   "source": []
  }
 ],
 "metadata": {
  "kernelspec": {
   "display_name": "Python 3",
   "language": "python",
   "name": "python3"
  },
  "language_info": {
   "codemirror_mode": {
    "name": "ipython",
    "version": 3
   },
   "file_extension": ".py",
   "mimetype": "text/x-python",
   "name": "python",
   "nbconvert_exporter": "python",
   "pygments_lexer": "ipython3",
   "version": "3.6.0"
  }
 },
 "nbformat": 4,
 "nbformat_minor": 5
}
