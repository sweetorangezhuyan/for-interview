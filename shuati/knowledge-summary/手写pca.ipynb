{
 "cells": [
  {
   "cell_type": "markdown",
   "metadata": {},
   "source": [
    "# PCA算法"
   ]
  },
  {
   "cell_type": "markdown",
   "metadata": {},
   "source": [
    "#### 数据降维技术，用于数据预处理"
   ]
  },
  {
   "cell_type": "markdown",
   "metadata": {},
   "source": [
    "1. 对原始数进行零均值化,对每个特征获取一个均值，newdata=mean-data\n",
    "2. 求协方差矩阵 \n",
    "3. 对协方差矩阵求特征值和特征向量 \n",
    "4. 特征向量构成新的特征空间 "
   ]
  },
  {
   "cell_type": "code",
   "execution_count": 3,
   "metadata": {
    "collapsed": true
   },
   "outputs": [],
   "source": [
    "import numpy as np"
   ]
  },
  {
   "cell_type": "code",
   "execution_count": 11,
   "metadata": {},
   "outputs": [
    {
     "name": "stdout",
     "output_type": "stream",
     "text": [
      "[[1 7 5]\n",
      " [4 9 5]]\n",
      "[[4.5 3.  0. ]\n",
      " [3.  2.  0. ]\n",
      " [0.  0.  0. ]]\n",
      "[6.5 0.  0. ]\n",
      "[0.  0.  6.5]\n"
     ]
    }
   ],
   "source": [
    "aa=np.random.randint(1,10,size=((2,3)))\n",
    "print(aa)\n",
    "print(np.cov(aa,rowvar=0))\n",
    "eigVals,eigVects=np.linalg.eig(np.mat(np.cov(aa,rowvar=0)))\n",
    "print(eigVals)\n",
    "print(abs(np.sort(-eigVals)))"
   ]
  },
  {
   "cell_type": "code",
   "execution_count": 14,
   "metadata": {},
   "outputs": [
    {
     "name": "stdout",
     "output_type": "stream",
     "text": [
      "[6.5 0.  0. ]\n"
     ]
    }
   ],
   "source": [
    "print(abs(np.sort(-eigVals)))"
   ]
  },
  {
   "cell_type": "code",
   "execution_count": 64,
   "metadata": {
    "collapsed": true
   },
   "outputs": [],
   "source": [
    "class PCA(object):\n",
    "    '''\n",
    "    data:每一行代表一个样本，每一列代表一个特征 \n",
    "    '''\n",
    "    def __init__(self,n=2,n_index=None):\n",
    "        self.n_=n#将数据降到多少维\n",
    "        self.n_index=n_index\n",
    "    def ZeroMean(self,data):\n",
    "        meanVal=np.mean(data,axis=0)#列上求均值，各个特征求均值,得到的维度维特征的个数\n",
    "        newdata=meanVal-data\n",
    "        return newdata,meanVal\n",
    "    def fit(self,data):\n",
    "        #1.零均值化\n",
    "        newdata,self.meanVal=self.ZeroMean(data)\n",
    "        #2.求协方差矩阵\n",
    "        conv=np.cov(newdata,rowvar=0)#rowvar=0表示每一行代表一个样本\n",
    "        #3.求特征值和特征向量\n",
    "        eigVals,eigVects=np.linalg.eig(np.mat(conv))\n",
    "        #4.特征值进行排序选择\n",
    "        index=np.argsort(eigVals)#从小到大索引\n",
    "        self.n_index=index[-1:-(self.n_+1):-1]\n",
    "        self.n_eigvects=eigVects[:,self.n_index]#以前的维度*新维度\n",
    "        lowData=newdata*self.n_eigvects##低维特征空间的数据\n",
    "        #recondata=(lowData*self.n_index.T)+self.meanVal#重构原始数据\n",
    "        return lowData\n",
    "    def transform(self,tr_data):\n",
    "        z_data=self.meanVal-tr_data\n",
    "        low_data=z_data*self.n_eigvects\n",
    "        return low_data"
   ]
  },
  {
   "cell_type": "code",
   "execution_count": 65,
   "metadata": {
    "collapsed": true
   },
   "outputs": [],
   "source": [
    "pca=PCA(n=2)"
   ]
  },
  {
   "cell_type": "code",
   "execution_count": 17,
   "metadata": {
    "collapsed": true
   },
   "outputs": [],
   "source": [
    "train_data=np.random.randint(1,100,size=(10,5))\n",
    "test_data=np.random.randint(1,100,size=(1,5))"
   ]
  },
  {
   "cell_type": "code",
   "execution_count": 66,
   "metadata": {},
   "outputs": [
    {
     "name": "stdout",
     "output_type": "stream",
     "text": [
      "[[ 42.00903012  21.58489897]\n",
      " [ 78.23840566   3.47984362]\n",
      " [-22.67147693 -44.35764242]\n",
      " [  2.90441108  18.79098394]\n",
      " [-16.7569616   62.23488274]\n",
      " [ -2.04792867 -30.1525481 ]\n",
      " [ -5.1844683    3.80842028]\n",
      " [ -1.75644278 -43.17410031]\n",
      " [ -2.84812121 -10.9296429 ]\n",
      " [-71.88644737  18.71490418]]\n"
     ]
    }
   ],
   "source": [
    "low_data=pca.fit(train_data)\n",
    "print(low_data)"
   ]
  },
  {
   "cell_type": "code",
   "execution_count": 67,
   "metadata": {
    "collapsed": true
   },
   "outputs": [],
   "source": [
    "test_low=pca.transform(test_data)"
   ]
  },
  {
   "cell_type": "code",
   "execution_count": 68,
   "metadata": {},
   "outputs": [
    {
     "data": {
      "text/plain": [
       "matrix([[ 80.30940305, -15.5256718 ]])"
      ]
     },
     "execution_count": 68,
     "metadata": {},
     "output_type": "execute_result"
    }
   ],
   "source": [
    "test_low"
   ]
  },
  {
   "cell_type": "code",
   "execution_count": 30,
   "metadata": {
    "collapsed": true
   },
   "outputs": [],
   "source": [
    "from matplotlib import pyplot\n"
   ]
  },
  {
   "cell_type": "code",
   "execution_count": 52,
   "metadata": {},
   "outputs": [
    {
     "name": "stdout",
     "output_type": "stream",
     "text": [
      "[4 3]\n"
     ]
    }
   ],
   "source": [
    "print(pca.n_index)"
   ]
  },
  {
   "cell_type": "code",
   "execution_count": 69,
   "metadata": {},
   "outputs": [
    {
     "data": {
      "image/png": "[encoded data removed]",
      "text/plain": [
       "<matplotlib.figure.Figure at 0x7f9e19dc0cc0>"
      ]
     },
     "metadata": {},
     "output_type": "display_data"
    }
   ],
   "source": [
    "for data in low_data:\n",
    "    data=np.array(data)[0]\n",
    "    #print(data[0])\n",
    "    pyplot.scatter(data[0],data[1],c='r')\n",
    "for data in train_data:\n",
    "    pyplot.scatter(data[4],data[3],c='b')\n",
    "pyplot.show()"
   ]
  },
  {
   "cell_type": "markdown",
   "metadata": {},
   "source": [
    "## sklearn 测试"
   ]
  },
  {
   "cell_type": "code",
   "execution_count": 55,
   "metadata": {},
   "outputs": [],
   "source": [
    "from sklearn.decomposition import PCA"
   ]
  },
  {
   "cell_type": "code",
   "execution_count": 56,
   "metadata": {
    "collapsed": true
   },
   "outputs": [],
   "source": [
    "pca=PCA(n_components=2)"
   ]
  },
  {
   "cell_type": "code",
   "execution_count": 57,
   "metadata": {},
   "outputs": [
    {
     "data": {
      "text/plain": [
       "array([[ 42.00903012,  21.58489897],\n",
       "       [ 78.23840566,   3.47984362],\n",
       "       [-22.67147693, -44.35764242],\n",
       "       [  2.90441108,  18.79098394],\n",
       "       [-16.7569616 ,  62.23488274],\n",
       "       [ -2.04792867, -30.1525481 ],\n",
       "       [ -5.1844683 ,   3.80842028],\n",
       "       [ -1.75644278, -43.17410031],\n",
       "       [ -2.84812121, -10.9296429 ],\n",
       "       [-71.88644737,  18.71490418]])"
      ]
     },
     "execution_count": 57,
     "metadata": {},
     "output_type": "execute_result"
    }
   ],
   "source": [
    "y=pca.fit_transform(train_data)\n",
    "y "
   ]
  },
  {
   "cell_type": "code",
   "execution_count": 58,
   "metadata": {},
   "outputs": [
    {
     "data": {
      "text/plain": [
       "array([[ 80.30940305, -15.5256718 ]])"
      ]
     },
     "execution_count": 58,
     "metadata": {},
     "output_type": "execute_result"
    }
   ],
   "source": [
    "pca.transform(test_data)"
   ]
  },
  {
   "cell_type": "code",
   "execution_count": null,
   "metadata": {
    "collapsed": true
   },
   "outputs": [],
   "source": []
  }
 ],
 "metadata": {
  "kernelspec": {
   "display_name": "Python 3 (ipykernel)",
   "language": "python",
   "name": "python3"
  },
  "language_info": {
   "codemirror_mode": {
    "name": "ipython",
    "version": 3
   },
   "file_extension": ".py",
   "mimetype": "text/x-python",
   "name": "python",
   "nbconvert_exporter": "python",
   "pygments_lexer": "ipython3",
   "version": "3.7.11"
  }
 },
 "nbformat": 4,
 "nbformat_minor": 2
}
